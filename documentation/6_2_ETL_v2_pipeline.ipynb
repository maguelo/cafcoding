{
  "nbformat": 4,
  "nbformat_minor": 0,
  "metadata": {
    "colab": {
      "name": "6.2.ETL v2 pipeline.ipynb",
      "provenance": [],
      "collapsed_sections": []
    },
    "kernelspec": {
      "display_name": "Python 3",
      "name": "python3"
    }
  },
  "cells": [
    {
      "cell_type": "markdown",
      "metadata": {
        "id": "-ve4auK2LD_B"
      },
      "source": [
        "# Analisis exploratorio inicial de datos de CAF\n",
        "\n",
        "### 2. Proceso ETL\n",
        "- Carga de datos de parquet a pandas\n",
        "- Limpieza inicial de los datos\n",
        "- Tratamiento de datos categoricos\n",
        "- Tratamiento del campo fecha\n",
        "- Convertir el campo indice en fecha\n",
        "- Comprobacion de la frequencia de muestreo\n",
        "- Ajuste del dataset a la frequencia de muestreo\n",
        "\n",
        "### V2\n",
        "- Deteccion del tren parado\n",
        "- Pendientes\n",
        "- Datos climatologicos\n",
        "\n"
      ]
    },
    {
      "cell_type": "code",
      "metadata": {
        "colab": {
          "base_uri": "https://localhost:8080/"
        },
        "id": "lhMIj2wWjiAo",
        "outputId": "703a801d-c579-4623-dfb1-2fe161025d24"
      },
      "source": [
        "!pip install git+https://github.com/maguelo/cafcoding.git#egg=cafcoding"
      ],
      "execution_count": null,
      "outputs": [
        {
          "output_type": "stream",
          "text": [
            "Collecting s3fs\n",
            "  Downloading https://files.pythonhosted.org/packages/08/86/bcabd656a78122c7642a16ce2ea77347b77888b2fcde43bd2e925e393c64/s3fs-0.6.0-py3-none-any.whl\n",
            "Collecting fsspec>=0.8.0\n",
            "\u001b[?25l  Downloading https://files.pythonhosted.org/packages/e9/91/2ef649137816850fa4f4c97c6f2eabb1a79bf0aa2c8ed198e387e373455e/fsspec-2021.4.0-py3-none-any.whl (108kB)\n",
            "\u001b[K     |████████████████████████████████| 112kB 6.8MB/s \n",
            "\u001b[?25hCollecting aiobotocore>=1.0.1\n",
            "\u001b[?25l  Downloading https://files.pythonhosted.org/packages/21/8e/4562029e179226051cd4aa3135444deb014fc9b0795f80f7f3563745f8d5/aiobotocore-1.3.0.tar.gz (48kB)\n",
            "\u001b[K     |████████████████████████████████| 51kB 4.7MB/s \n",
            "\u001b[?25hCollecting botocore<1.20.50,>=1.20.49\n",
            "\u001b[?25l  Downloading https://files.pythonhosted.org/packages/68/59/6e28ce58206039ad2592992b75ee79a8f9dbc902a9704373ddacc4f96300/botocore-1.20.49-py2.py3-none-any.whl (7.4MB)\n",
            "\u001b[K     |████████████████████████████████| 7.4MB 6.7MB/s \n",
            "\u001b[?25hCollecting aiohttp>=3.3.1\n",
            "\u001b[?25l  Downloading https://files.pythonhosted.org/packages/88/c0/5890b4c8b04a79b7360e8fe4490feb0bb3ab179743f199f0e6220cebd568/aiohttp-3.7.4.post0-cp37-cp37m-manylinux2014_x86_64.whl (1.3MB)\n",
            "\u001b[K     |████████████████████████████████| 1.3MB 41.9MB/s \n",
            "\u001b[?25hRequirement already satisfied: wrapt>=1.10.10 in /usr/local/lib/python3.7/dist-packages (from aiobotocore>=1.0.1->s3fs) (1.12.1)\n",
            "Collecting aioitertools>=0.5.1\n",
            "  Downloading https://files.pythonhosted.org/packages/32/0b/3260ac050de07bf6e91871944583bb8598091da19155c34f7ef02244709c/aioitertools-0.7.1-py3-none-any.whl\n",
            "Collecting jmespath<1.0.0,>=0.7.1\n",
            "  Downloading https://files.pythonhosted.org/packages/07/cb/5f001272b6faeb23c1c9e0acc04d48eaaf5c862c17709d20e3469c6e0139/jmespath-0.10.0-py2.py3-none-any.whl\n",
            "Requirement already satisfied: python-dateutil<3.0.0,>=2.1 in /usr/local/lib/python3.7/dist-packages (from botocore<1.20.50,>=1.20.49->aiobotocore>=1.0.1->s3fs) (2.8.1)\n",
            "Collecting urllib3<1.27,>=1.25.4\n",
            "\u001b[?25l  Downloading https://files.pythonhosted.org/packages/09/c6/d3e3abe5b4f4f16cf0dfc9240ab7ce10c2baa0e268989a4e3ec19e90c84e/urllib3-1.26.4-py2.py3-none-any.whl (153kB)\n",
            "\u001b[K     |████████████████████████████████| 153kB 45.4MB/s \n",
            "\u001b[?25hRequirement already satisfied: chardet<5.0,>=2.0 in /usr/local/lib/python3.7/dist-packages (from aiohttp>=3.3.1->aiobotocore>=1.0.1->s3fs) (3.0.4)\n",
            "Collecting async-timeout<4.0,>=3.0\n",
            "  Downloading https://files.pythonhosted.org/packages/e1/1e/5a4441be21b0726c4464f3f23c8b19628372f606755a9d2e46c187e65ec4/async_timeout-3.0.1-py3-none-any.whl\n",
            "Requirement already satisfied: typing-extensions>=3.6.5 in /usr/local/lib/python3.7/dist-packages (from aiohttp>=3.3.1->aiobotocore>=1.0.1->s3fs) (3.7.4.3)\n",
            "Requirement already satisfied: attrs>=17.3.0 in /usr/local/lib/python3.7/dist-packages (from aiohttp>=3.3.1->aiobotocore>=1.0.1->s3fs) (20.3.0)\n",
            "Collecting multidict<7.0,>=4.5\n",
            "\u001b[?25l  Downloading https://files.pythonhosted.org/packages/7c/a6/4123b8165acbe773d1a8dc8e3f0d1edea16d29f7de018eda769abb56bd30/multidict-5.1.0-cp37-cp37m-manylinux2014_x86_64.whl (142kB)\n",
            "\u001b[K     |████████████████████████████████| 143kB 50.7MB/s \n",
            "\u001b[?25hCollecting yarl<2.0,>=1.0\n",
            "\u001b[?25l  Downloading https://files.pythonhosted.org/packages/f1/62/046834c5fc998c88ab2ef722f5d42122230a632212c8afa76418324f53ff/yarl-1.6.3-cp37-cp37m-manylinux2014_x86_64.whl (294kB)\n",
            "\u001b[K     |████████████████████████████████| 296kB 41.4MB/s \n",
            "\u001b[?25hRequirement already satisfied: six>=1.5 in /usr/local/lib/python3.7/dist-packages (from python-dateutil<3.0.0,>=2.1->botocore<1.20.50,>=1.20.49->aiobotocore>=1.0.1->s3fs) (1.15.0)\n",
            "Requirement already satisfied: idna>=2.0 in /usr/local/lib/python3.7/dist-packages (from yarl<2.0,>=1.0->aiohttp>=3.3.1->aiobotocore>=1.0.1->s3fs) (2.10)\n",
            "Building wheels for collected packages: aiobotocore\n",
            "  Building wheel for aiobotocore (setup.py) ... \u001b[?25l\u001b[?25hdone\n",
            "  Created wheel for aiobotocore: filename=aiobotocore-1.3.0-cp37-none-any.whl size=45781 sha256=28eb09b2b53abb9a7f3b6ad20b30d4e7d8f5130fc070216b50164485ff62a635\n",
            "  Stored in directory: /root/.cache/pip/wheels/1d/5b/92/72a47210109971364c619c41e29289d4e7d58269f0cc653bf1\n",
            "Successfully built aiobotocore\n",
            "\u001b[31mERROR: requests 2.23.0 has requirement urllib3!=1.25.0,!=1.25.1,<1.26,>=1.21.1, but you'll have urllib3 1.26.4 which is incompatible.\u001b[0m\n",
            "\u001b[31mERROR: datascience 0.10.6 has requirement folium==0.2.1, but you'll have folium 0.8.3 which is incompatible.\u001b[0m\n",
            "Installing collected packages: fsspec, jmespath, urllib3, botocore, async-timeout, multidict, yarl, aiohttp, aioitertools, aiobotocore, s3fs\n",
            "  Found existing installation: urllib3 1.24.3\n",
            "    Uninstalling urllib3-1.24.3:\n",
            "      Successfully uninstalled urllib3-1.24.3\n",
            "Successfully installed aiobotocore-1.3.0 aiohttp-3.7.4.post0 aioitertools-0.7.1 async-timeout-3.0.1 botocore-1.20.49 fsspec-2021.4.0 jmespath-0.10.0 multidict-5.1.0 s3fs-0.6.0 urllib3-1.26.4 yarl-1.6.3\n",
            "Collecting git+https://github.com/tkrajina/srtm.py.git\n",
            "  Cloning https://github.com/tkrajina/srtm.py.git to /tmp/pip-req-build-l4jfq1fo\n",
            "  Running command git clone -q https://github.com/tkrajina/srtm.py.git /tmp/pip-req-build-l4jfq1fo\n",
            "Requirement already satisfied: requests in /usr/local/lib/python3.7/dist-packages (from SRTM.py==0.3.7) (2.23.0)\n",
            "Requirement already satisfied: certifi>=2017.4.17 in /usr/local/lib/python3.7/dist-packages (from requests->SRTM.py==0.3.7) (2020.12.5)\n",
            "Requirement already satisfied: idna<3,>=2.5 in /usr/local/lib/python3.7/dist-packages (from requests->SRTM.py==0.3.7) (2.10)\n",
            "Collecting urllib3!=1.25.0,!=1.25.1,<1.26,>=1.21.1\n",
            "\u001b[?25l  Downloading https://files.pythonhosted.org/packages/56/aa/4ef5aa67a9a62505db124a5cb5262332d1d4153462eb8fd89c9fa41e5d92/urllib3-1.25.11-py2.py3-none-any.whl (127kB)\n",
            "\u001b[K     |████████████████████████████████| 133kB 5.8MB/s \n",
            "\u001b[?25hRequirement already satisfied: chardet<4,>=3.0.2 in /usr/local/lib/python3.7/dist-packages (from requests->SRTM.py==0.3.7) (3.0.4)\n",
            "Building wheels for collected packages: SRTM.py\n",
            "  Building wheel for SRTM.py (setup.py) ... \u001b[?25l\u001b[?25hdone\n",
            "  Created wheel for SRTM.py: filename=SRTM.py-0.3.7-cp37-none-any.whl size=110305 sha256=ee374ca4913e7f2bf6a89ca424ff27ac82cfb3f77946baa41066f3d5554ecf50\n",
            "  Stored in directory: /tmp/pip-ephem-wheel-cache-ulrr0qi0/wheels/9d/6b/ff/447ffdd0c60157da2a8768f4b8bea7fe944173ebe5a0f563f0\n",
            "Successfully built SRTM.py\n",
            "\u001b[31mERROR: datascience 0.10.6 has requirement folium==0.2.1, but you'll have folium 0.8.3 which is incompatible.\u001b[0m\n",
            "Installing collected packages: SRTM.py, urllib3\n",
            "  Found existing installation: urllib3 1.26.4\n",
            "    Uninstalling urllib3-1.26.4:\n",
            "      Successfully uninstalled urllib3-1.26.4\n",
            "Successfully installed SRTM.py-0.3.7 urllib3-1.25.11\n",
            "Collecting colorlog\n",
            "  Downloading https://files.pythonhosted.org/packages/32/e6/e9ddc6fa1104fda718338b341e4b3dc31cd8039ab29e52fc73b508515361/colorlog-5.0.1-py2.py3-none-any.whl\n",
            "Installing collected packages: colorlog\n",
            "Successfully installed colorlog-5.0.1\n"
          ],
          "name": "stdout"
        }
      ]
    },
    {
      "cell_type": "code",
      "metadata": {
        "id": "ETtTW_gLurzm"
      },
      "source": [
        "import pyarrow.parquet as pq\n",
        "import pandas as pd\n",
        "import sys\n",
        "import colorlog\n"
      ],
      "execution_count": null,
      "outputs": []
    },
    {
      "cell_type": "code",
      "metadata": {
        "colab": {
          "base_uri": "https://localhost:8080/"
        },
        "id": "3VNCJ1imK5Ip",
        "outputId": "91367587-cd23-4d0a-d0ac-56751978596e"
      },
      "source": [
        "from google.colab import drive\n",
        "drive.mount('/content/drive')"
      ],
      "execution_count": null,
      "outputs": [
        {
          "output_type": "stream",
          "text": [
            "Mounted at /content/drive\n"
          ],
          "name": "stdout"
        }
      ]
    },
    {
      "cell_type": "code",
      "metadata": {
        "id": "tNblJOE8ucv_"
      },
      "source": [
        "from cafcoding.tools import aws\n",
        "from cafcoding.tools import meteo\n",
        "from cafcoding.tools import etl\n",
        "import cafcoding.tools.log as log\n",
        "from cafcoding.stages import etl_step\n",
        "import logging\n",
        "logger = log.get_logger()\n",
        "#logger.setLevel(logging.INFO)\n"
      ],
      "execution_count": null,
      "outputs": []
    },
    {
      "cell_type": "markdown",
      "metadata": {
        "id": "_dv4RgzQJAI8"
      },
      "source": [
        "# Cargamos la sesion de Amazon"
      ]
    },
    {
      "cell_type": "code",
      "metadata": {
        "colab": {
          "base_uri": "https://localhost:8080/"
        },
        "id": "crWlXis-IilJ",
        "outputId": "2100a829-1b8b-4d62-b853-8a67c74011cb"
      },
      "source": [
        "\n",
        "amazon = aws.AWS(\"/content/drive/MyDrive/CAFcoding/config/awscli.ini\")\n",
        "\n",
        "# Activamos las credenciales\n",
        "amazon.set_credentials_in_env()"
      ],
      "execution_count": null,
      "outputs": [
        {
          "output_type": "stream",
          "text": [
            "/content/drive/MyDrive/CAFcoding/config/awscli.ini\n"
          ],
          "name": "stdout"
        }
      ]
    },
    {
      "cell_type": "code",
      "metadata": {
        "colab": {
          "base_uri": "https://localhost:8080/"
        },
        "id": "bYoLH4-QJbAs",
        "outputId": "d8c19365-8d7e-4d3e-f145-19a9f1eef989"
      },
      "source": [
        "\n",
        "for filename in amazon.ls('cafcodingdatos/raw'):\n",
        "    print (filename)\n"
      ],
      "execution_count": null,
      "outputs": [
        {
          "output_type": "stream",
          "text": [
            "cafcodingdatos/raw/Unsaved\n",
            "cafcodingdatos/raw/_SUCCESS\n",
            "cafcodingdatos/raw/date=2020-10-01\n",
            "cafcodingdatos/raw/date=2020-10-02\n",
            "cafcodingdatos/raw/date=2020-10-03\n",
            "cafcodingdatos/raw/date=2020-10-04\n",
            "cafcodingdatos/raw/date=2020-10-05\n",
            "cafcodingdatos/raw/date=2020-10-06\n",
            "cafcodingdatos/raw/date=2020-10-07\n",
            "cafcodingdatos/raw/date=2020-10-08\n",
            "cafcodingdatos/raw/date=2020-10-09\n",
            "cafcodingdatos/raw/date=2020-10-10\n",
            "cafcodingdatos/raw/date=2020-10-11\n",
            "cafcodingdatos/raw/date=2020-10-12\n",
            "cafcodingdatos/raw/date=2020-10-13\n",
            "cafcodingdatos/raw/date=2020-10-14\n",
            "cafcodingdatos/raw/date=2020-10-15\n",
            "cafcodingdatos/raw/date=2020-10-16\n",
            "cafcodingdatos/raw/date=2020-10-17\n",
            "cafcodingdatos/raw/date=2020-10-18\n",
            "cafcodingdatos/raw/date=2020-10-19\n",
            "cafcodingdatos/raw/date=2020-10-20\n",
            "cafcodingdatos/raw/date=2020-10-21\n",
            "cafcodingdatos/raw/date=2020-10-22\n",
            "cafcodingdatos/raw/date=2020-10-23\n",
            "cafcodingdatos/raw/date=2020-10-24\n",
            "cafcodingdatos/raw/date=2020-10-25\n",
            "cafcodingdatos/raw/date=2020-10-26\n",
            "cafcodingdatos/raw/date=2020-10-27\n",
            "cafcodingdatos/raw/date=2020-10-28\n",
            "cafcodingdatos/raw/date=2020-10-29\n",
            "cafcodingdatos/raw/date=2020-10-30\n",
            "cafcodingdatos/raw/date=2020-10-31\n",
            "cafcodingdatos/raw/date=2020-11-01\n",
            "cafcodingdatos/raw/date=2020-11-02\n",
            "cafcodingdatos/raw/date=2020-11-03\n",
            "cafcodingdatos/raw/date=2020-11-04\n",
            "cafcodingdatos/raw/date=2020-11-05\n",
            "cafcodingdatos/raw/date=2020-11-06\n",
            "cafcodingdatos/raw/date=2020-11-07\n",
            "cafcodingdatos/raw/date=2020-11-08\n",
            "cafcodingdatos/raw/date=2020-11-09\n",
            "cafcodingdatos/raw/date=2020-11-10\n",
            "cafcodingdatos/raw/date=2020-11-11\n",
            "cafcodingdatos/raw/date=2020-11-12\n",
            "cafcodingdatos/raw/date=2020-11-13\n",
            "cafcodingdatos/raw/date=2020-11-14\n",
            "cafcodingdatos/raw/date=2020-11-15\n",
            "cafcodingdatos/raw/date=2020-11-16\n",
            "cafcodingdatos/raw/date=2020-11-17\n",
            "cafcodingdatos/raw/date=2020-11-18\n",
            "cafcodingdatos/raw/date=2020-11-19\n",
            "cafcodingdatos/raw/date=2020-11-20\n",
            "cafcodingdatos/raw/date=2020-11-21\n",
            "cafcodingdatos/raw/date=2020-11-22\n",
            "cafcodingdatos/raw/date=2020-11-23\n",
            "cafcodingdatos/raw/date=2020-11-24\n",
            "cafcodingdatos/raw/date=2020-11-25\n",
            "cafcodingdatos/raw/date=2020-11-26\n",
            "cafcodingdatos/raw/date=2020-11-27\n",
            "cafcodingdatos/raw/date=2020-11-28\n",
            "cafcodingdatos/raw/date=2020-11-29\n",
            "cafcodingdatos/raw/date=2020-11-30\n",
            "cafcodingdatos/raw/date=2020-12-01\n",
            "cafcodingdatos/raw/date=2020-12-02\n",
            "cafcodingdatos/raw/date=2020-12-03\n",
            "cafcodingdatos/raw/date=2020-12-04\n",
            "cafcodingdatos/raw/date=2020-12-05\n",
            "cafcodingdatos/raw/date=2020-12-06\n",
            "cafcodingdatos/raw/date=2020-12-07\n",
            "cafcodingdatos/raw/date=2020-12-08\n",
            "cafcodingdatos/raw/date=2020-12-09\n",
            "cafcodingdatos/raw/date=2020-12-10\n",
            "cafcodingdatos/raw/date=2020-12-11\n",
            "cafcodingdatos/raw/date=2020-12-12\n",
            "cafcodingdatos/raw/date=2020-12-13\n",
            "cafcodingdatos/raw/date=2020-12-14\n",
            "cafcodingdatos/raw/date=2020-12-15\n",
            "cafcodingdatos/raw/date=2020-12-16\n",
            "cafcodingdatos/raw/date=2020-12-17\n",
            "cafcodingdatos/raw/date=2020-12-18\n",
            "cafcodingdatos/raw/date=2020-12-19\n",
            "cafcodingdatos/raw/date=2020-12-20\n",
            "cafcodingdatos/raw/date=2020-12-21\n",
            "cafcodingdatos/raw/date=2020-12-22\n",
            "cafcodingdatos/raw/date=2020-12-23\n",
            "cafcodingdatos/raw/date=2020-12-24\n",
            "cafcodingdatos/raw/date=2020-12-25\n",
            "cafcodingdatos/raw/date=2020-12-26\n",
            "cafcodingdatos/raw/date=2020-12-27\n",
            "cafcodingdatos/raw/date=2020-12-28\n",
            "cafcodingdatos/raw/date=2020-12-29\n",
            "cafcodingdatos/raw/date=2020-12-30\n",
            "cafcodingdatos/raw/date=2020-12-31\n"
          ],
          "name": "stdout"
        }
      ]
    },
    {
      "cell_type": "markdown",
      "metadata": {
        "id": "Q4WhvOsP0uIm"
      },
      "source": [
        "# Cargamos el dataset\n",
        "\n"
      ]
    },
    {
      "cell_type": "code",
      "metadata": {
        "id": "Xl2Y7qR_PE2X"
      },
      "source": [
        "meteo_path = r'drive/MyDrive/CAFcoding/notebook/utils/meteo_data'\n",
        "\n",
        "\n",
        "parquet_csv_list =[]\n",
        "GENERATE_TRAIN = True\n",
        "GENERATE_VAL =False\n",
        "GENERATE_TEST =True\n",
        "NUMBER_DAYS = 1\n",
        "\n",
        "PATH_TEMPLATE='s3://cafcodingdatos/targets_mirror/{step}/2020-{month:02d}-{day:02d}-etl-{version}.csv'\n",
        "\n",
        "if GENERATE_TRAIN:\n",
        "    STEP = 'train'\n",
        "    MONTH = 10\n",
        "    NUMBER_DAYS = 31\n",
        "    START_DATE = 1 \n",
        "    parquet_paths_s3 = ['cafcodingdatos/raw/date=2020-10-{0:02d}'.format(day) for day in range(START_DATE,NUMBER_DAYS+1)]\n",
        "    csv_path  = [PATH_TEMPLATE.format(step=STEP,month=MONTH, day=day,version=etl_step.ETL_VERSION) for day in range(START_DATE,NUMBER_DAYS+1)]\n",
        "\n",
        "\n",
        "    parquet_csv_list += list(zip(parquet_paths_s3,csv_path))\n",
        "\n",
        "if GENERATE_VAL:\n",
        "    STEP = 'val'\n",
        "    MONTH = 11\n",
        "    #NUMBER_DAYS = 10\n",
        "    START_DATE = 1\n",
        "    parquet_paths_s3 = ['cafcodingdatos/raw/date=2020-11-{0:02d}'.format(day) for day in range(START_DATE,NUMBER_DAYS+1)]\n",
        "    csv_path  = [PATH_TEMPLATE.format(step=STEP,month=MONTH, day=day,version=etl_step.ETL_VERSION) for day in range(START_DATE,NUMBER_DAYS+1)]\n",
        "\n",
        "    parquet_csv_list += list(zip(parquet_paths_s3,csv_path))\n",
        "\n",
        "if GENERATE_TEST:\n",
        "    STEP = 'test'\n",
        "    MONTH = 11\n",
        "    NUMBER_DAYS = 30\n",
        "    START_DATE = 11\n",
        "    parquet_paths_s3 = ['cafcodingdatos/raw/date=2020-11-{0:02d}'.format(day) for day in range(START_DATE,NUMBER_DAYS+1)]\n",
        "    csv_path  = [PATH_TEMPLATE.format(step=STEP,month=MONTH, day=day,version=etl_step.ETL_VERSION) for day in range(START_DATE,NUMBER_DAYS+1)]\n",
        "\n",
        "    parquet_csv_list += list(zip(parquet_paths_s3,csv_path))\n",
        "\n",
        "\n",
        "\n"
      ],
      "execution_count": null,
      "outputs": []
    },
    {
      "cell_type": "markdown",
      "metadata": {
        "id": "Z2d_Q_JW1FN6"
      },
      "source": [
        "# Funciones personalizadas\n",
        "\n",
        "De esta forma se pueden probar funciones sin recargar el notebook\n"
      ]
    },
    {
      "cell_type": "code",
      "metadata": {
        "id": "_m1006oN1Dx1"
      },
      "source": [
        "# def delete_stopped_train(df):\n",
        "#     print (\"test\")\n",
        "#     return df\n",
        "\n",
        "# etl_step.delete_stopped_train = delete_stopped_train"
      ],
      "execution_count": null,
      "outputs": []
    },
    {
      "cell_type": "markdown",
      "metadata": {
        "id": "TFY-VjDHLICl"
      },
      "source": [
        "### Cargamos datos desde S3\n"
      ]
    },
    {
      "cell_type": "code",
      "metadata": {
        "colab": {
          "base_uri": "https://localhost:8080/"
        },
        "id": "oFHMBgJtKjhD",
        "outputId": "3211b439-6003-494e-faa0-0ba1ecc4dac2"
      },
      "source": [
        "df_meteo = meteo.load_meteo_dataframe(meteo_path)\n",
        "\n",
        "df_list = []\n",
        "for parquet_file, csv_file in parquet_csv_list:\n",
        "    df_day_list=[]\n",
        "    for filename in amazon.ls(parquet_file):\n",
        "        if filename.endswith('.parquet'):\n",
        "            try:\n",
        "                print (filename)\n",
        "                dataset = pq.ParquetDataset(filename, filesystem=amazon.fs)\n",
        "                table = dataset.read()\n",
        "                df = table.to_pandas() \n",
        "                df_day_list.append(df)\n",
        "            except Exception as exc:\n",
        "                logger.error(\"Se ha producido un error cargando el fichero de Parquet: {}\",parquet_file)\n",
        "                logger.error(\"{}\",str(exc))\n",
        "            \n",
        "    \n",
        "    df_day = pd.concat(df_day_list)\n",
        "    try:\n",
        "        df_day = etl_step.process_etl(df_day, df_meteo.copy(), del_stopped_train=True)\n",
        "        df_day.to_csv(csv_file, index=True, index_label=\"ts_date_index\")\n",
        "    except Exception as exc:\n",
        "        logger.error(\"Se ha producido un error al procesar el dataset: {} \",parquet_file)\n",
        "        logger.error(\"{}\",str(exc))\n",
        "    df_list.append(df_day)\n",
        "\n",
        "\n",
        "\n",
        "\n",
        "df = pd.concat(df_list)"
      ],
      "execution_count": null,
      "outputs": [
        {
          "output_type": "stream",
          "text": [
            "cafcodingdatos/raw/date=2020-10-04/part-00017-tid-4502735041458916000-1def1e63-76d9-4841-bd06-f798a2422800-4199-4.c000.snappy.parquet\n",
            "cafcodingdatos/raw/date=2020-10-04/part-00055-tid-4502735041458916000-1def1e63-76d9-4841-bd06-f798a2422800-4147-3.c000.snappy.parquet\n",
            "cafcodingdatos/raw/date=2020-10-04/part-00091-tid-4502735041458916000-1def1e63-76d9-4841-bd06-f798a2422800-4237-3.c000.snappy.parquet\n",
            "cafcodingdatos/raw/date=2020-10-04/part-00108-tid-4502735041458916000-1def1e63-76d9-4841-bd06-f798a2422800-4189-2.c000.snappy.parquet\n",
            "cafcodingdatos/raw/date=2020-10-04/part-00122-tid-4502735041458916000-1def1e63-76d9-4841-bd06-f798a2422800-4136-2.c000.snappy.parquet\n",
            "cafcodingdatos/raw/date=2020-10-04/part-00142-tid-4502735041458916000-1def1e63-76d9-4841-bd06-f798a2422800-4234-3.c000.snappy.parquet\n",
            "cafcodingdatos/raw/date=2020-10-04/part-00162-tid-4502735041458916000-1def1e63-76d9-4841-bd06-f798a2422800-4152-3.c000.snappy.parquet\n",
            "\u001b[37m [Sun, 18 Apr 2021 23:59:20] DEBUG [log.py.log_decorator_wrapper:38] <function process_etl at 0x7f0cb00dc5f0> START\u001b[0m\n",
            "\u001b[37m [Sun, 18 Apr 2021 23:59:20] DEBUG [log.py.log_decorator_wrapper:38] <function prepare_data_time at 0x7f0cb00ff5f0> START\u001b[0m\n",
            "\u001b[37m [Sun, 18 Apr 2021 23:59:20] DEBUG [log.py.log_decorator_wrapper:41] <function prepare_data_time at 0x7f0cb00ff5f0> END\u001b[0m\n",
            "\u001b[32m [Sun, 18 Apr 2021 23:59:20] INFO [etl_step.py.process_etl:38] Filter dates: 2020-10-04 00:00:00 - 2020-10-04 23:59:59\u001b[0m\n",
            "\u001b[37m [Sun, 18 Apr 2021 23:59:20] DEBUG [log.py.log_decorator_wrapper:38] <function process_meteo_dataframe at 0x7f0cb001ed40> START\u001b[0m\n",
            "\u001b[37m [Sun, 18 Apr 2021 23:59:21] DEBUG [log.py.log_decorator_wrapper:41] <function process_meteo_dataframe at 0x7f0cb001ed40> END\u001b[0m\n",
            "\u001b[37m [Sun, 18 Apr 2021 23:59:21] DEBUG [etl.py.fill_dataframe_by_ut:105] In: 2020-10-04 \u001b[0m\n",
            "\u001b[37m [Sun, 18 Apr 2021 23:59:21] DEBUG [etl.py.fill_dataframe_by_ut:116] Out: 2020-10-04 \u001b[0m\n",
            "\u001b[37m [Sun, 18 Apr 2021 23:59:22] DEBUG [log.py.log_decorator_wrapper:38] <function generate_new_columns_from_gps_data at 0x7f0cb001ee60> START\u001b[0m\n",
            "\u001b[37m [Sun, 18 Apr 2021 23:59:36] DEBUG [etl.py.fill_dataframe_by_ut:105] In: 2020-10-04 \u001b[0m\n",
            "\u001b[37m [Sun, 18 Apr 2021 23:59:37] DEBUG [etl.py.fill_dataframe_by_ut:116] Out: 2020-10-04 \u001b[0m\n",
            "\u001b[37m [Mon, 19 Apr 2021 00:01:05] DEBUG [log.py.log_decorator_wrapper:41] <function generate_new_columns_from_gps_data at 0x7f0cb001ee60> END\u001b[0m\n",
            "\u001b[37m [Mon, 19 Apr 2021 00:01:05] DEBUG [log.py.log_decorator_wrapper:38] <function merge_with_meteo at 0x7f0cb001ef80> START\u001b[0m\n",
            "\u001b[37m [Mon, 19 Apr 2021 00:01:05] DEBUG [log.py.log_decorator_wrapper:41] <function merge_with_meteo at 0x7f0cb001ef80> END\u001b[0m\n",
            "\u001b[37m [Mon, 19 Apr 2021 00:01:05] DEBUG [log.py.log_decorator_wrapper:38] <function create_index_ts_date at 0x7f0cb00220e0> START\u001b[0m\n",
            "\u001b[37m [Mon, 19 Apr 2021 00:01:05] DEBUG [log.py.log_decorator_wrapper:41] <function create_index_ts_date at 0x7f0cb00220e0> END\u001b[0m\n",
            "\u001b[37m [Mon, 19 Apr 2021 00:01:05] DEBUG [log.py.log_decorator_wrapper:38] <function generate_auxiliar_columns at 0x7f0cb0022200> START\u001b[0m\n",
            "\u001b[37m [Mon, 19 Apr 2021 00:02:13] DEBUG [etl.py.fill_dataframe_by_ut:105] In: 2020-10-04 \u001b[0m\n",
            "\u001b[37m [Mon, 19 Apr 2021 00:02:15] DEBUG [etl.py.fill_dataframe_by_ut:116] Out: 2020-10-04 \u001b[0m\n",
            "Creating /root/.cache/srtm\n",
            "4 2884802\n",
            "4 2884802\n",
            "4 2884802\n",
            "4 2884802\n",
            "4 2884802\n",
            "\u001b[37m [Mon, 19 Apr 2021 00:03:59] DEBUG [log.py.log_decorator_wrapper:41] <function generate_auxiliar_columns at 0x7f0cb0022200> END\u001b[0m\n"
          ],
          "name": "stdout"
        },
        {
          "output_type": "stream",
          "text": [
            "DEBUG:ETL:<function generate_auxiliar_columns at 0x7f0cb0022200> END\n"
          ],
          "name": "stderr"
        },
        {
          "output_type": "stream",
          "text": [
            "\u001b[37m [Mon, 19 Apr 2021 00:04:04] DEBUG [log.py.log_decorator_wrapper:38] <function create_categorical at 0x7f0cb0022560> START\u001b[0m\n"
          ],
          "name": "stdout"
        },
        {
          "output_type": "stream",
          "text": [
            "DEBUG:ETL:<function create_categorical at 0x7f0cb0022560> START\n"
          ],
          "name": "stderr"
        },
        {
          "output_type": "stream",
          "text": [
            "\u001b[37m [Mon, 19 Apr 2021 00:04:05] DEBUG [log.py.log_decorator_wrapper:41] <function create_categorical at 0x7f0cb0022560> END\u001b[0m\n"
          ],
          "name": "stdout"
        },
        {
          "output_type": "stream",
          "text": [
            "DEBUG:ETL:<function create_categorical at 0x7f0cb0022560> END\n"
          ],
          "name": "stderr"
        },
        {
          "output_type": "stream",
          "text": [
            "\u001b[37m [Mon, 19 Apr 2021 00:04:05] DEBUG [etl.py.fill_dataframe_by_ut:105] In: 2020-10-04 \u001b[0m\n"
          ],
          "name": "stdout"
        },
        {
          "output_type": "stream",
          "text": [
            "DEBUG:ETL:In: 2020-10-04 \n"
          ],
          "name": "stderr"
        },
        {
          "output_type": "stream",
          "text": [
            "\u001b[37m [Mon, 19 Apr 2021 00:04:07] DEBUG [etl.py.fill_dataframe_by_ut:116] Out: 2020-10-04 \u001b[0m\n"
          ],
          "name": "stdout"
        },
        {
          "output_type": "stream",
          "text": [
            "DEBUG:ETL:Out: 2020-10-04 \n"
          ],
          "name": "stderr"
        },
        {
          "output_type": "stream",
          "text": [
            "\u001b[37m [Mon, 19 Apr 2021 00:04:19] DEBUG [log.py.log_decorator_wrapper:41] <function process_etl at 0x7f0cb00dc5f0> END\u001b[0m\n"
          ],
          "name": "stdout"
        },
        {
          "output_type": "stream",
          "text": [
            "DEBUG:ETL:<function process_etl at 0x7f0cb00dc5f0> END\n"
          ],
          "name": "stderr"
        },
        {
          "output_type": "stream",
          "text": [
            "cafcodingdatos/raw/date=2020-10-05/part-00000-tid-4502735041458916000-1def1e63-76d9-4841-bd06-f798a2422800-4174-4.c000.snappy.parquet\n",
            "cafcodingdatos/raw/date=2020-10-05/part-00017-tid-4502735041458916000-1def1e63-76d9-4841-bd06-f798a2422800-4199-5.c000.snappy.parquet\n",
            "cafcodingdatos/raw/date=2020-10-05/part-00018-tid-4502735041458916000-1def1e63-76d9-4841-bd06-f798a2422800-4288-1.c000.snappy.parquet\n",
            "cafcodingdatos/raw/date=2020-10-05/part-00035-tid-4502735041458916000-1def1e63-76d9-4841-bd06-f798a2422800-4255-4.c000.snappy.parquet\n",
            "cafcodingdatos/raw/date=2020-10-05/part-00055-tid-4502735041458916000-1def1e63-76d9-4841-bd06-f798a2422800-4147-4.c000.snappy.parquet\n",
            "cafcodingdatos/raw/date=2020-10-05/part-00073-tid-4502735041458916000-1def1e63-76d9-4841-bd06-f798a2422800-4295-3.c000.snappy.parquet\n",
            "cafcodingdatos/raw/date=2020-10-05/part-00091-tid-4502735041458916000-1def1e63-76d9-4841-bd06-f798a2422800-4237-4.c000.snappy.parquet\n",
            "cafcodingdatos/raw/date=2020-10-05/part-00092-tid-4502735041458916000-1def1e63-76d9-4841-bd06-f798a2422800-4175-1.c000.snappy.parquet\n",
            "cafcodingdatos/raw/date=2020-10-05/part-00108-tid-4502735041458916000-1def1e63-76d9-4841-bd06-f798a2422800-4189-3.c000.snappy.parquet\n",
            "cafcodingdatos/raw/date=2020-10-05/part-00122-tid-4502735041458916000-1def1e63-76d9-4841-bd06-f798a2422800-4136-3.c000.snappy.parquet\n",
            "cafcodingdatos/raw/date=2020-10-05/part-00142-tid-4502735041458916000-1def1e63-76d9-4841-bd06-f798a2422800-4234-4.c000.snappy.parquet\n",
            "cafcodingdatos/raw/date=2020-10-05/part-00162-tid-4502735041458916000-1def1e63-76d9-4841-bd06-f798a2422800-4152-4.c000.snappy.parquet\n",
            "\u001b[37m [Mon, 19 Apr 2021 00:06:11] DEBUG [log.py.log_decorator_wrapper:38] <function process_etl at 0x7f0cb00dc5f0> START\u001b[0m\n"
          ],
          "name": "stdout"
        },
        {
          "output_type": "stream",
          "text": [
            "DEBUG:ETL:<function process_etl at 0x7f0cb00dc5f0> START\n"
          ],
          "name": "stderr"
        },
        {
          "output_type": "stream",
          "text": [
            "\u001b[37m [Mon, 19 Apr 2021 00:06:11] DEBUG [log.py.log_decorator_wrapper:38] <function prepare_data_time at 0x7f0cb00ff5f0> START\u001b[0m\n"
          ],
          "name": "stdout"
        },
        {
          "output_type": "stream",
          "text": [
            "DEBUG:ETL:<function prepare_data_time at 0x7f0cb00ff5f0> START\n"
          ],
          "name": "stderr"
        },
        {
          "output_type": "stream",
          "text": [
            "\u001b[37m [Mon, 19 Apr 2021 00:06:11] DEBUG [log.py.log_decorator_wrapper:41] <function prepare_data_time at 0x7f0cb00ff5f0> END\u001b[0m\n"
          ],
          "name": "stdout"
        },
        {
          "output_type": "stream",
          "text": [
            "DEBUG:ETL:<function prepare_data_time at 0x7f0cb00ff5f0> END\n"
          ],
          "name": "stderr"
        },
        {
          "output_type": "stream",
          "text": [
            "\u001b[32m [Mon, 19 Apr 2021 00:06:11] INFO [etl_step.py.process_etl:38] Filter dates: 2020-10-05 00:00:00 - 2020-10-05 23:59:59\u001b[0m\n"
          ],
          "name": "stdout"
        },
        {
          "output_type": "stream",
          "text": [
            "INFO:ETL:Filter dates: 2020-10-05 00:00:00 - 2020-10-05 23:59:59\n"
          ],
          "name": "stderr"
        },
        {
          "output_type": "stream",
          "text": [
            "\u001b[37m [Mon, 19 Apr 2021 00:06:11] DEBUG [log.py.log_decorator_wrapper:38] <function process_meteo_dataframe at 0x7f0cb001ed40> START\u001b[0m\n"
          ],
          "name": "stdout"
        },
        {
          "output_type": "stream",
          "text": [
            "DEBUG:ETL:<function process_meteo_dataframe at 0x7f0cb001ed40> START\n"
          ],
          "name": "stderr"
        },
        {
          "output_type": "stream",
          "text": [
            "\u001b[37m [Mon, 19 Apr 2021 00:06:11] DEBUG [log.py.log_decorator_wrapper:41] <function process_meteo_dataframe at 0x7f0cb001ed40> END\u001b[0m\n"
          ],
          "name": "stdout"
        },
        {
          "output_type": "stream",
          "text": [
            "DEBUG:ETL:<function process_meteo_dataframe at 0x7f0cb001ed40> END\n"
          ],
          "name": "stderr"
        },
        {
          "output_type": "stream",
          "text": [
            "\u001b[37m [Mon, 19 Apr 2021 00:06:11] DEBUG [etl.py.fill_dataframe_by_ut:105] In: 2020-10-05 \u001b[0m\n"
          ],
          "name": "stdout"
        },
        {
          "output_type": "stream",
          "text": [
            "DEBUG:ETL:In: 2020-10-05 \n"
          ],
          "name": "stderr"
        },
        {
          "output_type": "stream",
          "text": [
            "\u001b[37m [Mon, 19 Apr 2021 00:06:13] DEBUG [etl.py.fill_dataframe_by_ut:116] Out: 2020-10-05 \u001b[0m\n"
          ],
          "name": "stdout"
        },
        {
          "output_type": "stream",
          "text": [
            "DEBUG:ETL:Out: 2020-10-05 \n"
          ],
          "name": "stderr"
        },
        {
          "output_type": "stream",
          "text": [
            "\u001b[37m [Mon, 19 Apr 2021 00:06:13] DEBUG [log.py.log_decorator_wrapper:38] <function generate_new_columns_from_gps_data at 0x7f0cb001ee60> START\u001b[0m\n"
          ],
          "name": "stdout"
        },
        {
          "output_type": "stream",
          "text": [
            "DEBUG:ETL:<function generate_new_columns_from_gps_data at 0x7f0cb001ee60> START\n"
          ],
          "name": "stderr"
        },
        {
          "output_type": "stream",
          "text": [
            "\u001b[37m [Mon, 19 Apr 2021 00:06:33] DEBUG [etl.py.fill_dataframe_by_ut:105] In: 2020-10-05 \u001b[0m\n"
          ],
          "name": "stdout"
        },
        {
          "output_type": "stream",
          "text": [
            "DEBUG:ETL:In: 2020-10-05 \n"
          ],
          "name": "stderr"
        },
        {
          "output_type": "stream",
          "text": [
            "\u001b[37m [Mon, 19 Apr 2021 00:06:35] DEBUG [etl.py.fill_dataframe_by_ut:116] Out: 2020-10-05 \u001b[0m\n"
          ],
          "name": "stdout"
        },
        {
          "output_type": "stream",
          "text": [
            "DEBUG:ETL:Out: 2020-10-05 \n"
          ],
          "name": "stderr"
        },
        {
          "output_type": "stream",
          "text": [
            "\u001b[37m [Mon, 19 Apr 2021 00:08:44] DEBUG [log.py.log_decorator_wrapper:41] <function generate_new_columns_from_gps_data at 0x7f0cb001ee60> END\u001b[0m\n"
          ],
          "name": "stdout"
        },
        {
          "output_type": "stream",
          "text": [
            "DEBUG:ETL:<function generate_new_columns_from_gps_data at 0x7f0cb001ee60> END\n"
          ],
          "name": "stderr"
        },
        {
          "output_type": "stream",
          "text": [
            "\u001b[37m [Mon, 19 Apr 2021 00:08:44] DEBUG [log.py.log_decorator_wrapper:38] <function merge_with_meteo at 0x7f0cb001ef80> START\u001b[0m\n"
          ],
          "name": "stdout"
        },
        {
          "output_type": "stream",
          "text": [
            "DEBUG:ETL:<function merge_with_meteo at 0x7f0cb001ef80> START\n"
          ],
          "name": "stderr"
        },
        {
          "output_type": "stream",
          "text": [
            "\u001b[37m [Mon, 19 Apr 2021 00:08:44] DEBUG [log.py.log_decorator_wrapper:41] <function merge_with_meteo at 0x7f0cb001ef80> END\u001b[0m\n"
          ],
          "name": "stdout"
        },
        {
          "output_type": "stream",
          "text": [
            "DEBUG:ETL:<function merge_with_meteo at 0x7f0cb001ef80> END\n"
          ],
          "name": "stderr"
        },
        {
          "output_type": "stream",
          "text": [
            "\u001b[37m [Mon, 19 Apr 2021 00:08:44] DEBUG [log.py.log_decorator_wrapper:38] <function create_index_ts_date at 0x7f0cb00220e0> START\u001b[0m\n"
          ],
          "name": "stdout"
        },
        {
          "output_type": "stream",
          "text": [
            "DEBUG:ETL:<function create_index_ts_date at 0x7f0cb00220e0> START\n"
          ],
          "name": "stderr"
        },
        {
          "output_type": "stream",
          "text": [
            "\u001b[37m [Mon, 19 Apr 2021 00:08:44] DEBUG [log.py.log_decorator_wrapper:41] <function create_index_ts_date at 0x7f0cb00220e0> END\u001b[0m\n"
          ],
          "name": "stdout"
        },
        {
          "output_type": "stream",
          "text": [
            "DEBUG:ETL:<function create_index_ts_date at 0x7f0cb00220e0> END\n"
          ],
          "name": "stderr"
        },
        {
          "output_type": "stream",
          "text": [
            "\u001b[37m [Mon, 19 Apr 2021 00:08:44] DEBUG [log.py.log_decorator_wrapper:38] <function generate_auxiliar_columns at 0x7f0cb0022200> START\u001b[0m\n"
          ],
          "name": "stdout"
        },
        {
          "output_type": "stream",
          "text": [
            "DEBUG:ETL:<function generate_auxiliar_columns at 0x7f0cb0022200> START\n"
          ],
          "name": "stderr"
        },
        {
          "output_type": "stream",
          "text": [
            "\u001b[37m [Mon, 19 Apr 2021 00:10:24] DEBUG [etl.py.fill_dataframe_by_ut:105] In: 2020-10-05 \u001b[0m\n"
          ],
          "name": "stdout"
        },
        {
          "output_type": "stream",
          "text": [
            "DEBUG:ETL:In: 2020-10-05 \n"
          ],
          "name": "stderr"
        },
        {
          "output_type": "stream",
          "text": [
            "\u001b[37m [Mon, 19 Apr 2021 00:10:26] DEBUG [etl.py.fill_dataframe_by_ut:116] Out: 2020-10-05 \u001b[0m\n"
          ],
          "name": "stdout"
        },
        {
          "output_type": "stream",
          "text": [
            "DEBUG:ETL:Out: 2020-10-05 \n"
          ],
          "name": "stderr"
        },
        {
          "output_type": "stream",
          "text": [
            "4 2884802\n",
            "4 2884802\n",
            "\u001b[37m [Mon, 19 Apr 2021 00:12:43] DEBUG [log.py.log_decorator_wrapper:41] <function generate_auxiliar_columns at 0x7f0cb0022200> END\u001b[0m\n"
          ],
          "name": "stdout"
        },
        {
          "output_type": "stream",
          "text": [
            "DEBUG:ETL:<function generate_auxiliar_columns at 0x7f0cb0022200> END\n"
          ],
          "name": "stderr"
        },
        {
          "output_type": "stream",
          "text": [
            "\u001b[37m [Mon, 19 Apr 2021 00:12:49] DEBUG [log.py.log_decorator_wrapper:38] <function create_categorical at 0x7f0cb0022560> START\u001b[0m\n"
          ],
          "name": "stdout"
        },
        {
          "output_type": "stream",
          "text": [
            "DEBUG:ETL:<function create_categorical at 0x7f0cb0022560> START\n"
          ],
          "name": "stderr"
        },
        {
          "output_type": "stream",
          "text": [
            "\u001b[37m [Mon, 19 Apr 2021 00:12:50] DEBUG [log.py.log_decorator_wrapper:41] <function create_categorical at 0x7f0cb0022560> END\u001b[0m\n"
          ],
          "name": "stdout"
        },
        {
          "output_type": "stream",
          "text": [
            "DEBUG:ETL:<function create_categorical at 0x7f0cb0022560> END\n"
          ],
          "name": "stderr"
        },
        {
          "output_type": "stream",
          "text": [
            "\u001b[37m [Mon, 19 Apr 2021 00:12:50] DEBUG [etl.py.fill_dataframe_by_ut:105] In: 2020-10-05 \u001b[0m\n"
          ],
          "name": "stdout"
        },
        {
          "output_type": "stream",
          "text": [
            "DEBUG:ETL:In: 2020-10-05 \n"
          ],
          "name": "stderr"
        },
        {
          "output_type": "stream",
          "text": [
            "\u001b[37m [Mon, 19 Apr 2021 00:12:52] DEBUG [etl.py.fill_dataframe_by_ut:116] Out: 2020-10-05 \u001b[0m\n"
          ],
          "name": "stdout"
        },
        {
          "output_type": "stream",
          "text": [
            "DEBUG:ETL:Out: 2020-10-05 \n"
          ],
          "name": "stderr"
        },
        {
          "output_type": "stream",
          "text": [
            "\u001b[37m [Mon, 19 Apr 2021 00:13:09] DEBUG [log.py.log_decorator_wrapper:41] <function process_etl at 0x7f0cb00dc5f0> END\u001b[0m\n"
          ],
          "name": "stdout"
        },
        {
          "output_type": "stream",
          "text": [
            "DEBUG:ETL:<function process_etl at 0x7f0cb00dc5f0> END\n"
          ],
          "name": "stderr"
        },
        {
          "output_type": "stream",
          "text": [
            "cafcodingdatos/raw/date=2020-10-06/part-00000-tid-4502735041458916000-1def1e63-76d9-4841-bd06-f798a2422800-4174-5.c000.snappy.parquet\n",
            "cafcodingdatos/raw/date=2020-10-06/part-00018-tid-4502735041458916000-1def1e63-76d9-4841-bd06-f798a2422800-4288-2.c000.snappy.parquet\n",
            "cafcodingdatos/raw/date=2020-10-06/part-00035-tid-4502735041458916000-1def1e63-76d9-4841-bd06-f798a2422800-4255-5.c000.snappy.parquet\n",
            "cafcodingdatos/raw/date=2020-10-06/part-00036-tid-4502735041458916000-1def1e63-76d9-4841-bd06-f798a2422800-4273-1.c000.snappy.parquet\n",
            "cafcodingdatos/raw/date=2020-10-06/part-00055-tid-4502735041458916000-1def1e63-76d9-4841-bd06-f798a2422800-4147-5.c000.snappy.parquet\n",
            "cafcodingdatos/raw/date=2020-10-06/part-00056-tid-4502735041458916000-1def1e63-76d9-4841-bd06-f798a2422800-4293-1.c000.snappy.parquet\n",
            "cafcodingdatos/raw/date=2020-10-06/part-00073-tid-4502735041458916000-1def1e63-76d9-4841-bd06-f798a2422800-4295-4.c000.snappy.parquet\n",
            "cafcodingdatos/raw/date=2020-10-06/part-00092-tid-4502735041458916000-1def1e63-76d9-4841-bd06-f798a2422800-4175-2.c000.snappy.parquet\n",
            "cafcodingdatos/raw/date=2020-10-06/part-00108-tid-4502735041458916000-1def1e63-76d9-4841-bd06-f798a2422800-4189-4.c000.snappy.parquet\n",
            "cafcodingdatos/raw/date=2020-10-06/part-00122-tid-4502735041458916000-1def1e63-76d9-4841-bd06-f798a2422800-4136-4.c000.snappy.parquet\n",
            "cafcodingdatos/raw/date=2020-10-06/part-00123-tid-4502735041458916000-1def1e63-76d9-4841-bd06-f798a2422800-4125-1.c000.snappy.parquet\n",
            "cafcodingdatos/raw/date=2020-10-06/part-00142-tid-4502735041458916000-1def1e63-76d9-4841-bd06-f798a2422800-4234-5.c000.snappy.parquet\n",
            "cafcodingdatos/raw/date=2020-10-06/part-00143-tid-4502735041458916000-1def1e63-76d9-4841-bd06-f798a2422800-4184-1.c000.snappy.parquet\n",
            "cafcodingdatos/raw/date=2020-10-06/part-00162-tid-4502735041458916000-1def1e63-76d9-4841-bd06-f798a2422800-4152-5.c000.snappy.parquet\n",
            "cafcodingdatos/raw/date=2020-10-06/part-00163-tid-4502735041458916000-1def1e63-76d9-4841-bd06-f798a2422800-4166-1.c000.snappy.parquet\n",
            "\u001b[37m [Mon, 19 Apr 2021 00:14:18] DEBUG [log.py.log_decorator_wrapper:38] <function process_etl at 0x7f0cb00dc5f0> START\u001b[0m\n"
          ],
          "name": "stdout"
        },
        {
          "output_type": "stream",
          "text": [
            "DEBUG:ETL:<function process_etl at 0x7f0cb00dc5f0> START\n"
          ],
          "name": "stderr"
        },
        {
          "output_type": "stream",
          "text": [
            "\u001b[37m [Mon, 19 Apr 2021 00:14:18] DEBUG [log.py.log_decorator_wrapper:38] <function prepare_data_time at 0x7f0cb00ff5f0> START\u001b[0m\n"
          ],
          "name": "stdout"
        },
        {
          "output_type": "stream",
          "text": [
            "DEBUG:ETL:<function prepare_data_time at 0x7f0cb00ff5f0> START\n"
          ],
          "name": "stderr"
        },
        {
          "output_type": "stream",
          "text": [
            "\u001b[37m [Mon, 19 Apr 2021 00:14:19] DEBUG [log.py.log_decorator_wrapper:41] <function prepare_data_time at 0x7f0cb00ff5f0> END\u001b[0m\n"
          ],
          "name": "stdout"
        },
        {
          "output_type": "stream",
          "text": [
            "DEBUG:ETL:<function prepare_data_time at 0x7f0cb00ff5f0> END\n"
          ],
          "name": "stderr"
        },
        {
          "output_type": "stream",
          "text": [
            "\u001b[32m [Mon, 19 Apr 2021 00:14:19] INFO [etl_step.py.process_etl:38] Filter dates: 2020-10-06 00:00:00 - 2020-10-06 23:59:59\u001b[0m\n"
          ],
          "name": "stdout"
        },
        {
          "output_type": "stream",
          "text": [
            "INFO:ETL:Filter dates: 2020-10-06 00:00:00 - 2020-10-06 23:59:59\n"
          ],
          "name": "stderr"
        },
        {
          "output_type": "stream",
          "text": [
            "\u001b[37m [Mon, 19 Apr 2021 00:14:19] DEBUG [log.py.log_decorator_wrapper:38] <function process_meteo_dataframe at 0x7f0cb001ed40> START\u001b[0m\n"
          ],
          "name": "stdout"
        },
        {
          "output_type": "stream",
          "text": [
            "DEBUG:ETL:<function process_meteo_dataframe at 0x7f0cb001ed40> START\n"
          ],
          "name": "stderr"
        },
        {
          "output_type": "stream",
          "text": [
            "\u001b[37m [Mon, 19 Apr 2021 00:14:19] DEBUG [log.py.log_decorator_wrapper:41] <function process_meteo_dataframe at 0x7f0cb001ed40> END\u001b[0m\n"
          ],
          "name": "stdout"
        },
        {
          "output_type": "stream",
          "text": [
            "DEBUG:ETL:<function process_meteo_dataframe at 0x7f0cb001ed40> END\n"
          ],
          "name": "stderr"
        },
        {
          "output_type": "stream",
          "text": [
            "\u001b[37m [Mon, 19 Apr 2021 00:14:19] DEBUG [etl.py.fill_dataframe_by_ut:105] In: 2020-10-06 \u001b[0m\n"
          ],
          "name": "stdout"
        },
        {
          "output_type": "stream",
          "text": [
            "DEBUG:ETL:In: 2020-10-06 \n"
          ],
          "name": "stderr"
        },
        {
          "output_type": "stream",
          "text": [
            "\u001b[37m [Mon, 19 Apr 2021 00:14:21] DEBUG [etl.py.fill_dataframe_by_ut:116] Out: 2020-10-06 \u001b[0m\n"
          ],
          "name": "stdout"
        },
        {
          "output_type": "stream",
          "text": [
            "DEBUG:ETL:Out: 2020-10-06 \n"
          ],
          "name": "stderr"
        },
        {
          "output_type": "stream",
          "text": [
            "\u001b[37m [Mon, 19 Apr 2021 00:14:21] DEBUG [log.py.log_decorator_wrapper:38] <function generate_new_columns_from_gps_data at 0x7f0cb001ee60> START\u001b[0m\n"
          ],
          "name": "stdout"
        },
        {
          "output_type": "stream",
          "text": [
            "DEBUG:ETL:<function generate_new_columns_from_gps_data at 0x7f0cb001ee60> START\n"
          ],
          "name": "stderr"
        },
        {
          "output_type": "stream",
          "text": [
            "\u001b[37m [Mon, 19 Apr 2021 00:14:41] DEBUG [etl.py.fill_dataframe_by_ut:105] In: 2020-10-06 \u001b[0m\n"
          ],
          "name": "stdout"
        },
        {
          "output_type": "stream",
          "text": [
            "DEBUG:ETL:In: 2020-10-06 \n"
          ],
          "name": "stderr"
        },
        {
          "output_type": "stream",
          "text": [
            "\u001b[37m [Mon, 19 Apr 2021 00:14:43] DEBUG [etl.py.fill_dataframe_by_ut:116] Out: 2020-10-06 \u001b[0m\n"
          ],
          "name": "stdout"
        },
        {
          "output_type": "stream",
          "text": [
            "DEBUG:ETL:Out: 2020-10-06 \n"
          ],
          "name": "stderr"
        },
        {
          "output_type": "stream",
          "text": [
            "\u001b[37m [Mon, 19 Apr 2021 00:16:54] DEBUG [log.py.log_decorator_wrapper:41] <function generate_new_columns_from_gps_data at 0x7f0cb001ee60> END\u001b[0m\n"
          ],
          "name": "stdout"
        },
        {
          "output_type": "stream",
          "text": [
            "DEBUG:ETL:<function generate_new_columns_from_gps_data at 0x7f0cb001ee60> END\n"
          ],
          "name": "stderr"
        },
        {
          "output_type": "stream",
          "text": [
            "\u001b[37m [Mon, 19 Apr 2021 00:16:54] DEBUG [log.py.log_decorator_wrapper:38] <function merge_with_meteo at 0x7f0cb001ef80> START\u001b[0m\n"
          ],
          "name": "stdout"
        },
        {
          "output_type": "stream",
          "text": [
            "DEBUG:ETL:<function merge_with_meteo at 0x7f0cb001ef80> START\n"
          ],
          "name": "stderr"
        },
        {
          "output_type": "stream",
          "text": [
            "\u001b[37m [Mon, 19 Apr 2021 00:16:54] DEBUG [log.py.log_decorator_wrapper:41] <function merge_with_meteo at 0x7f0cb001ef80> END\u001b[0m\n"
          ],
          "name": "stdout"
        },
        {
          "output_type": "stream",
          "text": [
            "DEBUG:ETL:<function merge_with_meteo at 0x7f0cb001ef80> END\n"
          ],
          "name": "stderr"
        },
        {
          "output_type": "stream",
          "text": [
            "\u001b[37m [Mon, 19 Apr 2021 00:16:54] DEBUG [log.py.log_decorator_wrapper:38] <function create_index_ts_date at 0x7f0cb00220e0> START\u001b[0m\n"
          ],
          "name": "stdout"
        },
        {
          "output_type": "stream",
          "text": [
            "DEBUG:ETL:<function create_index_ts_date at 0x7f0cb00220e0> START\n"
          ],
          "name": "stderr"
        },
        {
          "output_type": "stream",
          "text": [
            "\u001b[37m [Mon, 19 Apr 2021 00:16:54] DEBUG [log.py.log_decorator_wrapper:41] <function create_index_ts_date at 0x7f0cb00220e0> END\u001b[0m\n"
          ],
          "name": "stdout"
        },
        {
          "output_type": "stream",
          "text": [
            "DEBUG:ETL:<function create_index_ts_date at 0x7f0cb00220e0> END\n"
          ],
          "name": "stderr"
        },
        {
          "output_type": "stream",
          "text": [
            "\u001b[37m [Mon, 19 Apr 2021 00:16:54] DEBUG [log.py.log_decorator_wrapper:38] <function generate_auxiliar_columns at 0x7f0cb0022200> START\u001b[0m\n"
          ],
          "name": "stdout"
        },
        {
          "output_type": "stream",
          "text": [
            "DEBUG:ETL:<function generate_auxiliar_columns at 0x7f0cb0022200> START\n"
          ],
          "name": "stderr"
        },
        {
          "output_type": "stream",
          "text": [
            "\u001b[37m [Mon, 19 Apr 2021 00:18:35] DEBUG [etl.py.fill_dataframe_by_ut:105] In: 2020-10-06 \u001b[0m\n"
          ],
          "name": "stdout"
        },
        {
          "output_type": "stream",
          "text": [
            "DEBUG:ETL:In: 2020-10-06 \n"
          ],
          "name": "stderr"
        },
        {
          "output_type": "stream",
          "text": [
            "\u001b[37m [Mon, 19 Apr 2021 00:18:38] DEBUG [etl.py.fill_dataframe_by_ut:116] Out: 2020-10-06 \u001b[0m\n"
          ],
          "name": "stdout"
        },
        {
          "output_type": "stream",
          "text": [
            "DEBUG:ETL:Out: 2020-10-06 \n"
          ],
          "name": "stderr"
        },
        {
          "output_type": "stream",
          "text": [
            "\u001b[37m [Mon, 19 Apr 2021 00:20:41] DEBUG [log.py.log_decorator_wrapper:41] <function generate_auxiliar_columns at 0x7f0cb0022200> END\u001b[0m\n"
          ],
          "name": "stdout"
        },
        {
          "output_type": "stream",
          "text": [
            "DEBUG:ETL:<function generate_auxiliar_columns at 0x7f0cb0022200> END\n"
          ],
          "name": "stderr"
        },
        {
          "output_type": "stream",
          "text": [
            "\u001b[37m [Mon, 19 Apr 2021 00:20:49] DEBUG [log.py.log_decorator_wrapper:38] <function create_categorical at 0x7f0cb0022560> START\u001b[0m\n"
          ],
          "name": "stdout"
        },
        {
          "output_type": "stream",
          "text": [
            "DEBUG:ETL:<function create_categorical at 0x7f0cb0022560> START\n"
          ],
          "name": "stderr"
        },
        {
          "output_type": "stream",
          "text": [
            "\u001b[37m [Mon, 19 Apr 2021 00:20:51] DEBUG [log.py.log_decorator_wrapper:41] <function create_categorical at 0x7f0cb0022560> END\u001b[0m\n"
          ],
          "name": "stdout"
        },
        {
          "output_type": "stream",
          "text": [
            "DEBUG:ETL:<function create_categorical at 0x7f0cb0022560> END\n"
          ],
          "name": "stderr"
        },
        {
          "output_type": "stream",
          "text": [
            "\u001b[37m [Mon, 19 Apr 2021 00:20:51] DEBUG [etl.py.fill_dataframe_by_ut:105] In: 2020-10-06 \u001b[0m\n"
          ],
          "name": "stdout"
        },
        {
          "output_type": "stream",
          "text": [
            "DEBUG:ETL:In: 2020-10-06 \n"
          ],
          "name": "stderr"
        },
        {
          "output_type": "stream",
          "text": [
            "\u001b[37m [Mon, 19 Apr 2021 00:20:53] DEBUG [etl.py.fill_dataframe_by_ut:116] Out: 2020-10-06 \u001b[0m\n"
          ],
          "name": "stdout"
        },
        {
          "output_type": "stream",
          "text": [
            "DEBUG:ETL:Out: 2020-10-06 \n"
          ],
          "name": "stderr"
        },
        {
          "output_type": "stream",
          "text": [
            "\u001b[37m [Mon, 19 Apr 2021 00:21:12] DEBUG [log.py.log_decorator_wrapper:41] <function process_etl at 0x7f0cb00dc5f0> END\u001b[0m\n"
          ],
          "name": "stdout"
        },
        {
          "output_type": "stream",
          "text": [
            "DEBUG:ETL:<function process_etl at 0x7f0cb00dc5f0> END\n"
          ],
          "name": "stderr"
        },
        {
          "output_type": "stream",
          "text": [
            "cafcodingdatos/raw/date=2020-10-07/part-00000-tid-4502735041458916000-1def1e63-76d9-4841-bd06-f798a2422800-4174-6.c000.snappy.parquet\n",
            "cafcodingdatos/raw/date=2020-10-07/part-00001-tid-4502735041458916000-1def1e63-76d9-4841-bd06-f798a2422800-4115-1.c000.snappy.parquet\n",
            "cafcodingdatos/raw/date=2020-10-07/part-00018-tid-4502735041458916000-1def1e63-76d9-4841-bd06-f798a2422800-4288-3.c000.snappy.parquet\n",
            "cafcodingdatos/raw/date=2020-10-07/part-00036-tid-4502735041458916000-1def1e63-76d9-4841-bd06-f798a2422800-4273-2.c000.snappy.parquet\n",
            "cafcodingdatos/raw/date=2020-10-07/part-00056-tid-4502735041458916000-1def1e63-76d9-4841-bd06-f798a2422800-4293-2.c000.snappy.parquet\n",
            "cafcodingdatos/raw/date=2020-10-07/part-00073-tid-4502735041458916000-1def1e63-76d9-4841-bd06-f798a2422800-4295-5.c000.snappy.parquet\n",
            "cafcodingdatos/raw/date=2020-10-07/part-00074-tid-4502735041458916000-1def1e63-76d9-4841-bd06-f798a2422800-4221-1.c000.snappy.parquet\n",
            "cafcodingdatos/raw/date=2020-10-07/part-00092-tid-4502735041458916000-1def1e63-76d9-4841-bd06-f798a2422800-4175-3.c000.snappy.parquet\n",
            "cafcodingdatos/raw/date=2020-10-07/part-00108-tid-4502735041458916000-1def1e63-76d9-4841-bd06-f798a2422800-4189-5.c000.snappy.parquet\n",
            "cafcodingdatos/raw/date=2020-10-07/part-00109-tid-4502735041458916000-1def1e63-76d9-4841-bd06-f798a2422800-4207-1.c000.snappy.parquet\n",
            "cafcodingdatos/raw/date=2020-10-07/part-00123-tid-4502735041458916000-1def1e63-76d9-4841-bd06-f798a2422800-4125-2.c000.snappy.parquet\n",
            "cafcodingdatos/raw/date=2020-10-07/part-00143-tid-4502735041458916000-1def1e63-76d9-4841-bd06-f798a2422800-4184-2.c000.snappy.parquet\n",
            "cafcodingdatos/raw/date=2020-10-07/part-00163-tid-4502735041458916000-1def1e63-76d9-4841-bd06-f798a2422800-4166-2.c000.snappy.parquet\n",
            "\u001b[37m [Mon, 19 Apr 2021 00:22:58] DEBUG [log.py.log_decorator_wrapper:38] <function process_etl at 0x7f0cb00dc5f0> START\u001b[0m\n"
          ],
          "name": "stdout"
        },
        {
          "output_type": "stream",
          "text": [
            "DEBUG:ETL:<function process_etl at 0x7f0cb00dc5f0> START\n"
          ],
          "name": "stderr"
        },
        {
          "output_type": "stream",
          "text": [
            "\u001b[37m [Mon, 19 Apr 2021 00:22:58] DEBUG [log.py.log_decorator_wrapper:38] <function prepare_data_time at 0x7f0cb00ff5f0> START\u001b[0m\n"
          ],
          "name": "stdout"
        },
        {
          "output_type": "stream",
          "text": [
            "DEBUG:ETL:<function prepare_data_time at 0x7f0cb00ff5f0> START\n"
          ],
          "name": "stderr"
        },
        {
          "output_type": "stream",
          "text": [
            "\u001b[37m [Mon, 19 Apr 2021 00:22:58] DEBUG [log.py.log_decorator_wrapper:41] <function prepare_data_time at 0x7f0cb00ff5f0> END\u001b[0m\n"
          ],
          "name": "stdout"
        },
        {
          "output_type": "stream",
          "text": [
            "DEBUG:ETL:<function prepare_data_time at 0x7f0cb00ff5f0> END\n"
          ],
          "name": "stderr"
        },
        {
          "output_type": "stream",
          "text": [
            "\u001b[32m [Mon, 19 Apr 2021 00:22:58] INFO [etl_step.py.process_etl:38] Filter dates: 2020-10-07 00:00:00 - 2020-10-07 23:59:59\u001b[0m\n"
          ],
          "name": "stdout"
        },
        {
          "output_type": "stream",
          "text": [
            "INFO:ETL:Filter dates: 2020-10-07 00:00:00 - 2020-10-07 23:59:59\n"
          ],
          "name": "stderr"
        },
        {
          "output_type": "stream",
          "text": [
            "\u001b[37m [Mon, 19 Apr 2021 00:22:58] DEBUG [log.py.log_decorator_wrapper:38] <function process_meteo_dataframe at 0x7f0cb001ed40> START\u001b[0m\n"
          ],
          "name": "stdout"
        },
        {
          "output_type": "stream",
          "text": [
            "DEBUG:ETL:<function process_meteo_dataframe at 0x7f0cb001ed40> START\n"
          ],
          "name": "stderr"
        },
        {
          "output_type": "stream",
          "text": [
            "\u001b[37m [Mon, 19 Apr 2021 00:22:58] DEBUG [log.py.log_decorator_wrapper:41] <function process_meteo_dataframe at 0x7f0cb001ed40> END\u001b[0m\n"
          ],
          "name": "stdout"
        },
        {
          "output_type": "stream",
          "text": [
            "DEBUG:ETL:<function process_meteo_dataframe at 0x7f0cb001ed40> END\n"
          ],
          "name": "stderr"
        },
        {
          "output_type": "stream",
          "text": [
            "\u001b[37m [Mon, 19 Apr 2021 00:22:59] DEBUG [etl.py.fill_dataframe_by_ut:105] In: 2020-10-07 \u001b[0m\n"
          ],
          "name": "stdout"
        },
        {
          "output_type": "stream",
          "text": [
            "DEBUG:ETL:In: 2020-10-07 \n"
          ],
          "name": "stderr"
        },
        {
          "output_type": "stream",
          "text": [
            "\u001b[37m [Mon, 19 Apr 2021 00:23:00] DEBUG [etl.py.fill_dataframe_by_ut:116] Out: 2020-10-07 \u001b[0m\n"
          ],
          "name": "stdout"
        },
        {
          "output_type": "stream",
          "text": [
            "DEBUG:ETL:Out: 2020-10-07 \n"
          ],
          "name": "stderr"
        },
        {
          "output_type": "stream",
          "text": [
            "\u001b[37m [Mon, 19 Apr 2021 00:23:00] DEBUG [log.py.log_decorator_wrapper:38] <function generate_new_columns_from_gps_data at 0x7f0cb001ee60> START\u001b[0m\n"
          ],
          "name": "stdout"
        },
        {
          "output_type": "stream",
          "text": [
            "DEBUG:ETL:<function generate_new_columns_from_gps_data at 0x7f0cb001ee60> START\n"
          ],
          "name": "stderr"
        },
        {
          "output_type": "stream",
          "text": [
            "\u001b[37m [Mon, 19 Apr 2021 00:23:22] DEBUG [etl.py.fill_dataframe_by_ut:105] In: 2020-10-07 \u001b[0m\n"
          ],
          "name": "stdout"
        },
        {
          "output_type": "stream",
          "text": [
            "DEBUG:ETL:In: 2020-10-07 \n"
          ],
          "name": "stderr"
        },
        {
          "output_type": "stream",
          "text": [
            "\u001b[37m [Mon, 19 Apr 2021 00:23:24] DEBUG [etl.py.fill_dataframe_by_ut:116] Out: 2020-10-07 \u001b[0m\n"
          ],
          "name": "stdout"
        },
        {
          "output_type": "stream",
          "text": [
            "DEBUG:ETL:Out: 2020-10-07 \n"
          ],
          "name": "stderr"
        },
        {
          "output_type": "stream",
          "text": [
            "\u001b[37m [Mon, 19 Apr 2021 00:25:43] DEBUG [log.py.log_decorator_wrapper:41] <function generate_new_columns_from_gps_data at 0x7f0cb001ee60> END\u001b[0m\n"
          ],
          "name": "stdout"
        },
        {
          "output_type": "stream",
          "text": [
            "DEBUG:ETL:<function generate_new_columns_from_gps_data at 0x7f0cb001ee60> END\n"
          ],
          "name": "stderr"
        },
        {
          "output_type": "stream",
          "text": [
            "\u001b[37m [Mon, 19 Apr 2021 00:25:43] DEBUG [log.py.log_decorator_wrapper:38] <function merge_with_meteo at 0x7f0cb001ef80> START\u001b[0m\n"
          ],
          "name": "stdout"
        },
        {
          "output_type": "stream",
          "text": [
            "DEBUG:ETL:<function merge_with_meteo at 0x7f0cb001ef80> START\n"
          ],
          "name": "stderr"
        },
        {
          "output_type": "stream",
          "text": [
            "\u001b[37m [Mon, 19 Apr 2021 00:25:43] DEBUG [log.py.log_decorator_wrapper:41] <function merge_with_meteo at 0x7f0cb001ef80> END\u001b[0m\n"
          ],
          "name": "stdout"
        },
        {
          "output_type": "stream",
          "text": [
            "DEBUG:ETL:<function merge_with_meteo at 0x7f0cb001ef80> END\n"
          ],
          "name": "stderr"
        },
        {
          "output_type": "stream",
          "text": [
            "\u001b[37m [Mon, 19 Apr 2021 00:25:43] DEBUG [log.py.log_decorator_wrapper:38] <function create_index_ts_date at 0x7f0cb00220e0> START\u001b[0m\n"
          ],
          "name": "stdout"
        },
        {
          "output_type": "stream",
          "text": [
            "DEBUG:ETL:<function create_index_ts_date at 0x7f0cb00220e0> START\n"
          ],
          "name": "stderr"
        },
        {
          "output_type": "stream",
          "text": [
            "\u001b[37m [Mon, 19 Apr 2021 00:25:44] DEBUG [log.py.log_decorator_wrapper:41] <function create_index_ts_date at 0x7f0cb00220e0> END\u001b[0m\n"
          ],
          "name": "stdout"
        },
        {
          "output_type": "stream",
          "text": [
            "DEBUG:ETL:<function create_index_ts_date at 0x7f0cb00220e0> END\n"
          ],
          "name": "stderr"
        },
        {
          "output_type": "stream",
          "text": [
            "\u001b[37m [Mon, 19 Apr 2021 00:25:44] DEBUG [log.py.log_decorator_wrapper:38] <function generate_auxiliar_columns at 0x7f0cb0022200> START\u001b[0m\n"
          ],
          "name": "stdout"
        },
        {
          "output_type": "stream",
          "text": [
            "DEBUG:ETL:<function generate_auxiliar_columns at 0x7f0cb0022200> START\n"
          ],
          "name": "stderr"
        },
        {
          "output_type": "stream",
          "text": [
            "\u001b[37m [Mon, 19 Apr 2021 00:27:33] DEBUG [etl.py.fill_dataframe_by_ut:105] In: 2020-10-07 \u001b[0m\n"
          ],
          "name": "stdout"
        },
        {
          "output_type": "stream",
          "text": [
            "DEBUG:ETL:In: 2020-10-07 \n"
          ],
          "name": "stderr"
        },
        {
          "output_type": "stream",
          "text": [
            "\u001b[37m [Mon, 19 Apr 2021 00:27:35] DEBUG [etl.py.fill_dataframe_by_ut:116] Out: 2020-10-07 \u001b[0m\n"
          ],
          "name": "stdout"
        },
        {
          "output_type": "stream",
          "text": [
            "DEBUG:ETL:Out: 2020-10-07 \n"
          ],
          "name": "stderr"
        },
        {
          "output_type": "stream",
          "text": [
            "4 2884802\n",
            "4 2884802\n",
            "\u001b[37m [Mon, 19 Apr 2021 00:29:45] DEBUG [log.py.log_decorator_wrapper:41] <function generate_auxiliar_columns at 0x7f0cb0022200> END\u001b[0m\n"
          ],
          "name": "stdout"
        },
        {
          "output_type": "stream",
          "text": [
            "DEBUG:ETL:<function generate_auxiliar_columns at 0x7f0cb0022200> END\n"
          ],
          "name": "stderr"
        },
        {
          "output_type": "stream",
          "text": [
            "\u001b[37m [Mon, 19 Apr 2021 00:29:52] DEBUG [log.py.log_decorator_wrapper:38] <function create_categorical at 0x7f0cb0022560> START\u001b[0m\n"
          ],
          "name": "stdout"
        },
        {
          "output_type": "stream",
          "text": [
            "DEBUG:ETL:<function create_categorical at 0x7f0cb0022560> START\n"
          ],
          "name": "stderr"
        },
        {
          "output_type": "stream",
          "text": [
            "\u001b[37m [Mon, 19 Apr 2021 00:29:54] DEBUG [log.py.log_decorator_wrapper:41] <function create_categorical at 0x7f0cb0022560> END\u001b[0m\n"
          ],
          "name": "stdout"
        },
        {
          "output_type": "stream",
          "text": [
            "DEBUG:ETL:<function create_categorical at 0x7f0cb0022560> END\n"
          ],
          "name": "stderr"
        },
        {
          "output_type": "stream",
          "text": [
            "\u001b[37m [Mon, 19 Apr 2021 00:29:54] DEBUG [etl.py.fill_dataframe_by_ut:105] In: 2020-10-07 \u001b[0m\n"
          ],
          "name": "stdout"
        },
        {
          "output_type": "stream",
          "text": [
            "DEBUG:ETL:In: 2020-10-07 \n"
          ],
          "name": "stderr"
        },
        {
          "output_type": "stream",
          "text": [
            "\u001b[37m [Mon, 19 Apr 2021 00:29:56] DEBUG [etl.py.fill_dataframe_by_ut:116] Out: 2020-10-07 \u001b[0m\n"
          ],
          "name": "stdout"
        },
        {
          "output_type": "stream",
          "text": [
            "DEBUG:ETL:Out: 2020-10-07 \n"
          ],
          "name": "stderr"
        },
        {
          "output_type": "stream",
          "text": [
            "\u001b[37m [Mon, 19 Apr 2021 00:30:14] DEBUG [log.py.log_decorator_wrapper:41] <function process_etl at 0x7f0cb00dc5f0> END\u001b[0m\n"
          ],
          "name": "stdout"
        },
        {
          "output_type": "stream",
          "text": [
            "DEBUG:ETL:<function process_etl at 0x7f0cb00dc5f0> END\n"
          ],
          "name": "stderr"
        },
        {
          "output_type": "stream",
          "text": [
            "cafcodingdatos/raw/date=2020-10-08/part-00001-tid-4502735041458916000-1def1e63-76d9-4841-bd06-f798a2422800-4115-2.c000.snappy.parquet\n",
            "cafcodingdatos/raw/date=2020-10-08/part-00018-tid-4502735041458916000-1def1e63-76d9-4841-bd06-f798a2422800-4288-4.c000.snappy.parquet\n",
            "cafcodingdatos/raw/date=2020-10-08/part-00019-tid-4502735041458916000-1def1e63-76d9-4841-bd06-f798a2422800-4211-1.c000.snappy.parquet\n",
            "cafcodingdatos/raw/date=2020-10-08/part-00036-tid-4502735041458916000-1def1e63-76d9-4841-bd06-f798a2422800-4273-3.c000.snappy.parquet\n",
            "cafcodingdatos/raw/date=2020-10-08/part-00056-tid-4502735041458916000-1def1e63-76d9-4841-bd06-f798a2422800-4293-3.c000.snappy.parquet\n",
            "cafcodingdatos/raw/date=2020-10-08/part-00074-tid-4502735041458916000-1def1e63-76d9-4841-bd06-f798a2422800-4221-2.c000.snappy.parquet\n",
            "cafcodingdatos/raw/date=2020-10-08/part-00092-tid-4502735041458916000-1def1e63-76d9-4841-bd06-f798a2422800-4175-4.c000.snappy.parquet\n",
            "cafcodingdatos/raw/date=2020-10-08/part-00109-tid-4502735041458916000-1def1e63-76d9-4841-bd06-f798a2422800-4207-2.c000.snappy.parquet\n",
            "cafcodingdatos/raw/date=2020-10-08/part-00123-tid-4502735041458916000-1def1e63-76d9-4841-bd06-f798a2422800-4125-3.c000.snappy.parquet\n",
            "cafcodingdatos/raw/date=2020-10-08/part-00143-tid-4502735041458916000-1def1e63-76d9-4841-bd06-f798a2422800-4184-3.c000.snappy.parquet\n",
            "cafcodingdatos/raw/date=2020-10-08/part-00163-tid-4502735041458916000-1def1e63-76d9-4841-bd06-f798a2422800-4166-3.c000.snappy.parquet\n",
            "\u001b[37m [Mon, 19 Apr 2021 00:32:18] DEBUG [log.py.log_decorator_wrapper:38] <function process_etl at 0x7f0cb00dc5f0> START\u001b[0m\n"
          ],
          "name": "stdout"
        },
        {
          "output_type": "stream",
          "text": [
            "DEBUG:ETL:<function process_etl at 0x7f0cb00dc5f0> START\n"
          ],
          "name": "stderr"
        },
        {
          "output_type": "stream",
          "text": [
            "\u001b[37m [Mon, 19 Apr 2021 00:32:18] DEBUG [log.py.log_decorator_wrapper:38] <function prepare_data_time at 0x7f0cb00ff5f0> START\u001b[0m\n"
          ],
          "name": "stdout"
        },
        {
          "output_type": "stream",
          "text": [
            "DEBUG:ETL:<function prepare_data_time at 0x7f0cb00ff5f0> START\n"
          ],
          "name": "stderr"
        },
        {
          "output_type": "stream",
          "text": [
            "\u001b[37m [Mon, 19 Apr 2021 00:32:19] DEBUG [log.py.log_decorator_wrapper:41] <function prepare_data_time at 0x7f0cb00ff5f0> END\u001b[0m\n"
          ],
          "name": "stdout"
        },
        {
          "output_type": "stream",
          "text": [
            "DEBUG:ETL:<function prepare_data_time at 0x7f0cb00ff5f0> END\n"
          ],
          "name": "stderr"
        },
        {
          "output_type": "stream",
          "text": [
            "\u001b[32m [Mon, 19 Apr 2021 00:32:19] INFO [etl_step.py.process_etl:38] Filter dates: 2020-10-08 00:00:00 - 2020-10-08 23:59:59\u001b[0m\n"
          ],
          "name": "stdout"
        },
        {
          "output_type": "stream",
          "text": [
            "INFO:ETL:Filter dates: 2020-10-08 00:00:00 - 2020-10-08 23:59:59\n"
          ],
          "name": "stderr"
        },
        {
          "output_type": "stream",
          "text": [
            "\u001b[37m [Mon, 19 Apr 2021 00:32:19] DEBUG [log.py.log_decorator_wrapper:38] <function process_meteo_dataframe at 0x7f0cb001ed40> START\u001b[0m\n"
          ],
          "name": "stdout"
        },
        {
          "output_type": "stream",
          "text": [
            "DEBUG:ETL:<function process_meteo_dataframe at 0x7f0cb001ed40> START\n"
          ],
          "name": "stderr"
        },
        {
          "output_type": "stream",
          "text": [
            "\u001b[37m [Mon, 19 Apr 2021 00:32:19] DEBUG [log.py.log_decorator_wrapper:41] <function process_meteo_dataframe at 0x7f0cb001ed40> END\u001b[0m\n"
          ],
          "name": "stdout"
        },
        {
          "output_type": "stream",
          "text": [
            "DEBUG:ETL:<function process_meteo_dataframe at 0x7f0cb001ed40> END\n"
          ],
          "name": "stderr"
        },
        {
          "output_type": "stream",
          "text": [
            "\u001b[37m [Mon, 19 Apr 2021 00:32:19] DEBUG [etl.py.fill_dataframe_by_ut:105] In: 2020-10-08 \u001b[0m\n"
          ],
          "name": "stdout"
        },
        {
          "output_type": "stream",
          "text": [
            "DEBUG:ETL:In: 2020-10-08 \n"
          ],
          "name": "stderr"
        },
        {
          "output_type": "stream",
          "text": [
            "\u001b[37m [Mon, 19 Apr 2021 00:32:21] DEBUG [etl.py.fill_dataframe_by_ut:116] Out: 2020-10-08 \u001b[0m\n"
          ],
          "name": "stdout"
        },
        {
          "output_type": "stream",
          "text": [
            "DEBUG:ETL:Out: 2020-10-08 \n"
          ],
          "name": "stderr"
        },
        {
          "output_type": "stream",
          "text": [
            "\u001b[37m [Mon, 19 Apr 2021 00:32:21] DEBUG [log.py.log_decorator_wrapper:38] <function generate_new_columns_from_gps_data at 0x7f0cb001ee60> START\u001b[0m\n"
          ],
          "name": "stdout"
        },
        {
          "output_type": "stream",
          "text": [
            "DEBUG:ETL:<function generate_new_columns_from_gps_data at 0x7f0cb001ee60> START\n"
          ],
          "name": "stderr"
        },
        {
          "output_type": "stream",
          "text": [
            "\u001b[37m [Mon, 19 Apr 2021 00:32:44] DEBUG [etl.py.fill_dataframe_by_ut:105] In: 2020-10-08 \u001b[0m\n"
          ],
          "name": "stdout"
        },
        {
          "output_type": "stream",
          "text": [
            "DEBUG:ETL:In: 2020-10-08 \n"
          ],
          "name": "stderr"
        },
        {
          "output_type": "stream",
          "text": [
            "\u001b[37m [Mon, 19 Apr 2021 00:32:45] DEBUG [etl.py.fill_dataframe_by_ut:116] Out: 2020-10-08 \u001b[0m\n"
          ],
          "name": "stdout"
        },
        {
          "output_type": "stream",
          "text": [
            "DEBUG:ETL:Out: 2020-10-08 \n"
          ],
          "name": "stderr"
        },
        {
          "output_type": "stream",
          "text": [
            "\u001b[37m [Mon, 19 Apr 2021 00:35:07] DEBUG [log.py.log_decorator_wrapper:41] <function generate_new_columns_from_gps_data at 0x7f0cb001ee60> END\u001b[0m\n"
          ],
          "name": "stdout"
        },
        {
          "output_type": "stream",
          "text": [
            "DEBUG:ETL:<function generate_new_columns_from_gps_data at 0x7f0cb001ee60> END\n"
          ],
          "name": "stderr"
        },
        {
          "output_type": "stream",
          "text": [
            "\u001b[37m [Mon, 19 Apr 2021 00:35:07] DEBUG [log.py.log_decorator_wrapper:38] <function merge_with_meteo at 0x7f0cb001ef80> START\u001b[0m\n"
          ],
          "name": "stdout"
        },
        {
          "output_type": "stream",
          "text": [
            "DEBUG:ETL:<function merge_with_meteo at 0x7f0cb001ef80> START\n"
          ],
          "name": "stderr"
        },
        {
          "output_type": "stream",
          "text": [
            "\u001b[37m [Mon, 19 Apr 2021 00:35:07] DEBUG [log.py.log_decorator_wrapper:41] <function merge_with_meteo at 0x7f0cb001ef80> END\u001b[0m\n"
          ],
          "name": "stdout"
        },
        {
          "output_type": "stream",
          "text": [
            "DEBUG:ETL:<function merge_with_meteo at 0x7f0cb001ef80> END\n"
          ],
          "name": "stderr"
        },
        {
          "output_type": "stream",
          "text": [
            "\u001b[37m [Mon, 19 Apr 2021 00:35:07] DEBUG [log.py.log_decorator_wrapper:38] <function create_index_ts_date at 0x7f0cb00220e0> START\u001b[0m\n"
          ],
          "name": "stdout"
        },
        {
          "output_type": "stream",
          "text": [
            "DEBUG:ETL:<function create_index_ts_date at 0x7f0cb00220e0> START\n"
          ],
          "name": "stderr"
        },
        {
          "output_type": "stream",
          "text": [
            "\u001b[37m [Mon, 19 Apr 2021 00:35:07] DEBUG [log.py.log_decorator_wrapper:41] <function create_index_ts_date at 0x7f0cb00220e0> END\u001b[0m\n"
          ],
          "name": "stdout"
        },
        {
          "output_type": "stream",
          "text": [
            "DEBUG:ETL:<function create_index_ts_date at 0x7f0cb00220e0> END\n"
          ],
          "name": "stderr"
        },
        {
          "output_type": "stream",
          "text": [
            "\u001b[37m [Mon, 19 Apr 2021 00:35:07] DEBUG [log.py.log_decorator_wrapper:38] <function generate_auxiliar_columns at 0x7f0cb0022200> START\u001b[0m\n"
          ],
          "name": "stdout"
        },
        {
          "output_type": "stream",
          "text": [
            "DEBUG:ETL:<function generate_auxiliar_columns at 0x7f0cb0022200> START\n"
          ],
          "name": "stderr"
        },
        {
          "output_type": "stream",
          "text": [
            "\u001b[37m [Mon, 19 Apr 2021 00:36:59] DEBUG [etl.py.fill_dataframe_by_ut:105] In: 2020-10-08 \u001b[0m\n"
          ],
          "name": "stdout"
        },
        {
          "output_type": "stream",
          "text": [
            "DEBUG:ETL:In: 2020-10-08 \n"
          ],
          "name": "stderr"
        },
        {
          "output_type": "stream",
          "text": [
            "\u001b[37m [Mon, 19 Apr 2021 00:37:02] DEBUG [etl.py.fill_dataframe_by_ut:116] Out: 2020-10-08 \u001b[0m\n"
          ],
          "name": "stdout"
        },
        {
          "output_type": "stream",
          "text": [
            "DEBUG:ETL:Out: 2020-10-08 \n"
          ],
          "name": "stderr"
        },
        {
          "output_type": "stream",
          "text": [
            "4 2884802\n",
            "\u001b[37m [Mon, 19 Apr 2021 00:39:05] DEBUG [log.py.log_decorator_wrapper:41] <function generate_auxiliar_columns at 0x7f0cb0022200> END\u001b[0m\n"
          ],
          "name": "stdout"
        },
        {
          "output_type": "stream",
          "text": [
            "DEBUG:ETL:<function generate_auxiliar_columns at 0x7f0cb0022200> END\n"
          ],
          "name": "stderr"
        },
        {
          "output_type": "stream",
          "text": [
            "\u001b[37m [Mon, 19 Apr 2021 00:39:13] DEBUG [log.py.log_decorator_wrapper:38] <function create_categorical at 0x7f0cb0022560> START\u001b[0m\n"
          ],
          "name": "stdout"
        },
        {
          "output_type": "stream",
          "text": [
            "DEBUG:ETL:<function create_categorical at 0x7f0cb0022560> START\n"
          ],
          "name": "stderr"
        },
        {
          "output_type": "stream",
          "text": [
            "\u001b[37m [Mon, 19 Apr 2021 00:39:14] DEBUG [log.py.log_decorator_wrapper:41] <function create_categorical at 0x7f0cb0022560> END\u001b[0m\n"
          ],
          "name": "stdout"
        },
        {
          "output_type": "stream",
          "text": [
            "DEBUG:ETL:<function create_categorical at 0x7f0cb0022560> END\n"
          ],
          "name": "stderr"
        },
        {
          "output_type": "stream",
          "text": [
            "\u001b[37m [Mon, 19 Apr 2021 00:39:14] DEBUG [etl.py.fill_dataframe_by_ut:105] In: 2020-10-08 \u001b[0m\n"
          ],
          "name": "stdout"
        },
        {
          "output_type": "stream",
          "text": [
            "DEBUG:ETL:In: 2020-10-08 \n"
          ],
          "name": "stderr"
        },
        {
          "output_type": "stream",
          "text": [
            "\u001b[37m [Mon, 19 Apr 2021 00:39:16] DEBUG [etl.py.fill_dataframe_by_ut:116] Out: 2020-10-08 \u001b[0m\n"
          ],
          "name": "stdout"
        },
        {
          "output_type": "stream",
          "text": [
            "DEBUG:ETL:Out: 2020-10-08 \n"
          ],
          "name": "stderr"
        },
        {
          "output_type": "stream",
          "text": [
            "\u001b[37m [Mon, 19 Apr 2021 00:39:35] DEBUG [log.py.log_decorator_wrapper:41] <function process_etl at 0x7f0cb00dc5f0> END\u001b[0m\n"
          ],
          "name": "stdout"
        },
        {
          "output_type": "stream",
          "text": [
            "DEBUG:ETL:<function process_etl at 0x7f0cb00dc5f0> END\n"
          ],
          "name": "stderr"
        },
        {
          "output_type": "stream",
          "text": [
            "cafcodingdatos/raw/date=2020-10-09/part-00001-tid-4502735041458916000-1def1e63-76d9-4841-bd06-f798a2422800-4115-3.c000.snappy.parquet\n",
            "cafcodingdatos/raw/date=2020-10-09/part-00019-tid-4502735041458916000-1def1e63-76d9-4841-bd06-f798a2422800-4211-2.c000.snappy.parquet\n",
            "cafcodingdatos/raw/date=2020-10-09/part-00036-tid-4502735041458916000-1def1e63-76d9-4841-bd06-f798a2422800-4273-4.c000.snappy.parquet\n",
            "cafcodingdatos/raw/date=2020-10-09/part-00037-tid-4502735041458916000-1def1e63-76d9-4841-bd06-f798a2422800-4123-1.c000.snappy.parquet\n",
            "cafcodingdatos/raw/date=2020-10-09/part-00056-tid-4502735041458916000-1def1e63-76d9-4841-bd06-f798a2422800-4293-4.c000.snappy.parquet\n",
            "cafcodingdatos/raw/date=2020-10-09/part-00074-tid-4502735041458916000-1def1e63-76d9-4841-bd06-f798a2422800-4221-3.c000.snappy.parquet\n",
            "cafcodingdatos/raw/date=2020-10-09/part-00092-tid-4502735041458916000-1def1e63-76d9-4841-bd06-f798a2422800-4175-5.c000.snappy.parquet\n",
            "cafcodingdatos/raw/date=2020-10-09/part-00109-tid-4502735041458916000-1def1e63-76d9-4841-bd06-f798a2422800-4207-3.c000.snappy.parquet\n",
            "cafcodingdatos/raw/date=2020-10-09/part-00123-tid-4502735041458916000-1def1e63-76d9-4841-bd06-f798a2422800-4125-4.c000.snappy.parquet\n",
            "cafcodingdatos/raw/date=2020-10-09/part-00143-tid-4502735041458916000-1def1e63-76d9-4841-bd06-f798a2422800-4184-4.c000.snappy.parquet\n",
            "cafcodingdatos/raw/date=2020-10-09/part-00144-tid-4502735041458916000-1def1e63-76d9-4841-bd06-f798a2422800-4266-1.c000.snappy.parquet\n",
            "cafcodingdatos/raw/date=2020-10-09/part-00163-tid-4502735041458916000-1def1e63-76d9-4841-bd06-f798a2422800-4166-4.c000.snappy.parquet\n",
            "cafcodingdatos/raw/date=2020-10-09/part-00164-tid-4502735041458916000-1def1e63-76d9-4841-bd06-f798a2422800-4153-1.c000.snappy.parquet\n",
            "\u001b[37m [Mon, 19 Apr 2021 00:41:07] DEBUG [log.py.log_decorator_wrapper:38] <function process_etl at 0x7f0cb00dc5f0> START\u001b[0m\n"
          ],
          "name": "stdout"
        },
        {
          "output_type": "stream",
          "text": [
            "DEBUG:ETL:<function process_etl at 0x7f0cb00dc5f0> START\n"
          ],
          "name": "stderr"
        },
        {
          "output_type": "stream",
          "text": [
            "\u001b[37m [Mon, 19 Apr 2021 00:41:07] DEBUG [log.py.log_decorator_wrapper:38] <function prepare_data_time at 0x7f0cb00ff5f0> START\u001b[0m\n"
          ],
          "name": "stdout"
        },
        {
          "output_type": "stream",
          "text": [
            "DEBUG:ETL:<function prepare_data_time at 0x7f0cb00ff5f0> START\n"
          ],
          "name": "stderr"
        },
        {
          "output_type": "stream",
          "text": [
            "\u001b[37m [Mon, 19 Apr 2021 00:41:08] DEBUG [log.py.log_decorator_wrapper:41] <function prepare_data_time at 0x7f0cb00ff5f0> END\u001b[0m\n"
          ],
          "name": "stdout"
        },
        {
          "output_type": "stream",
          "text": [
            "DEBUG:ETL:<function prepare_data_time at 0x7f0cb00ff5f0> END\n"
          ],
          "name": "stderr"
        },
        {
          "output_type": "stream",
          "text": [
            "\u001b[32m [Mon, 19 Apr 2021 00:41:08] INFO [etl_step.py.process_etl:38] Filter dates: 2020-10-09 00:00:00 - 2020-10-09 23:59:59\u001b[0m\n"
          ],
          "name": "stdout"
        },
        {
          "output_type": "stream",
          "text": [
            "INFO:ETL:Filter dates: 2020-10-09 00:00:00 - 2020-10-09 23:59:59\n"
          ],
          "name": "stderr"
        },
        {
          "output_type": "stream",
          "text": [
            "\u001b[37m [Mon, 19 Apr 2021 00:41:08] DEBUG [log.py.log_decorator_wrapper:38] <function process_meteo_dataframe at 0x7f0cb001ed40> START\u001b[0m\n"
          ],
          "name": "stdout"
        },
        {
          "output_type": "stream",
          "text": [
            "DEBUG:ETL:<function process_meteo_dataframe at 0x7f0cb001ed40> START\n"
          ],
          "name": "stderr"
        },
        {
          "output_type": "stream",
          "text": [
            "\u001b[37m [Mon, 19 Apr 2021 00:41:08] DEBUG [log.py.log_decorator_wrapper:41] <function process_meteo_dataframe at 0x7f0cb001ed40> END\u001b[0m\n"
          ],
          "name": "stdout"
        },
        {
          "output_type": "stream",
          "text": [
            "DEBUG:ETL:<function process_meteo_dataframe at 0x7f0cb001ed40> END\n"
          ],
          "name": "stderr"
        },
        {
          "output_type": "stream",
          "text": [
            "\u001b[37m [Mon, 19 Apr 2021 00:41:08] DEBUG [etl.py.fill_dataframe_by_ut:105] In: 2020-10-09 \u001b[0m\n"
          ],
          "name": "stdout"
        },
        {
          "output_type": "stream",
          "text": [
            "DEBUG:ETL:In: 2020-10-09 \n"
          ],
          "name": "stderr"
        },
        {
          "output_type": "stream",
          "text": [
            "\u001b[37m [Mon, 19 Apr 2021 00:41:10] DEBUG [etl.py.fill_dataframe_by_ut:116] Out: 2020-10-09 \u001b[0m\n"
          ],
          "name": "stdout"
        },
        {
          "output_type": "stream",
          "text": [
            "DEBUG:ETL:Out: 2020-10-09 \n"
          ],
          "name": "stderr"
        },
        {
          "output_type": "stream",
          "text": [
            "\u001b[37m [Mon, 19 Apr 2021 00:41:10] DEBUG [log.py.log_decorator_wrapper:38] <function generate_new_columns_from_gps_data at 0x7f0cb001ee60> START\u001b[0m\n"
          ],
          "name": "stdout"
        },
        {
          "output_type": "stream",
          "text": [
            "DEBUG:ETL:<function generate_new_columns_from_gps_data at 0x7f0cb001ee60> START\n"
          ],
          "name": "stderr"
        },
        {
          "output_type": "stream",
          "text": [
            "\u001b[37m [Mon, 19 Apr 2021 00:41:31] DEBUG [etl.py.fill_dataframe_by_ut:105] In: 2020-10-09 \u001b[0m\n"
          ],
          "name": "stdout"
        },
        {
          "output_type": "stream",
          "text": [
            "DEBUG:ETL:In: 2020-10-09 \n"
          ],
          "name": "stderr"
        },
        {
          "output_type": "stream",
          "text": [
            "\u001b[37m [Mon, 19 Apr 2021 00:41:32] DEBUG [etl.py.fill_dataframe_by_ut:116] Out: 2020-10-09 \u001b[0m\n"
          ],
          "name": "stdout"
        },
        {
          "output_type": "stream",
          "text": [
            "DEBUG:ETL:Out: 2020-10-09 \n"
          ],
          "name": "stderr"
        },
        {
          "output_type": "stream",
          "text": [
            "\u001b[37m [Mon, 19 Apr 2021 00:43:48] DEBUG [log.py.log_decorator_wrapper:41] <function generate_new_columns_from_gps_data at 0x7f0cb001ee60> END\u001b[0m\n"
          ],
          "name": "stdout"
        },
        {
          "output_type": "stream",
          "text": [
            "DEBUG:ETL:<function generate_new_columns_from_gps_data at 0x7f0cb001ee60> END\n"
          ],
          "name": "stderr"
        },
        {
          "output_type": "stream",
          "text": [
            "\u001b[37m [Mon, 19 Apr 2021 00:43:48] DEBUG [log.py.log_decorator_wrapper:38] <function merge_with_meteo at 0x7f0cb001ef80> START\u001b[0m\n"
          ],
          "name": "stdout"
        },
        {
          "output_type": "stream",
          "text": [
            "DEBUG:ETL:<function merge_with_meteo at 0x7f0cb001ef80> START\n"
          ],
          "name": "stderr"
        },
        {
          "output_type": "stream",
          "text": [
            "\u001b[37m [Mon, 19 Apr 2021 00:43:48] DEBUG [log.py.log_decorator_wrapper:41] <function merge_with_meteo at 0x7f0cb001ef80> END\u001b[0m\n"
          ],
          "name": "stdout"
        },
        {
          "output_type": "stream",
          "text": [
            "DEBUG:ETL:<function merge_with_meteo at 0x7f0cb001ef80> END\n"
          ],
          "name": "stderr"
        },
        {
          "output_type": "stream",
          "text": [
            "\u001b[37m [Mon, 19 Apr 2021 00:43:48] DEBUG [log.py.log_decorator_wrapper:38] <function create_index_ts_date at 0x7f0cb00220e0> START\u001b[0m\n"
          ],
          "name": "stdout"
        },
        {
          "output_type": "stream",
          "text": [
            "DEBUG:ETL:<function create_index_ts_date at 0x7f0cb00220e0> START\n"
          ],
          "name": "stderr"
        },
        {
          "output_type": "stream",
          "text": [
            "\u001b[37m [Mon, 19 Apr 2021 00:43:48] DEBUG [log.py.log_decorator_wrapper:41] <function create_index_ts_date at 0x7f0cb00220e0> END\u001b[0m\n"
          ],
          "name": "stdout"
        },
        {
          "output_type": "stream",
          "text": [
            "DEBUG:ETL:<function create_index_ts_date at 0x7f0cb00220e0> END\n"
          ],
          "name": "stderr"
        },
        {
          "output_type": "stream",
          "text": [
            "\u001b[37m [Mon, 19 Apr 2021 00:43:48] DEBUG [log.py.log_decorator_wrapper:38] <function generate_auxiliar_columns at 0x7f0cb0022200> START\u001b[0m\n"
          ],
          "name": "stdout"
        },
        {
          "output_type": "stream",
          "text": [
            "DEBUG:ETL:<function generate_auxiliar_columns at 0x7f0cb0022200> START\n"
          ],
          "name": "stderr"
        },
        {
          "output_type": "stream",
          "text": [
            "\u001b[37m [Mon, 19 Apr 2021 00:45:34] DEBUG [etl.py.fill_dataframe_by_ut:105] In: 2020-10-09 \u001b[0m\n"
          ],
          "name": "stdout"
        },
        {
          "output_type": "stream",
          "text": [
            "DEBUG:ETL:In: 2020-10-09 \n"
          ],
          "name": "stderr"
        },
        {
          "output_type": "stream",
          "text": [
            "\u001b[37m [Mon, 19 Apr 2021 00:45:36] DEBUG [etl.py.fill_dataframe_by_ut:116] Out: 2020-10-09 \u001b[0m\n"
          ],
          "name": "stdout"
        },
        {
          "output_type": "stream",
          "text": [
            "DEBUG:ETL:Out: 2020-10-09 \n"
          ],
          "name": "stderr"
        },
        {
          "output_type": "stream",
          "text": [
            "4 2884802\n",
            "\u001b[37m [Mon, 19 Apr 2021 00:47:41] DEBUG [log.py.log_decorator_wrapper:41] <function generate_auxiliar_columns at 0x7f0cb0022200> END\u001b[0m\n"
          ],
          "name": "stdout"
        },
        {
          "output_type": "stream",
          "text": [
            "DEBUG:ETL:<function generate_auxiliar_columns at 0x7f0cb0022200> END\n"
          ],
          "name": "stderr"
        },
        {
          "output_type": "stream",
          "text": [
            "\u001b[37m [Mon, 19 Apr 2021 00:47:48] DEBUG [log.py.log_decorator_wrapper:38] <function create_categorical at 0x7f0cb0022560> START\u001b[0m\n"
          ],
          "name": "stdout"
        },
        {
          "output_type": "stream",
          "text": [
            "DEBUG:ETL:<function create_categorical at 0x7f0cb0022560> START\n"
          ],
          "name": "stderr"
        },
        {
          "output_type": "stream",
          "text": [
            "\u001b[37m [Mon, 19 Apr 2021 00:47:49] DEBUG [log.py.log_decorator_wrapper:41] <function create_categorical at 0x7f0cb0022560> END\u001b[0m\n"
          ],
          "name": "stdout"
        },
        {
          "output_type": "stream",
          "text": [
            "DEBUG:ETL:<function create_categorical at 0x7f0cb0022560> END\n"
          ],
          "name": "stderr"
        },
        {
          "output_type": "stream",
          "text": [
            "\u001b[37m [Mon, 19 Apr 2021 00:47:49] DEBUG [etl.py.fill_dataframe_by_ut:105] In: 2020-10-09 \u001b[0m\n"
          ],
          "name": "stdout"
        },
        {
          "output_type": "stream",
          "text": [
            "DEBUG:ETL:In: 2020-10-09 \n"
          ],
          "name": "stderr"
        },
        {
          "output_type": "stream",
          "text": [
            "\u001b[37m [Mon, 19 Apr 2021 00:47:51] DEBUG [etl.py.fill_dataframe_by_ut:116] Out: 2020-10-09 \u001b[0m\n"
          ],
          "name": "stdout"
        },
        {
          "output_type": "stream",
          "text": [
            "DEBUG:ETL:Out: 2020-10-09 \n"
          ],
          "name": "stderr"
        },
        {
          "output_type": "stream",
          "text": [
            "\u001b[37m [Mon, 19 Apr 2021 00:48:09] DEBUG [log.py.log_decorator_wrapper:41] <function process_etl at 0x7f0cb00dc5f0> END\u001b[0m\n"
          ],
          "name": "stdout"
        },
        {
          "output_type": "stream",
          "text": [
            "DEBUG:ETL:<function process_etl at 0x7f0cb00dc5f0> END\n"
          ],
          "name": "stderr"
        },
        {
          "output_type": "stream",
          "text": [
            "cafcodingdatos/raw/date=2020-10-10/part-00001-tid-4502735041458916000-1def1e63-76d9-4841-bd06-f798a2422800-4115-4.c000.snappy.parquet\n",
            "cafcodingdatos/raw/date=2020-10-10/part-00019-tid-4502735041458916000-1def1e63-76d9-4841-bd06-f798a2422800-4211-3.c000.snappy.parquet\n",
            "cafcodingdatos/raw/date=2020-10-10/part-00037-tid-4502735041458916000-1def1e63-76d9-4841-bd06-f798a2422800-4123-2.c000.snappy.parquet\n",
            "cafcodingdatos/raw/date=2020-10-10/part-00056-tid-4502735041458916000-1def1e63-76d9-4841-bd06-f798a2422800-4293-5.c000.snappy.parquet\n",
            "cafcodingdatos/raw/date=2020-10-10/part-00074-tid-4502735041458916000-1def1e63-76d9-4841-bd06-f798a2422800-4221-4.c000.snappy.parquet\n",
            "cafcodingdatos/raw/date=2020-10-10/part-00075-tid-4502735041458916000-1def1e63-76d9-4841-bd06-f798a2422800-4233-1.c000.snappy.parquet\n",
            "cafcodingdatos/raw/date=2020-10-10/part-00092-tid-4502735041458916000-1def1e63-76d9-4841-bd06-f798a2422800-4175-6.c000.snappy.parquet\n",
            "cafcodingdatos/raw/date=2020-10-10/part-00109-tid-4502735041458916000-1def1e63-76d9-4841-bd06-f798a2422800-4207-4.c000.snappy.parquet\n",
            "cafcodingdatos/raw/date=2020-10-10/part-00123-tid-4502735041458916000-1def1e63-76d9-4841-bd06-f798a2422800-4125-5.c000.snappy.parquet\n",
            "cafcodingdatos/raw/date=2020-10-10/part-00144-tid-4502735041458916000-1def1e63-76d9-4841-bd06-f798a2422800-4266-2.c000.snappy.parquet\n",
            "cafcodingdatos/raw/date=2020-10-10/part-00164-tid-4502735041458916000-1def1e63-76d9-4841-bd06-f798a2422800-4153-2.c000.snappy.parquet\n",
            "\u001b[37m [Mon, 19 Apr 2021 00:50:30] DEBUG [log.py.log_decorator_wrapper:38] <function process_etl at 0x7f0cb00dc5f0> START\u001b[0m\n"
          ],
          "name": "stdout"
        },
        {
          "output_type": "stream",
          "text": [
            "DEBUG:ETL:<function process_etl at 0x7f0cb00dc5f0> START\n"
          ],
          "name": "stderr"
        },
        {
          "output_type": "stream",
          "text": [
            "\u001b[37m [Mon, 19 Apr 2021 00:50:30] DEBUG [log.py.log_decorator_wrapper:38] <function prepare_data_time at 0x7f0cb00ff5f0> START\u001b[0m\n"
          ],
          "name": "stdout"
        },
        {
          "output_type": "stream",
          "text": [
            "DEBUG:ETL:<function prepare_data_time at 0x7f0cb00ff5f0> START\n"
          ],
          "name": "stderr"
        },
        {
          "output_type": "stream",
          "text": [
            "\u001b[37m [Mon, 19 Apr 2021 00:50:31] DEBUG [log.py.log_decorator_wrapper:41] <function prepare_data_time at 0x7f0cb00ff5f0> END\u001b[0m\n"
          ],
          "name": "stdout"
        },
        {
          "output_type": "stream",
          "text": [
            "DEBUG:ETL:<function prepare_data_time at 0x7f0cb00ff5f0> END\n"
          ],
          "name": "stderr"
        },
        {
          "output_type": "stream",
          "text": [
            "\u001b[32m [Mon, 19 Apr 2021 00:50:31] INFO [etl_step.py.process_etl:38] Filter dates: 2020-10-10 00:00:00 - 2020-10-10 23:59:59\u001b[0m\n"
          ],
          "name": "stdout"
        },
        {
          "output_type": "stream",
          "text": [
            "INFO:ETL:Filter dates: 2020-10-10 00:00:00 - 2020-10-10 23:59:59\n"
          ],
          "name": "stderr"
        },
        {
          "output_type": "stream",
          "text": [
            "\u001b[37m [Mon, 19 Apr 2021 00:50:31] DEBUG [log.py.log_decorator_wrapper:38] <function process_meteo_dataframe at 0x7f0cb001ed40> START\u001b[0m\n"
          ],
          "name": "stdout"
        },
        {
          "output_type": "stream",
          "text": [
            "DEBUG:ETL:<function process_meteo_dataframe at 0x7f0cb001ed40> START\n"
          ],
          "name": "stderr"
        },
        {
          "output_type": "stream",
          "text": [
            "\u001b[37m [Mon, 19 Apr 2021 00:50:31] DEBUG [log.py.log_decorator_wrapper:41] <function process_meteo_dataframe at 0x7f0cb001ed40> END\u001b[0m\n"
          ],
          "name": "stdout"
        },
        {
          "output_type": "stream",
          "text": [
            "DEBUG:ETL:<function process_meteo_dataframe at 0x7f0cb001ed40> END\n"
          ],
          "name": "stderr"
        },
        {
          "output_type": "stream",
          "text": [
            "\u001b[37m [Mon, 19 Apr 2021 00:50:31] DEBUG [etl.py.fill_dataframe_by_ut:105] In: 2020-10-10 \u001b[0m\n"
          ],
          "name": "stdout"
        },
        {
          "output_type": "stream",
          "text": [
            "DEBUG:ETL:In: 2020-10-10 \n"
          ],
          "name": "stderr"
        },
        {
          "output_type": "stream",
          "text": [
            "\u001b[37m [Mon, 19 Apr 2021 00:50:32] DEBUG [etl.py.fill_dataframe_by_ut:116] Out: 2020-10-10 \u001b[0m\n"
          ],
          "name": "stdout"
        },
        {
          "output_type": "stream",
          "text": [
            "DEBUG:ETL:Out: 2020-10-10 \n"
          ],
          "name": "stderr"
        },
        {
          "output_type": "stream",
          "text": [
            "\u001b[37m [Mon, 19 Apr 2021 00:50:32] DEBUG [log.py.log_decorator_wrapper:38] <function generate_new_columns_from_gps_data at 0x7f0cb001ee60> START\u001b[0m\n"
          ],
          "name": "stdout"
        },
        {
          "output_type": "stream",
          "text": [
            "DEBUG:ETL:<function generate_new_columns_from_gps_data at 0x7f0cb001ee60> START\n"
          ],
          "name": "stderr"
        },
        {
          "output_type": "stream",
          "text": [
            "\u001b[37m [Mon, 19 Apr 2021 00:50:45] DEBUG [etl.py.fill_dataframe_by_ut:105] In: 2020-10-10 \u001b[0m\n"
          ],
          "name": "stdout"
        },
        {
          "output_type": "stream",
          "text": [
            "DEBUG:ETL:In: 2020-10-10 \n"
          ],
          "name": "stderr"
        },
        {
          "output_type": "stream",
          "text": [
            "\u001b[37m [Mon, 19 Apr 2021 00:50:46] DEBUG [etl.py.fill_dataframe_by_ut:116] Out: 2020-10-10 \u001b[0m\n"
          ],
          "name": "stdout"
        },
        {
          "output_type": "stream",
          "text": [
            "DEBUG:ETL:Out: 2020-10-10 \n"
          ],
          "name": "stderr"
        },
        {
          "output_type": "stream",
          "text": [
            "\u001b[37m [Mon, 19 Apr 2021 00:52:05] DEBUG [log.py.log_decorator_wrapper:41] <function generate_new_columns_from_gps_data at 0x7f0cb001ee60> END\u001b[0m\n"
          ],
          "name": "stdout"
        },
        {
          "output_type": "stream",
          "text": [
            "DEBUG:ETL:<function generate_new_columns_from_gps_data at 0x7f0cb001ee60> END\n"
          ],
          "name": "stderr"
        },
        {
          "output_type": "stream",
          "text": [
            "\u001b[37m [Mon, 19 Apr 2021 00:52:05] DEBUG [log.py.log_decorator_wrapper:38] <function merge_with_meteo at 0x7f0cb001ef80> START\u001b[0m\n"
          ],
          "name": "stdout"
        },
        {
          "output_type": "stream",
          "text": [
            "DEBUG:ETL:<function merge_with_meteo at 0x7f0cb001ef80> START\n"
          ],
          "name": "stderr"
        },
        {
          "output_type": "stream",
          "text": [
            "\u001b[37m [Mon, 19 Apr 2021 00:52:05] DEBUG [log.py.log_decorator_wrapper:41] <function merge_with_meteo at 0x7f0cb001ef80> END\u001b[0m\n"
          ],
          "name": "stdout"
        },
        {
          "output_type": "stream",
          "text": [
            "DEBUG:ETL:<function merge_with_meteo at 0x7f0cb001ef80> END\n"
          ],
          "name": "stderr"
        },
        {
          "output_type": "stream",
          "text": [
            "\u001b[37m [Mon, 19 Apr 2021 00:52:05] DEBUG [log.py.log_decorator_wrapper:38] <function create_index_ts_date at 0x7f0cb00220e0> START\u001b[0m\n"
          ],
          "name": "stdout"
        },
        {
          "output_type": "stream",
          "text": [
            "DEBUG:ETL:<function create_index_ts_date at 0x7f0cb00220e0> START\n"
          ],
          "name": "stderr"
        },
        {
          "output_type": "stream",
          "text": [
            "\u001b[37m [Mon, 19 Apr 2021 00:52:05] DEBUG [log.py.log_decorator_wrapper:41] <function create_index_ts_date at 0x7f0cb00220e0> END\u001b[0m\n"
          ],
          "name": "stdout"
        },
        {
          "output_type": "stream",
          "text": [
            "DEBUG:ETL:<function create_index_ts_date at 0x7f0cb00220e0> END\n"
          ],
          "name": "stderr"
        },
        {
          "output_type": "stream",
          "text": [
            "\u001b[37m [Mon, 19 Apr 2021 00:52:05] DEBUG [log.py.log_decorator_wrapper:38] <function generate_auxiliar_columns at 0x7f0cb0022200> START\u001b[0m\n"
          ],
          "name": "stdout"
        },
        {
          "output_type": "stream",
          "text": [
            "DEBUG:ETL:<function generate_auxiliar_columns at 0x7f0cb0022200> START\n"
          ],
          "name": "stderr"
        },
        {
          "output_type": "stream",
          "text": [
            "\u001b[37m [Mon, 19 Apr 2021 00:53:05] DEBUG [etl.py.fill_dataframe_by_ut:105] In: 2020-10-10 \u001b[0m\n"
          ],
          "name": "stdout"
        },
        {
          "output_type": "stream",
          "text": [
            "DEBUG:ETL:In: 2020-10-10 \n"
          ],
          "name": "stderr"
        },
        {
          "output_type": "stream",
          "text": [
            "\u001b[37m [Mon, 19 Apr 2021 00:53:06] DEBUG [etl.py.fill_dataframe_by_ut:116] Out: 2020-10-10 \u001b[0m\n"
          ],
          "name": "stdout"
        },
        {
          "output_type": "stream",
          "text": [
            "DEBUG:ETL:Out: 2020-10-10 \n"
          ],
          "name": "stderr"
        },
        {
          "output_type": "stream",
          "text": [
            "\u001b[37m [Mon, 19 Apr 2021 00:54:18] DEBUG [log.py.log_decorator_wrapper:41] <function generate_auxiliar_columns at 0x7f0cb0022200> END\u001b[0m\n"
          ],
          "name": "stdout"
        },
        {
          "output_type": "stream",
          "text": [
            "DEBUG:ETL:<function generate_auxiliar_columns at 0x7f0cb0022200> END\n"
          ],
          "name": "stderr"
        },
        {
          "output_type": "stream",
          "text": [
            "\u001b[37m [Mon, 19 Apr 2021 00:54:23] DEBUG [log.py.log_decorator_wrapper:38] <function create_categorical at 0x7f0cb0022560> START\u001b[0m\n"
          ],
          "name": "stdout"
        },
        {
          "output_type": "stream",
          "text": [
            "DEBUG:ETL:<function create_categorical at 0x7f0cb0022560> START\n"
          ],
          "name": "stderr"
        },
        {
          "output_type": "stream",
          "text": [
            "\u001b[37m [Mon, 19 Apr 2021 00:54:23] DEBUG [log.py.log_decorator_wrapper:41] <function create_categorical at 0x7f0cb0022560> END\u001b[0m\n"
          ],
          "name": "stdout"
        },
        {
          "output_type": "stream",
          "text": [
            "DEBUG:ETL:<function create_categorical at 0x7f0cb0022560> END\n"
          ],
          "name": "stderr"
        },
        {
          "output_type": "stream",
          "text": [
            "\u001b[37m [Mon, 19 Apr 2021 00:54:23] DEBUG [etl.py.fill_dataframe_by_ut:105] In: 2020-10-10 \u001b[0m\n"
          ],
          "name": "stdout"
        },
        {
          "output_type": "stream",
          "text": [
            "DEBUG:ETL:In: 2020-10-10 \n"
          ],
          "name": "stderr"
        },
        {
          "output_type": "stream",
          "text": [
            "\u001b[37m [Mon, 19 Apr 2021 00:54:25] DEBUG [etl.py.fill_dataframe_by_ut:116] Out: 2020-10-10 \u001b[0m\n"
          ],
          "name": "stdout"
        },
        {
          "output_type": "stream",
          "text": [
            "DEBUG:ETL:Out: 2020-10-10 \n"
          ],
          "name": "stderr"
        },
        {
          "output_type": "stream",
          "text": [
            "\u001b[37m [Mon, 19 Apr 2021 00:54:36] DEBUG [log.py.log_decorator_wrapper:41] <function process_etl at 0x7f0cb00dc5f0> END\u001b[0m\n"
          ],
          "name": "stdout"
        },
        {
          "output_type": "stream",
          "text": [
            "DEBUG:ETL:<function process_etl at 0x7f0cb00dc5f0> END\n"
          ],
          "name": "stderr"
        },
        {
          "output_type": "stream",
          "text": [
            "cafcodingdatos/raw/date=2020-10-11/part-00037-tid-4502735041458916000-1def1e63-76d9-4841-bd06-f798a2422800-4123-3.c000.snappy.parquet\n",
            "cafcodingdatos/raw/date=2020-10-11/part-00075-tid-4502735041458916000-1def1e63-76d9-4841-bd06-f798a2422800-4233-2.c000.snappy.parquet\n",
            "cafcodingdatos/raw/date=2020-10-11/part-00092-tid-4502735041458916000-1def1e63-76d9-4841-bd06-f798a2422800-4175-7.c000.snappy.parquet\n",
            "cafcodingdatos/raw/date=2020-10-11/part-00093-tid-4502735041458916000-1def1e63-76d9-4841-bd06-f798a2422800-4294-1.c000.snappy.parquet\n",
            "cafcodingdatos/raw/date=2020-10-11/part-00123-tid-4502735041458916000-1def1e63-76d9-4841-bd06-f798a2422800-4125-6.c000.snappy.parquet\n",
            "cafcodingdatos/raw/date=2020-10-11/part-00144-tid-4502735041458916000-1def1e63-76d9-4841-bd06-f798a2422800-4266-3.c000.snappy.parquet\n",
            "cafcodingdatos/raw/date=2020-10-11/part-00164-tid-4502735041458916000-1def1e63-76d9-4841-bd06-f798a2422800-4153-3.c000.snappy.parquet\n",
            "\u001b[37m [Mon, 19 Apr 2021 00:56:33] DEBUG [log.py.log_decorator_wrapper:38] <function process_etl at 0x7f0cb00dc5f0> START\u001b[0m\n"
          ],
          "name": "stdout"
        },
        {
          "output_type": "stream",
          "text": [
            "DEBUG:ETL:<function process_etl at 0x7f0cb00dc5f0> START\n"
          ],
          "name": "stderr"
        },
        {
          "output_type": "stream",
          "text": [
            "\u001b[37m [Mon, 19 Apr 2021 00:56:33] DEBUG [log.py.log_decorator_wrapper:38] <function prepare_data_time at 0x7f0cb00ff5f0> START\u001b[0m\n"
          ],
          "name": "stdout"
        },
        {
          "output_type": "stream",
          "text": [
            "DEBUG:ETL:<function prepare_data_time at 0x7f0cb00ff5f0> START\n"
          ],
          "name": "stderr"
        },
        {
          "output_type": "stream",
          "text": [
            "\u001b[37m [Mon, 19 Apr 2021 00:56:33] DEBUG [log.py.log_decorator_wrapper:41] <function prepare_data_time at 0x7f0cb00ff5f0> END\u001b[0m\n"
          ],
          "name": "stdout"
        },
        {
          "output_type": "stream",
          "text": [
            "DEBUG:ETL:<function prepare_data_time at 0x7f0cb00ff5f0> END\n"
          ],
          "name": "stderr"
        },
        {
          "output_type": "stream",
          "text": [
            "\u001b[32m [Mon, 19 Apr 2021 00:56:33] INFO [etl_step.py.process_etl:38] Filter dates: 2020-10-11 00:00:00 - 2020-10-11 23:59:59\u001b[0m\n"
          ],
          "name": "stdout"
        },
        {
          "output_type": "stream",
          "text": [
            "INFO:ETL:Filter dates: 2020-10-11 00:00:00 - 2020-10-11 23:59:59\n"
          ],
          "name": "stderr"
        },
        {
          "output_type": "stream",
          "text": [
            "\u001b[37m [Mon, 19 Apr 2021 00:56:33] DEBUG [log.py.log_decorator_wrapper:38] <function process_meteo_dataframe at 0x7f0cb001ed40> START\u001b[0m\n"
          ],
          "name": "stdout"
        },
        {
          "output_type": "stream",
          "text": [
            "DEBUG:ETL:<function process_meteo_dataframe at 0x7f0cb001ed40> START\n"
          ],
          "name": "stderr"
        },
        {
          "output_type": "stream",
          "text": [
            "\u001b[37m [Mon, 19 Apr 2021 00:56:33] DEBUG [log.py.log_decorator_wrapper:41] <function process_meteo_dataframe at 0x7f0cb001ed40> END\u001b[0m\n"
          ],
          "name": "stdout"
        },
        {
          "output_type": "stream",
          "text": [
            "DEBUG:ETL:<function process_meteo_dataframe at 0x7f0cb001ed40> END\n"
          ],
          "name": "stderr"
        },
        {
          "output_type": "stream",
          "text": [
            "\u001b[37m [Mon, 19 Apr 2021 00:56:33] DEBUG [etl.py.fill_dataframe_by_ut:105] In: 2020-10-11 \u001b[0m\n"
          ],
          "name": "stdout"
        },
        {
          "output_type": "stream",
          "text": [
            "DEBUG:ETL:In: 2020-10-11 \n"
          ],
          "name": "stderr"
        },
        {
          "output_type": "stream",
          "text": [
            "\u001b[37m [Mon, 19 Apr 2021 00:56:34] DEBUG [etl.py.fill_dataframe_by_ut:116] Out: 2020-10-11 \u001b[0m\n"
          ],
          "name": "stdout"
        },
        {
          "output_type": "stream",
          "text": [
            "DEBUG:ETL:Out: 2020-10-11 \n"
          ],
          "name": "stderr"
        },
        {
          "output_type": "stream",
          "text": [
            "\u001b[37m [Mon, 19 Apr 2021 00:56:34] DEBUG [log.py.log_decorator_wrapper:38] <function generate_new_columns_from_gps_data at 0x7f0cb001ee60> START\u001b[0m\n"
          ],
          "name": "stdout"
        },
        {
          "output_type": "stream",
          "text": [
            "DEBUG:ETL:<function generate_new_columns_from_gps_data at 0x7f0cb001ee60> START\n"
          ],
          "name": "stderr"
        },
        {
          "output_type": "stream",
          "text": [
            "\u001b[37m [Mon, 19 Apr 2021 00:56:46] DEBUG [etl.py.fill_dataframe_by_ut:105] In: 2020-10-11 \u001b[0m\n"
          ],
          "name": "stdout"
        },
        {
          "output_type": "stream",
          "text": [
            "DEBUG:ETL:In: 2020-10-11 \n"
          ],
          "name": "stderr"
        },
        {
          "output_type": "stream",
          "text": [
            "\u001b[37m [Mon, 19 Apr 2021 00:56:47] DEBUG [etl.py.fill_dataframe_by_ut:116] Out: 2020-10-11 \u001b[0m\n"
          ],
          "name": "stdout"
        },
        {
          "output_type": "stream",
          "text": [
            "DEBUG:ETL:Out: 2020-10-11 \n"
          ],
          "name": "stderr"
        },
        {
          "output_type": "stream",
          "text": [
            "\u001b[37m [Mon, 19 Apr 2021 00:58:02] DEBUG [log.py.log_decorator_wrapper:41] <function generate_new_columns_from_gps_data at 0x7f0cb001ee60> END\u001b[0m\n"
          ],
          "name": "stdout"
        },
        {
          "output_type": "stream",
          "text": [
            "DEBUG:ETL:<function generate_new_columns_from_gps_data at 0x7f0cb001ee60> END\n"
          ],
          "name": "stderr"
        },
        {
          "output_type": "stream",
          "text": [
            "\u001b[37m [Mon, 19 Apr 2021 00:58:02] DEBUG [log.py.log_decorator_wrapper:38] <function merge_with_meteo at 0x7f0cb001ef80> START\u001b[0m\n"
          ],
          "name": "stdout"
        },
        {
          "output_type": "stream",
          "text": [
            "DEBUG:ETL:<function merge_with_meteo at 0x7f0cb001ef80> START\n"
          ],
          "name": "stderr"
        },
        {
          "output_type": "stream",
          "text": [
            "\u001b[37m [Mon, 19 Apr 2021 00:58:02] DEBUG [log.py.log_decorator_wrapper:41] <function merge_with_meteo at 0x7f0cb001ef80> END\u001b[0m\n"
          ],
          "name": "stdout"
        },
        {
          "output_type": "stream",
          "text": [
            "DEBUG:ETL:<function merge_with_meteo at 0x7f0cb001ef80> END\n"
          ],
          "name": "stderr"
        },
        {
          "output_type": "stream",
          "text": [
            "\u001b[37m [Mon, 19 Apr 2021 00:58:02] DEBUG [log.py.log_decorator_wrapper:38] <function create_index_ts_date at 0x7f0cb00220e0> START\u001b[0m\n"
          ],
          "name": "stdout"
        },
        {
          "output_type": "stream",
          "text": [
            "DEBUG:ETL:<function create_index_ts_date at 0x7f0cb00220e0> START\n"
          ],
          "name": "stderr"
        },
        {
          "output_type": "stream",
          "text": [
            "\u001b[37m [Mon, 19 Apr 2021 00:58:02] DEBUG [log.py.log_decorator_wrapper:41] <function create_index_ts_date at 0x7f0cb00220e0> END\u001b[0m\n"
          ],
          "name": "stdout"
        },
        {
          "output_type": "stream",
          "text": [
            "DEBUG:ETL:<function create_index_ts_date at 0x7f0cb00220e0> END\n"
          ],
          "name": "stderr"
        },
        {
          "output_type": "stream",
          "text": [
            "\u001b[37m [Mon, 19 Apr 2021 00:58:02] DEBUG [log.py.log_decorator_wrapper:38] <function generate_auxiliar_columns at 0x7f0cb0022200> START\u001b[0m\n"
          ],
          "name": "stdout"
        },
        {
          "output_type": "stream",
          "text": [
            "DEBUG:ETL:<function generate_auxiliar_columns at 0x7f0cb0022200> START\n"
          ],
          "name": "stderr"
        },
        {
          "output_type": "stream",
          "text": [
            "\u001b[37m [Mon, 19 Apr 2021 00:59:00] DEBUG [etl.py.fill_dataframe_by_ut:105] In: 2020-10-11 \u001b[0m\n"
          ],
          "name": "stdout"
        },
        {
          "output_type": "stream",
          "text": [
            "DEBUG:ETL:In: 2020-10-11 \n"
          ],
          "name": "stderr"
        },
        {
          "output_type": "stream",
          "text": [
            "\u001b[37m [Mon, 19 Apr 2021 00:59:01] DEBUG [etl.py.fill_dataframe_by_ut:116] Out: 2020-10-11 \u001b[0m\n"
          ],
          "name": "stdout"
        },
        {
          "output_type": "stream",
          "text": [
            "DEBUG:ETL:Out: 2020-10-11 \n"
          ],
          "name": "stderr"
        },
        {
          "output_type": "stream",
          "text": [
            "\u001b[37m [Mon, 19 Apr 2021 01:00:08] DEBUG [log.py.log_decorator_wrapper:41] <function generate_auxiliar_columns at 0x7f0cb0022200> END\u001b[0m\n"
          ],
          "name": "stdout"
        },
        {
          "output_type": "stream",
          "text": [
            "DEBUG:ETL:<function generate_auxiliar_columns at 0x7f0cb0022200> END\n"
          ],
          "name": "stderr"
        },
        {
          "output_type": "stream",
          "text": [
            "\u001b[37m [Mon, 19 Apr 2021 01:00:12] DEBUG [log.py.log_decorator_wrapper:38] <function create_categorical at 0x7f0cb0022560> START\u001b[0m\n"
          ],
          "name": "stdout"
        },
        {
          "output_type": "stream",
          "text": [
            "DEBUG:ETL:<function create_categorical at 0x7f0cb0022560> START\n"
          ],
          "name": "stderr"
        },
        {
          "output_type": "stream",
          "text": [
            "\u001b[37m [Mon, 19 Apr 2021 01:00:13] DEBUG [log.py.log_decorator_wrapper:41] <function create_categorical at 0x7f0cb0022560> END\u001b[0m\n"
          ],
          "name": "stdout"
        },
        {
          "output_type": "stream",
          "text": [
            "DEBUG:ETL:<function create_categorical at 0x7f0cb0022560> END\n"
          ],
          "name": "stderr"
        },
        {
          "output_type": "stream",
          "text": [
            "\u001b[37m [Mon, 19 Apr 2021 01:00:13] DEBUG [etl.py.fill_dataframe_by_ut:105] In: 2020-10-11 \u001b[0m\n"
          ],
          "name": "stdout"
        },
        {
          "output_type": "stream",
          "text": [
            "DEBUG:ETL:In: 2020-10-11 \n"
          ],
          "name": "stderr"
        },
        {
          "output_type": "stream",
          "text": [
            "\u001b[37m [Mon, 19 Apr 2021 01:00:14] DEBUG [etl.py.fill_dataframe_by_ut:116] Out: 2020-10-11 \u001b[0m\n"
          ],
          "name": "stdout"
        },
        {
          "output_type": "stream",
          "text": [
            "DEBUG:ETL:Out: 2020-10-11 \n"
          ],
          "name": "stderr"
        },
        {
          "output_type": "stream",
          "text": [
            "\u001b[37m [Mon, 19 Apr 2021 01:00:24] DEBUG [log.py.log_decorator_wrapper:41] <function process_etl at 0x7f0cb00dc5f0> END\u001b[0m\n"
          ],
          "name": "stdout"
        },
        {
          "output_type": "stream",
          "text": [
            "DEBUG:ETL:<function process_etl at 0x7f0cb00dc5f0> END\n"
          ],
          "name": "stderr"
        },
        {
          "output_type": "stream",
          "text": [
            "cafcodingdatos/raw/date=2020-10-12/part-00001-tid-4502735041458916000-1def1e63-76d9-4841-bd06-f798a2422800-4115-5.c000.snappy.parquet\n",
            "cafcodingdatos/raw/date=2020-10-12/part-00019-tid-4502735041458916000-1def1e63-76d9-4841-bd06-f798a2422800-4211-4.c000.snappy.parquet\n",
            "cafcodingdatos/raw/date=2020-10-12/part-00056-tid-4502735041458916000-1def1e63-76d9-4841-bd06-f798a2422800-4293-6.c000.snappy.parquet\n",
            "cafcodingdatos/raw/date=2020-10-12/part-00109-tid-4502735041458916000-1def1e63-76d9-4841-bd06-f798a2422800-4207-5.c000.snappy.parquet\n",
            "cafcodingdatos/raw/date=2020-10-12/part-00110-tid-4502735041458916000-1def1e63-76d9-4841-bd06-f798a2422800-4172-1.c000.snappy.parquet\n",
            "cafcodingdatos/raw/date=2020-10-12/part-00123-tid-4502735041458916000-1def1e63-76d9-4841-bd06-f798a2422800-4125-7.c000.snappy.parquet\n",
            "cafcodingdatos/raw/date=2020-10-12/part-00144-tid-4502735041458916000-1def1e63-76d9-4841-bd06-f798a2422800-4266-4.c000.snappy.parquet\n",
            "cafcodingdatos/raw/date=2020-10-12/part-00164-tid-4502735041458916000-1def1e63-76d9-4841-bd06-f798a2422800-4153-4.c000.snappy.parquet\n",
            "\u001b[37m [Mon, 19 Apr 2021 01:01:43] DEBUG [log.py.log_decorator_wrapper:38] <function process_etl at 0x7f0cb00dc5f0> START\u001b[0m\n"
          ],
          "name": "stdout"
        },
        {
          "output_type": "stream",
          "text": [
            "DEBUG:ETL:<function process_etl at 0x7f0cb00dc5f0> START\n"
          ],
          "name": "stderr"
        },
        {
          "output_type": "stream",
          "text": [
            "\u001b[37m [Mon, 19 Apr 2021 01:01:43] DEBUG [log.py.log_decorator_wrapper:38] <function prepare_data_time at 0x7f0cb00ff5f0> START\u001b[0m\n"
          ],
          "name": "stdout"
        },
        {
          "output_type": "stream",
          "text": [
            "DEBUG:ETL:<function prepare_data_time at 0x7f0cb00ff5f0> START\n"
          ],
          "name": "stderr"
        },
        {
          "output_type": "stream",
          "text": [
            "\u001b[37m [Mon, 19 Apr 2021 01:01:43] DEBUG [log.py.log_decorator_wrapper:41] <function prepare_data_time at 0x7f0cb00ff5f0> END\u001b[0m\n"
          ],
          "name": "stdout"
        },
        {
          "output_type": "stream",
          "text": [
            "DEBUG:ETL:<function prepare_data_time at 0x7f0cb00ff5f0> END\n"
          ],
          "name": "stderr"
        },
        {
          "output_type": "stream",
          "text": [
            "\u001b[32m [Mon, 19 Apr 2021 01:01:43] INFO [etl_step.py.process_etl:38] Filter dates: 2020-10-12 00:00:00 - 2020-10-12 23:59:59\u001b[0m\n"
          ],
          "name": "stdout"
        },
        {
          "output_type": "stream",
          "text": [
            "INFO:ETL:Filter dates: 2020-10-12 00:00:00 - 2020-10-12 23:59:59\n"
          ],
          "name": "stderr"
        },
        {
          "output_type": "stream",
          "text": [
            "\u001b[37m [Mon, 19 Apr 2021 01:01:43] DEBUG [log.py.log_decorator_wrapper:38] <function process_meteo_dataframe at 0x7f0cb001ed40> START\u001b[0m\n"
          ],
          "name": "stdout"
        },
        {
          "output_type": "stream",
          "text": [
            "DEBUG:ETL:<function process_meteo_dataframe at 0x7f0cb001ed40> START\n"
          ],
          "name": "stderr"
        },
        {
          "output_type": "stream",
          "text": [
            "\u001b[37m [Mon, 19 Apr 2021 01:01:43] DEBUG [log.py.log_decorator_wrapper:41] <function process_meteo_dataframe at 0x7f0cb001ed40> END\u001b[0m\n"
          ],
          "name": "stdout"
        },
        {
          "output_type": "stream",
          "text": [
            "DEBUG:ETL:<function process_meteo_dataframe at 0x7f0cb001ed40> END\n"
          ],
          "name": "stderr"
        },
        {
          "output_type": "stream",
          "text": [
            "\u001b[37m [Mon, 19 Apr 2021 01:01:44] DEBUG [etl.py.fill_dataframe_by_ut:105] In: 2020-10-12 \u001b[0m\n"
          ],
          "name": "stdout"
        },
        {
          "output_type": "stream",
          "text": [
            "DEBUG:ETL:In: 2020-10-12 \n"
          ],
          "name": "stderr"
        },
        {
          "output_type": "stream",
          "text": [
            "\u001b[37m [Mon, 19 Apr 2021 01:01:44] DEBUG [etl.py.fill_dataframe_by_ut:116] Out: 2020-10-12 \u001b[0m\n"
          ],
          "name": "stdout"
        },
        {
          "output_type": "stream",
          "text": [
            "DEBUG:ETL:Out: 2020-10-12 \n"
          ],
          "name": "stderr"
        },
        {
          "output_type": "stream",
          "text": [
            "\u001b[37m [Mon, 19 Apr 2021 01:01:45] DEBUG [log.py.log_decorator_wrapper:38] <function generate_new_columns_from_gps_data at 0x7f0cb001ee60> START\u001b[0m\n"
          ],
          "name": "stdout"
        },
        {
          "output_type": "stream",
          "text": [
            "DEBUG:ETL:<function generate_new_columns_from_gps_data at 0x7f0cb001ee60> START\n"
          ],
          "name": "stderr"
        },
        {
          "output_type": "stream",
          "text": [
            "\u001b[37m [Mon, 19 Apr 2021 01:01:56] DEBUG [etl.py.fill_dataframe_by_ut:105] In: 2020-10-12 \u001b[0m\n"
          ],
          "name": "stdout"
        },
        {
          "output_type": "stream",
          "text": [
            "DEBUG:ETL:In: 2020-10-12 \n"
          ],
          "name": "stderr"
        },
        {
          "output_type": "stream",
          "text": [
            "\u001b[37m [Mon, 19 Apr 2021 01:01:56] DEBUG [etl.py.fill_dataframe_by_ut:116] Out: 2020-10-12 \u001b[0m\n"
          ],
          "name": "stdout"
        },
        {
          "output_type": "stream",
          "text": [
            "DEBUG:ETL:Out: 2020-10-12 \n"
          ],
          "name": "stderr"
        },
        {
          "output_type": "stream",
          "text": [
            "\u001b[37m [Mon, 19 Apr 2021 01:03:09] DEBUG [log.py.log_decorator_wrapper:41] <function generate_new_columns_from_gps_data at 0x7f0cb001ee60> END\u001b[0m\n"
          ],
          "name": "stdout"
        },
        {
          "output_type": "stream",
          "text": [
            "DEBUG:ETL:<function generate_new_columns_from_gps_data at 0x7f0cb001ee60> END\n"
          ],
          "name": "stderr"
        },
        {
          "output_type": "stream",
          "text": [
            "\u001b[37m [Mon, 19 Apr 2021 01:03:09] DEBUG [log.py.log_decorator_wrapper:38] <function merge_with_meteo at 0x7f0cb001ef80> START\u001b[0m\n"
          ],
          "name": "stdout"
        },
        {
          "output_type": "stream",
          "text": [
            "DEBUG:ETL:<function merge_with_meteo at 0x7f0cb001ef80> START\n"
          ],
          "name": "stderr"
        },
        {
          "output_type": "stream",
          "text": [
            "\u001b[37m [Mon, 19 Apr 2021 01:03:09] DEBUG [log.py.log_decorator_wrapper:41] <function merge_with_meteo at 0x7f0cb001ef80> END\u001b[0m\n"
          ],
          "name": "stdout"
        },
        {
          "output_type": "stream",
          "text": [
            "DEBUG:ETL:<function merge_with_meteo at 0x7f0cb001ef80> END\n"
          ],
          "name": "stderr"
        },
        {
          "output_type": "stream",
          "text": [
            "\u001b[37m [Mon, 19 Apr 2021 01:03:09] DEBUG [log.py.log_decorator_wrapper:38] <function create_index_ts_date at 0x7f0cb00220e0> START\u001b[0m\n"
          ],
          "name": "stdout"
        },
        {
          "output_type": "stream",
          "text": [
            "DEBUG:ETL:<function create_index_ts_date at 0x7f0cb00220e0> START\n"
          ],
          "name": "stderr"
        },
        {
          "output_type": "stream",
          "text": [
            "\u001b[37m [Mon, 19 Apr 2021 01:03:09] DEBUG [log.py.log_decorator_wrapper:41] <function create_index_ts_date at 0x7f0cb00220e0> END\u001b[0m\n"
          ],
          "name": "stdout"
        },
        {
          "output_type": "stream",
          "text": [
            "DEBUG:ETL:<function create_index_ts_date at 0x7f0cb00220e0> END\n"
          ],
          "name": "stderr"
        },
        {
          "output_type": "stream",
          "text": [
            "\u001b[37m [Mon, 19 Apr 2021 01:03:09] DEBUG [log.py.log_decorator_wrapper:38] <function generate_auxiliar_columns at 0x7f0cb0022200> START\u001b[0m\n"
          ],
          "name": "stdout"
        },
        {
          "output_type": "stream",
          "text": [
            "DEBUG:ETL:<function generate_auxiliar_columns at 0x7f0cb0022200> START\n"
          ],
          "name": "stderr"
        },
        {
          "output_type": "stream",
          "text": [
            "\u001b[37m [Mon, 19 Apr 2021 01:04:04] DEBUG [etl.py.fill_dataframe_by_ut:105] In: 2020-10-12 \u001b[0m\n"
          ],
          "name": "stdout"
        },
        {
          "output_type": "stream",
          "text": [
            "DEBUG:ETL:In: 2020-10-12 \n"
          ],
          "name": "stderr"
        },
        {
          "output_type": "stream",
          "text": [
            "\u001b[37m [Mon, 19 Apr 2021 01:04:06] DEBUG [etl.py.fill_dataframe_by_ut:116] Out: 2020-10-12 \u001b[0m\n"
          ],
          "name": "stdout"
        },
        {
          "output_type": "stream",
          "text": [
            "DEBUG:ETL:Out: 2020-10-12 \n"
          ],
          "name": "stderr"
        },
        {
          "output_type": "stream",
          "text": [
            "\u001b[37m [Mon, 19 Apr 2021 01:05:08] DEBUG [log.py.log_decorator_wrapper:41] <function generate_auxiliar_columns at 0x7f0cb0022200> END\u001b[0m\n"
          ],
          "name": "stdout"
        },
        {
          "output_type": "stream",
          "text": [
            "DEBUG:ETL:<function generate_auxiliar_columns at 0x7f0cb0022200> END\n"
          ],
          "name": "stderr"
        },
        {
          "output_type": "stream",
          "text": [
            "\u001b[37m [Mon, 19 Apr 2021 01:05:12] DEBUG [log.py.log_decorator_wrapper:38] <function create_categorical at 0x7f0cb0022560> START\u001b[0m\n"
          ],
          "name": "stdout"
        },
        {
          "output_type": "stream",
          "text": [
            "DEBUG:ETL:<function create_categorical at 0x7f0cb0022560> START\n"
          ],
          "name": "stderr"
        },
        {
          "output_type": "stream",
          "text": [
            "\u001b[37m [Mon, 19 Apr 2021 01:05:13] DEBUG [log.py.log_decorator_wrapper:41] <function create_categorical at 0x7f0cb0022560> END\u001b[0m\n"
          ],
          "name": "stdout"
        },
        {
          "output_type": "stream",
          "text": [
            "DEBUG:ETL:<function create_categorical at 0x7f0cb0022560> END\n"
          ],
          "name": "stderr"
        },
        {
          "output_type": "stream",
          "text": [
            "\u001b[37m [Mon, 19 Apr 2021 01:05:13] DEBUG [etl.py.fill_dataframe_by_ut:105] In: 2020-10-12 \u001b[0m\n"
          ],
          "name": "stdout"
        },
        {
          "output_type": "stream",
          "text": [
            "DEBUG:ETL:In: 2020-10-12 \n"
          ],
          "name": "stderr"
        },
        {
          "output_type": "stream",
          "text": [
            "\u001b[37m [Mon, 19 Apr 2021 01:05:14] DEBUG [etl.py.fill_dataframe_by_ut:116] Out: 2020-10-12 \u001b[0m\n"
          ],
          "name": "stdout"
        },
        {
          "output_type": "stream",
          "text": [
            "DEBUG:ETL:Out: 2020-10-12 \n"
          ],
          "name": "stderr"
        },
        {
          "output_type": "stream",
          "text": [
            "\u001b[37m [Mon, 19 Apr 2021 01:05:23] DEBUG [log.py.log_decorator_wrapper:41] <function process_etl at 0x7f0cb00dc5f0> END\u001b[0m\n"
          ],
          "name": "stdout"
        },
        {
          "output_type": "stream",
          "text": [
            "DEBUG:ETL:<function process_etl at 0x7f0cb00dc5f0> END\n"
          ],
          "name": "stderr"
        },
        {
          "output_type": "stream",
          "text": [
            "cafcodingdatos/raw/date=2020-10-13/part-00001-tid-4502735041458916000-1def1e63-76d9-4841-bd06-f798a2422800-4115-6.c000.snappy.parquet\n",
            "cafcodingdatos/raw/date=2020-10-13/part-00019-tid-4502735041458916000-1def1e63-76d9-4841-bd06-f798a2422800-4211-5.c000.snappy.parquet\n",
            "cafcodingdatos/raw/date=2020-10-13/part-00037-tid-4502735041458916000-1def1e63-76d9-4841-bd06-f798a2422800-4123-4.c000.snappy.parquet\n",
            "cafcodingdatos/raw/date=2020-10-13/part-00056-tid-4502735041458916000-1def1e63-76d9-4841-bd06-f798a2422800-4293-7.c000.snappy.parquet\n",
            "cafcodingdatos/raw/date=2020-10-13/part-00075-tid-4502735041458916000-1def1e63-76d9-4841-bd06-f798a2422800-4233-3.c000.snappy.parquet\n",
            "cafcodingdatos/raw/date=2020-10-13/part-00093-tid-4502735041458916000-1def1e63-76d9-4841-bd06-f798a2422800-4294-2.c000.snappy.parquet\n",
            "cafcodingdatos/raw/date=2020-10-13/part-00110-tid-4502735041458916000-1def1e63-76d9-4841-bd06-f798a2422800-4172-2.c000.snappy.parquet\n",
            "cafcodingdatos/raw/date=2020-10-13/part-00123-tid-4502735041458916000-1def1e63-76d9-4841-bd06-f798a2422800-4125-8.c000.snappy.parquet\n",
            "cafcodingdatos/raw/date=2020-10-13/part-00144-tid-4502735041458916000-1def1e63-76d9-4841-bd06-f798a2422800-4266-5.c000.snappy.parquet\n",
            "cafcodingdatos/raw/date=2020-10-13/part-00164-tid-4502735041458916000-1def1e63-76d9-4841-bd06-f798a2422800-4153-5.c000.snappy.parquet\n",
            "cafcodingdatos/raw/date=2020-10-13/part-00165-tid-4502735041458916000-1def1e63-76d9-4841-bd06-f798a2422800-4138-1.c000.snappy.parquet\n",
            "\u001b[37m [Mon, 19 Apr 2021 01:06:35] DEBUG [log.py.log_decorator_wrapper:38] <function process_etl at 0x7f0cb00dc5f0> START\u001b[0m\n"
          ],
          "name": "stdout"
        },
        {
          "output_type": "stream",
          "text": [
            "DEBUG:ETL:<function process_etl at 0x7f0cb00dc5f0> START\n"
          ],
          "name": "stderr"
        },
        {
          "output_type": "stream",
          "text": [
            "\u001b[37m [Mon, 19 Apr 2021 01:06:35] DEBUG [log.py.log_decorator_wrapper:38] <function prepare_data_time at 0x7f0cb00ff5f0> START\u001b[0m\n"
          ],
          "name": "stdout"
        },
        {
          "output_type": "stream",
          "text": [
            "DEBUG:ETL:<function prepare_data_time at 0x7f0cb00ff5f0> START\n"
          ],
          "name": "stderr"
        },
        {
          "output_type": "stream",
          "text": [
            "\u001b[37m [Mon, 19 Apr 2021 01:06:36] DEBUG [log.py.log_decorator_wrapper:41] <function prepare_data_time at 0x7f0cb00ff5f0> END\u001b[0m\n"
          ],
          "name": "stdout"
        },
        {
          "output_type": "stream",
          "text": [
            "DEBUG:ETL:<function prepare_data_time at 0x7f0cb00ff5f0> END\n"
          ],
          "name": "stderr"
        },
        {
          "output_type": "stream",
          "text": [
            "\u001b[32m [Mon, 19 Apr 2021 01:06:36] INFO [etl_step.py.process_etl:38] Filter dates: 2020-10-13 00:00:00 - 2020-10-13 23:59:59\u001b[0m\n"
          ],
          "name": "stdout"
        },
        {
          "output_type": "stream",
          "text": [
            "INFO:ETL:Filter dates: 2020-10-13 00:00:00 - 2020-10-13 23:59:59\n"
          ],
          "name": "stderr"
        },
        {
          "output_type": "stream",
          "text": [
            "\u001b[37m [Mon, 19 Apr 2021 01:06:36] DEBUG [log.py.log_decorator_wrapper:38] <function process_meteo_dataframe at 0x7f0cb001ed40> START\u001b[0m\n"
          ],
          "name": "stdout"
        },
        {
          "output_type": "stream",
          "text": [
            "DEBUG:ETL:<function process_meteo_dataframe at 0x7f0cb001ed40> START\n"
          ],
          "name": "stderr"
        },
        {
          "output_type": "stream",
          "text": [
            "\u001b[37m [Mon, 19 Apr 2021 01:06:36] DEBUG [log.py.log_decorator_wrapper:41] <function process_meteo_dataframe at 0x7f0cb001ed40> END\u001b[0m\n"
          ],
          "name": "stdout"
        },
        {
          "output_type": "stream",
          "text": [
            "DEBUG:ETL:<function process_meteo_dataframe at 0x7f0cb001ed40> END\n"
          ],
          "name": "stderr"
        },
        {
          "output_type": "stream",
          "text": [
            "\u001b[37m [Mon, 19 Apr 2021 01:06:36] DEBUG [etl.py.fill_dataframe_by_ut:105] In: 2020-10-13 \u001b[0m\n"
          ],
          "name": "stdout"
        },
        {
          "output_type": "stream",
          "text": [
            "DEBUG:ETL:In: 2020-10-13 \n"
          ],
          "name": "stderr"
        },
        {
          "output_type": "stream",
          "text": [
            "\u001b[37m [Mon, 19 Apr 2021 01:06:37] DEBUG [etl.py.fill_dataframe_by_ut:116] Out: 2020-10-13 \u001b[0m\n"
          ],
          "name": "stdout"
        },
        {
          "output_type": "stream",
          "text": [
            "DEBUG:ETL:Out: 2020-10-13 \n"
          ],
          "name": "stderr"
        },
        {
          "output_type": "stream",
          "text": [
            "\u001b[37m [Mon, 19 Apr 2021 01:06:37] DEBUG [log.py.log_decorator_wrapper:38] <function generate_new_columns_from_gps_data at 0x7f0cb001ee60> START\u001b[0m\n"
          ],
          "name": "stdout"
        },
        {
          "output_type": "stream",
          "text": [
            "DEBUG:ETL:<function generate_new_columns_from_gps_data at 0x7f0cb001ee60> START\n"
          ],
          "name": "stderr"
        },
        {
          "output_type": "stream",
          "text": [
            "\u001b[37m [Mon, 19 Apr 2021 01:06:54] DEBUG [etl.py.fill_dataframe_by_ut:105] In: 2020-10-13 \u001b[0m\n"
          ],
          "name": "stdout"
        },
        {
          "output_type": "stream",
          "text": [
            "DEBUG:ETL:In: 2020-10-13 \n"
          ],
          "name": "stderr"
        },
        {
          "output_type": "stream",
          "text": [
            "\u001b[37m [Mon, 19 Apr 2021 01:06:55] DEBUG [etl.py.fill_dataframe_by_ut:116] Out: 2020-10-13 \u001b[0m\n"
          ],
          "name": "stdout"
        },
        {
          "output_type": "stream",
          "text": [
            "DEBUG:ETL:Out: 2020-10-13 \n"
          ],
          "name": "stderr"
        },
        {
          "output_type": "stream",
          "text": [
            "\u001b[37m [Mon, 19 Apr 2021 01:08:41] DEBUG [log.py.log_decorator_wrapper:41] <function generate_new_columns_from_gps_data at 0x7f0cb001ee60> END\u001b[0m\n"
          ],
          "name": "stdout"
        },
        {
          "output_type": "stream",
          "text": [
            "DEBUG:ETL:<function generate_new_columns_from_gps_data at 0x7f0cb001ee60> END\n"
          ],
          "name": "stderr"
        },
        {
          "output_type": "stream",
          "text": [
            "\u001b[37m [Mon, 19 Apr 2021 01:08:41] DEBUG [log.py.log_decorator_wrapper:38] <function merge_with_meteo at 0x7f0cb001ef80> START\u001b[0m\n"
          ],
          "name": "stdout"
        },
        {
          "output_type": "stream",
          "text": [
            "DEBUG:ETL:<function merge_with_meteo at 0x7f0cb001ef80> START\n"
          ],
          "name": "stderr"
        },
        {
          "output_type": "stream",
          "text": [
            "\u001b[37m [Mon, 19 Apr 2021 01:08:41] DEBUG [log.py.log_decorator_wrapper:41] <function merge_with_meteo at 0x7f0cb001ef80> END\u001b[0m\n"
          ],
          "name": "stdout"
        },
        {
          "output_type": "stream",
          "text": [
            "DEBUG:ETL:<function merge_with_meteo at 0x7f0cb001ef80> END\n"
          ],
          "name": "stderr"
        },
        {
          "output_type": "stream",
          "text": [
            "\u001b[37m [Mon, 19 Apr 2021 01:08:41] DEBUG [log.py.log_decorator_wrapper:38] <function create_index_ts_date at 0x7f0cb00220e0> START\u001b[0m\n"
          ],
          "name": "stdout"
        },
        {
          "output_type": "stream",
          "text": [
            "DEBUG:ETL:<function create_index_ts_date at 0x7f0cb00220e0> START\n"
          ],
          "name": "stderr"
        },
        {
          "output_type": "stream",
          "text": [
            "\u001b[37m [Mon, 19 Apr 2021 01:08:41] DEBUG [log.py.log_decorator_wrapper:41] <function create_index_ts_date at 0x7f0cb00220e0> END\u001b[0m\n"
          ],
          "name": "stdout"
        },
        {
          "output_type": "stream",
          "text": [
            "DEBUG:ETL:<function create_index_ts_date at 0x7f0cb00220e0> END\n"
          ],
          "name": "stderr"
        },
        {
          "output_type": "stream",
          "text": [
            "\u001b[37m [Mon, 19 Apr 2021 01:08:41] DEBUG [log.py.log_decorator_wrapper:38] <function generate_auxiliar_columns at 0x7f0cb0022200> START\u001b[0m\n"
          ],
          "name": "stdout"
        },
        {
          "output_type": "stream",
          "text": [
            "DEBUG:ETL:<function generate_auxiliar_columns at 0x7f0cb0022200> START\n"
          ],
          "name": "stderr"
        },
        {
          "output_type": "stream",
          "text": [
            "\u001b[37m [Mon, 19 Apr 2021 01:10:03] DEBUG [etl.py.fill_dataframe_by_ut:105] In: 2020-10-13 \u001b[0m\n"
          ],
          "name": "stdout"
        },
        {
          "output_type": "stream",
          "text": [
            "DEBUG:ETL:In: 2020-10-13 \n"
          ],
          "name": "stderr"
        },
        {
          "output_type": "stream",
          "text": [
            "\u001b[37m [Mon, 19 Apr 2021 01:10:05] DEBUG [etl.py.fill_dataframe_by_ut:116] Out: 2020-10-13 \u001b[0m\n"
          ],
          "name": "stdout"
        },
        {
          "output_type": "stream",
          "text": [
            "DEBUG:ETL:Out: 2020-10-13 \n"
          ],
          "name": "stderr"
        },
        {
          "output_type": "stream",
          "text": [
            "\u001b[37m [Mon, 19 Apr 2021 01:11:43] DEBUG [log.py.log_decorator_wrapper:41] <function generate_auxiliar_columns at 0x7f0cb0022200> END\u001b[0m\n"
          ],
          "name": "stdout"
        },
        {
          "output_type": "stream",
          "text": [
            "DEBUG:ETL:<function generate_auxiliar_columns at 0x7f0cb0022200> END\n"
          ],
          "name": "stderr"
        },
        {
          "output_type": "stream",
          "text": [
            "\u001b[37m [Mon, 19 Apr 2021 01:11:49] DEBUG [log.py.log_decorator_wrapper:38] <function create_categorical at 0x7f0cb0022560> START\u001b[0m\n"
          ],
          "name": "stdout"
        },
        {
          "output_type": "stream",
          "text": [
            "DEBUG:ETL:<function create_categorical at 0x7f0cb0022560> START\n"
          ],
          "name": "stderr"
        },
        {
          "output_type": "stream",
          "text": [
            "\u001b[37m [Mon, 19 Apr 2021 01:11:50] DEBUG [log.py.log_decorator_wrapper:41] <function create_categorical at 0x7f0cb0022560> END\u001b[0m\n"
          ],
          "name": "stdout"
        },
        {
          "output_type": "stream",
          "text": [
            "DEBUG:ETL:<function create_categorical at 0x7f0cb0022560> END\n"
          ],
          "name": "stderr"
        },
        {
          "output_type": "stream",
          "text": [
            "\u001b[37m [Mon, 19 Apr 2021 01:11:50] DEBUG [etl.py.fill_dataframe_by_ut:105] In: 2020-10-13 \u001b[0m\n"
          ],
          "name": "stdout"
        },
        {
          "output_type": "stream",
          "text": [
            "DEBUG:ETL:In: 2020-10-13 \n"
          ],
          "name": "stderr"
        },
        {
          "output_type": "stream",
          "text": [
            "\u001b[37m [Mon, 19 Apr 2021 01:11:52] DEBUG [etl.py.fill_dataframe_by_ut:116] Out: 2020-10-13 \u001b[0m\n"
          ],
          "name": "stdout"
        },
        {
          "output_type": "stream",
          "text": [
            "DEBUG:ETL:Out: 2020-10-13 \n"
          ],
          "name": "stderr"
        },
        {
          "output_type": "stream",
          "text": [
            "\u001b[37m [Mon, 19 Apr 2021 01:12:07] DEBUG [log.py.log_decorator_wrapper:41] <function process_etl at 0x7f0cb00dc5f0> END\u001b[0m\n"
          ],
          "name": "stdout"
        },
        {
          "output_type": "stream",
          "text": [
            "DEBUG:ETL:<function process_etl at 0x7f0cb00dc5f0> END\n"
          ],
          "name": "stderr"
        },
        {
          "output_type": "stream",
          "text": [
            "cafcodingdatos/raw/date=2020-10-14/part-00001-tid-4502735041458916000-1def1e63-76d9-4841-bd06-f798a2422800-4115-7.c000.snappy.parquet\n",
            "cafcodingdatos/raw/date=2020-10-14/part-00019-tid-4502735041458916000-1def1e63-76d9-4841-bd06-f798a2422800-4211-6.c000.snappy.parquet\n",
            "cafcodingdatos/raw/date=2020-10-14/part-00020-tid-4502735041458916000-1def1e63-76d9-4841-bd06-f798a2422800-4247-1.c000.snappy.parquet\n",
            "cafcodingdatos/raw/date=2020-10-14/part-00056-tid-4502735041458916000-1def1e63-76d9-4841-bd06-f798a2422800-4293-8.c000.snappy.parquet\n",
            "cafcodingdatos/raw/date=2020-10-14/part-00057-tid-4502735041458916000-1def1e63-76d9-4841-bd06-f798a2422800-4182-1.c000.snappy.parquet\n",
            "cafcodingdatos/raw/date=2020-10-14/part-00075-tid-4502735041458916000-1def1e63-76d9-4841-bd06-f798a2422800-4233-4.c000.snappy.parquet\n",
            "cafcodingdatos/raw/date=2020-10-14/part-00093-tid-4502735041458916000-1def1e63-76d9-4841-bd06-f798a2422800-4294-3.c000.snappy.parquet\n",
            "cafcodingdatos/raw/date=2020-10-14/part-00110-tid-4502735041458916000-1def1e63-76d9-4841-bd06-f798a2422800-4172-3.c000.snappy.parquet\n",
            "cafcodingdatos/raw/date=2020-10-14/part-00123-tid-4502735041458916000-1def1e63-76d9-4841-bd06-f798a2422800-4125-9.c000.snappy.parquet\n",
            "cafcodingdatos/raw/date=2020-10-14/part-00144-tid-4502735041458916000-1def1e63-76d9-4841-bd06-f798a2422800-4266-6.c000.snappy.parquet\n",
            "cafcodingdatos/raw/date=2020-10-14/part-00165-tid-4502735041458916000-1def1e63-76d9-4841-bd06-f798a2422800-4138-2.c000.snappy.parquet\n",
            "\u001b[37m [Mon, 19 Apr 2021 01:13:09] DEBUG [log.py.log_decorator_wrapper:38] <function process_etl at 0x7f0cb00dc5f0> START\u001b[0m\n"
          ],
          "name": "stdout"
        },
        {
          "output_type": "stream",
          "text": [
            "DEBUG:ETL:<function process_etl at 0x7f0cb00dc5f0> START\n"
          ],
          "name": "stderr"
        },
        {
          "output_type": "stream",
          "text": [
            "\u001b[37m [Mon, 19 Apr 2021 01:13:09] DEBUG [log.py.log_decorator_wrapper:38] <function prepare_data_time at 0x7f0cb00ff5f0> START\u001b[0m\n"
          ],
          "name": "stdout"
        },
        {
          "output_type": "stream",
          "text": [
            "DEBUG:ETL:<function prepare_data_time at 0x7f0cb00ff5f0> START\n"
          ],
          "name": "stderr"
        },
        {
          "output_type": "stream",
          "text": [
            "\u001b[37m [Mon, 19 Apr 2021 01:13:09] DEBUG [log.py.log_decorator_wrapper:41] <function prepare_data_time at 0x7f0cb00ff5f0> END\u001b[0m\n"
          ],
          "name": "stdout"
        },
        {
          "output_type": "stream",
          "text": [
            "DEBUG:ETL:<function prepare_data_time at 0x7f0cb00ff5f0> END\n"
          ],
          "name": "stderr"
        },
        {
          "output_type": "stream",
          "text": [
            "\u001b[32m [Mon, 19 Apr 2021 01:13:09] INFO [etl_step.py.process_etl:38] Filter dates: 2020-10-14 00:00:00 - 2020-10-14 23:59:59\u001b[0m\n"
          ],
          "name": "stdout"
        },
        {
          "output_type": "stream",
          "text": [
            "INFO:ETL:Filter dates: 2020-10-14 00:00:00 - 2020-10-14 23:59:59\n"
          ],
          "name": "stderr"
        },
        {
          "output_type": "stream",
          "text": [
            "\u001b[37m [Mon, 19 Apr 2021 01:13:09] DEBUG [log.py.log_decorator_wrapper:38] <function process_meteo_dataframe at 0x7f0cb001ed40> START\u001b[0m\n"
          ],
          "name": "stdout"
        },
        {
          "output_type": "stream",
          "text": [
            "DEBUG:ETL:<function process_meteo_dataframe at 0x7f0cb001ed40> START\n"
          ],
          "name": "stderr"
        },
        {
          "output_type": "stream",
          "text": [
            "\u001b[37m [Mon, 19 Apr 2021 01:13:10] DEBUG [log.py.log_decorator_wrapper:41] <function process_meteo_dataframe at 0x7f0cb001ed40> END\u001b[0m\n"
          ],
          "name": "stdout"
        },
        {
          "output_type": "stream",
          "text": [
            "DEBUG:ETL:<function process_meteo_dataframe at 0x7f0cb001ed40> END\n"
          ],
          "name": "stderr"
        },
        {
          "output_type": "stream",
          "text": [
            "\u001b[37m [Mon, 19 Apr 2021 01:13:10] DEBUG [etl.py.fill_dataframe_by_ut:105] In: 2020-10-14 \u001b[0m\n"
          ],
          "name": "stdout"
        },
        {
          "output_type": "stream",
          "text": [
            "DEBUG:ETL:In: 2020-10-14 \n"
          ],
          "name": "stderr"
        },
        {
          "output_type": "stream",
          "text": [
            "\u001b[37m [Mon, 19 Apr 2021 01:13:11] DEBUG [etl.py.fill_dataframe_by_ut:116] Out: 2020-10-14 \u001b[0m\n"
          ],
          "name": "stdout"
        },
        {
          "output_type": "stream",
          "text": [
            "DEBUG:ETL:Out: 2020-10-14 \n"
          ],
          "name": "stderr"
        },
        {
          "output_type": "stream",
          "text": [
            "\u001b[37m [Mon, 19 Apr 2021 01:13:11] DEBUG [log.py.log_decorator_wrapper:38] <function generate_new_columns_from_gps_data at 0x7f0cb001ee60> START\u001b[0m\n"
          ],
          "name": "stdout"
        },
        {
          "output_type": "stream",
          "text": [
            "DEBUG:ETL:<function generate_new_columns_from_gps_data at 0x7f0cb001ee60> START\n"
          ],
          "name": "stderr"
        },
        {
          "output_type": "stream",
          "text": [
            "\u001b[37m [Mon, 19 Apr 2021 01:13:28] DEBUG [etl.py.fill_dataframe_by_ut:105] In: 2020-10-14 \u001b[0m\n"
          ],
          "name": "stdout"
        },
        {
          "output_type": "stream",
          "text": [
            "DEBUG:ETL:In: 2020-10-14 \n"
          ],
          "name": "stderr"
        },
        {
          "output_type": "stream",
          "text": [
            "\u001b[37m [Mon, 19 Apr 2021 01:13:29] DEBUG [etl.py.fill_dataframe_by_ut:116] Out: 2020-10-14 \u001b[0m\n"
          ],
          "name": "stdout"
        },
        {
          "output_type": "stream",
          "text": [
            "DEBUG:ETL:Out: 2020-10-14 \n"
          ],
          "name": "stderr"
        },
        {
          "output_type": "stream",
          "text": [
            "\u001b[37m [Mon, 19 Apr 2021 01:15:15] DEBUG [log.py.log_decorator_wrapper:41] <function generate_new_columns_from_gps_data at 0x7f0cb001ee60> END\u001b[0m\n"
          ],
          "name": "stdout"
        },
        {
          "output_type": "stream",
          "text": [
            "DEBUG:ETL:<function generate_new_columns_from_gps_data at 0x7f0cb001ee60> END\n"
          ],
          "name": "stderr"
        },
        {
          "output_type": "stream",
          "text": [
            "\u001b[37m [Mon, 19 Apr 2021 01:15:15] DEBUG [log.py.log_decorator_wrapper:38] <function merge_with_meteo at 0x7f0cb001ef80> START\u001b[0m\n"
          ],
          "name": "stdout"
        },
        {
          "output_type": "stream",
          "text": [
            "DEBUG:ETL:<function merge_with_meteo at 0x7f0cb001ef80> START\n"
          ],
          "name": "stderr"
        },
        {
          "output_type": "stream",
          "text": [
            "\u001b[37m [Mon, 19 Apr 2021 01:15:15] DEBUG [log.py.log_decorator_wrapper:41] <function merge_with_meteo at 0x7f0cb001ef80> END\u001b[0m\n"
          ],
          "name": "stdout"
        },
        {
          "output_type": "stream",
          "text": [
            "DEBUG:ETL:<function merge_with_meteo at 0x7f0cb001ef80> END\n"
          ],
          "name": "stderr"
        },
        {
          "output_type": "stream",
          "text": [
            "\u001b[37m [Mon, 19 Apr 2021 01:15:15] DEBUG [log.py.log_decorator_wrapper:38] <function create_index_ts_date at 0x7f0cb00220e0> START\u001b[0m\n"
          ],
          "name": "stdout"
        },
        {
          "output_type": "stream",
          "text": [
            "DEBUG:ETL:<function create_index_ts_date at 0x7f0cb00220e0> START\n"
          ],
          "name": "stderr"
        },
        {
          "output_type": "stream",
          "text": [
            "\u001b[37m [Mon, 19 Apr 2021 01:15:15] DEBUG [log.py.log_decorator_wrapper:41] <function create_index_ts_date at 0x7f0cb00220e0> END\u001b[0m\n"
          ],
          "name": "stdout"
        },
        {
          "output_type": "stream",
          "text": [
            "DEBUG:ETL:<function create_index_ts_date at 0x7f0cb00220e0> END\n"
          ],
          "name": "stderr"
        },
        {
          "output_type": "stream",
          "text": [
            "\u001b[37m [Mon, 19 Apr 2021 01:15:15] DEBUG [log.py.log_decorator_wrapper:38] <function generate_auxiliar_columns at 0x7f0cb0022200> START\u001b[0m\n"
          ],
          "name": "stdout"
        },
        {
          "output_type": "stream",
          "text": [
            "DEBUG:ETL:<function generate_auxiliar_columns at 0x7f0cb0022200> START\n"
          ],
          "name": "stderr"
        },
        {
          "output_type": "stream",
          "text": [
            "\u001b[37m [Mon, 19 Apr 2021 01:16:37] DEBUG [etl.py.fill_dataframe_by_ut:105] In: 2020-10-14 \u001b[0m\n"
          ],
          "name": "stdout"
        },
        {
          "output_type": "stream",
          "text": [
            "DEBUG:ETL:In: 2020-10-14 \n"
          ],
          "name": "stderr"
        },
        {
          "output_type": "stream",
          "text": [
            "\u001b[37m [Mon, 19 Apr 2021 01:16:40] DEBUG [etl.py.fill_dataframe_by_ut:116] Out: 2020-10-14 \u001b[0m\n"
          ],
          "name": "stdout"
        },
        {
          "output_type": "stream",
          "text": [
            "DEBUG:ETL:Out: 2020-10-14 \n"
          ],
          "name": "stderr"
        },
        {
          "output_type": "stream",
          "text": [
            "\u001b[37m [Mon, 19 Apr 2021 01:18:25] DEBUG [log.py.log_decorator_wrapper:41] <function generate_auxiliar_columns at 0x7f0cb0022200> END\u001b[0m\n"
          ],
          "name": "stdout"
        },
        {
          "output_type": "stream",
          "text": [
            "DEBUG:ETL:<function generate_auxiliar_columns at 0x7f0cb0022200> END\n"
          ],
          "name": "stderr"
        },
        {
          "output_type": "stream",
          "text": [
            "\u001b[37m [Mon, 19 Apr 2021 01:18:31] DEBUG [log.py.log_decorator_wrapper:38] <function create_categorical at 0x7f0cb0022560> START\u001b[0m\n"
          ],
          "name": "stdout"
        },
        {
          "output_type": "stream",
          "text": [
            "DEBUG:ETL:<function create_categorical at 0x7f0cb0022560> START\n"
          ],
          "name": "stderr"
        },
        {
          "output_type": "stream",
          "text": [
            "\u001b[37m [Mon, 19 Apr 2021 01:18:32] DEBUG [log.py.log_decorator_wrapper:41] <function create_categorical at 0x7f0cb0022560> END\u001b[0m\n"
          ],
          "name": "stdout"
        },
        {
          "output_type": "stream",
          "text": [
            "DEBUG:ETL:<function create_categorical at 0x7f0cb0022560> END\n"
          ],
          "name": "stderr"
        },
        {
          "output_type": "stream",
          "text": [
            "\u001b[37m [Mon, 19 Apr 2021 01:18:32] DEBUG [etl.py.fill_dataframe_by_ut:105] In: 2020-10-14 \u001b[0m\n"
          ],
          "name": "stdout"
        },
        {
          "output_type": "stream",
          "text": [
            "DEBUG:ETL:In: 2020-10-14 \n"
          ],
          "name": "stderr"
        },
        {
          "output_type": "stream",
          "text": [
            "\u001b[37m [Mon, 19 Apr 2021 01:18:34] DEBUG [etl.py.fill_dataframe_by_ut:116] Out: 2020-10-14 \u001b[0m\n"
          ],
          "name": "stdout"
        },
        {
          "output_type": "stream",
          "text": [
            "DEBUG:ETL:Out: 2020-10-14 \n"
          ],
          "name": "stderr"
        },
        {
          "output_type": "stream",
          "text": [
            "\u001b[37m [Mon, 19 Apr 2021 01:18:50] DEBUG [log.py.log_decorator_wrapper:41] <function process_etl at 0x7f0cb00dc5f0> END\u001b[0m\n"
          ],
          "name": "stdout"
        },
        {
          "output_type": "stream",
          "text": [
            "DEBUG:ETL:<function process_etl at 0x7f0cb00dc5f0> END\n"
          ],
          "name": "stderr"
        },
        {
          "output_type": "stream",
          "text": [
            "cafcodingdatos/raw/date=2020-10-15/part-00001-tid-4502735041458916000-1def1e63-76d9-4841-bd06-f798a2422800-4115-8.c000.snappy.parquet\n",
            "cafcodingdatos/raw/date=2020-10-15/part-00020-tid-4502735041458916000-1def1e63-76d9-4841-bd06-f798a2422800-4247-2.c000.snappy.parquet\n",
            "cafcodingdatos/raw/date=2020-10-15/part-00057-tid-4502735041458916000-1def1e63-76d9-4841-bd06-f798a2422800-4182-2.c000.snappy.parquet\n",
            "cafcodingdatos/raw/date=2020-10-15/part-00075-tid-4502735041458916000-1def1e63-76d9-4841-bd06-f798a2422800-4233-5.c000.snappy.parquet\n",
            "cafcodingdatos/raw/date=2020-10-15/part-00076-tid-4502735041458916000-1def1e63-76d9-4841-bd06-f798a2422800-4283-1.c000.snappy.parquet\n",
            "cafcodingdatos/raw/date=2020-10-15/part-00093-tid-4502735041458916000-1def1e63-76d9-4841-bd06-f798a2422800-4294-4.c000.snappy.parquet\n",
            "cafcodingdatos/raw/date=2020-10-15/part-00123-tid-4502735041458916000-1def1e63-76d9-4841-bd06-f798a2422800-4125-10.c000.snappy.parquet\n",
            "cafcodingdatos/raw/date=2020-10-15/part-00124-tid-4502735041458916000-1def1e63-76d9-4841-bd06-f798a2422800-4282-1.c000.snappy.parquet\n",
            "cafcodingdatos/raw/date=2020-10-15/part-00144-tid-4502735041458916000-1def1e63-76d9-4841-bd06-f798a2422800-4266-7.c000.snappy.parquet\n",
            "cafcodingdatos/raw/date=2020-10-15/part-00145-tid-4502735041458916000-1def1e63-76d9-4841-bd06-f798a2422800-4170-1.c000.snappy.parquet\n",
            "cafcodingdatos/raw/date=2020-10-15/part-00165-tid-4502735041458916000-1def1e63-76d9-4841-bd06-f798a2422800-4138-3.c000.snappy.parquet\n",
            "\u001b[37m [Mon, 19 Apr 2021 01:20:17] DEBUG [log.py.log_decorator_wrapper:38] <function process_etl at 0x7f0cb00dc5f0> START\u001b[0m\n"
          ],
          "name": "stdout"
        },
        {
          "output_type": "stream",
          "text": [
            "DEBUG:ETL:<function process_etl at 0x7f0cb00dc5f0> START\n"
          ],
          "name": "stderr"
        },
        {
          "output_type": "stream",
          "text": [
            "\u001b[37m [Mon, 19 Apr 2021 01:20:17] DEBUG [log.py.log_decorator_wrapper:38] <function prepare_data_time at 0x7f0cb00ff5f0> START\u001b[0m\n"
          ],
          "name": "stdout"
        },
        {
          "output_type": "stream",
          "text": [
            "DEBUG:ETL:<function prepare_data_time at 0x7f0cb00ff5f0> START\n"
          ],
          "name": "stderr"
        },
        {
          "output_type": "stream",
          "text": [
            "\u001b[37m [Mon, 19 Apr 2021 01:20:17] DEBUG [log.py.log_decorator_wrapper:41] <function prepare_data_time at 0x7f0cb00ff5f0> END\u001b[0m\n"
          ],
          "name": "stdout"
        },
        {
          "output_type": "stream",
          "text": [
            "DEBUG:ETL:<function prepare_data_time at 0x7f0cb00ff5f0> END\n"
          ],
          "name": "stderr"
        },
        {
          "output_type": "stream",
          "text": [
            "\u001b[32m [Mon, 19 Apr 2021 01:20:17] INFO [etl_step.py.process_etl:38] Filter dates: 2020-10-15 00:00:00 - 2020-10-15 23:59:59\u001b[0m\n"
          ],
          "name": "stdout"
        },
        {
          "output_type": "stream",
          "text": [
            "INFO:ETL:Filter dates: 2020-10-15 00:00:00 - 2020-10-15 23:59:59\n"
          ],
          "name": "stderr"
        },
        {
          "output_type": "stream",
          "text": [
            "\u001b[37m [Mon, 19 Apr 2021 01:20:17] DEBUG [log.py.log_decorator_wrapper:38] <function process_meteo_dataframe at 0x7f0cb001ed40> START\u001b[0m\n"
          ],
          "name": "stdout"
        },
        {
          "output_type": "stream",
          "text": [
            "DEBUG:ETL:<function process_meteo_dataframe at 0x7f0cb001ed40> START\n"
          ],
          "name": "stderr"
        },
        {
          "output_type": "stream",
          "text": [
            "\u001b[37m [Mon, 19 Apr 2021 01:20:17] DEBUG [log.py.log_decorator_wrapper:41] <function process_meteo_dataframe at 0x7f0cb001ed40> END\u001b[0m\n"
          ],
          "name": "stdout"
        },
        {
          "output_type": "stream",
          "text": [
            "DEBUG:ETL:<function process_meteo_dataframe at 0x7f0cb001ed40> END\n"
          ],
          "name": "stderr"
        },
        {
          "output_type": "stream",
          "text": [
            "\u001b[37m [Mon, 19 Apr 2021 01:20:17] DEBUG [etl.py.fill_dataframe_by_ut:105] In: 2020-10-15 \u001b[0m\n"
          ],
          "name": "stdout"
        },
        {
          "output_type": "stream",
          "text": [
            "DEBUG:ETL:In: 2020-10-15 \n"
          ],
          "name": "stderr"
        },
        {
          "output_type": "stream",
          "text": [
            "\u001b[37m [Mon, 19 Apr 2021 01:20:18] DEBUG [etl.py.fill_dataframe_by_ut:116] Out: 2020-10-15 \u001b[0m\n"
          ],
          "name": "stdout"
        },
        {
          "output_type": "stream",
          "text": [
            "DEBUG:ETL:Out: 2020-10-15 \n"
          ],
          "name": "stderr"
        },
        {
          "output_type": "stream",
          "text": [
            "\u001b[37m [Mon, 19 Apr 2021 01:20:19] DEBUG [log.py.log_decorator_wrapper:38] <function generate_new_columns_from_gps_data at 0x7f0cb001ee60> START\u001b[0m\n"
          ],
          "name": "stdout"
        },
        {
          "output_type": "stream",
          "text": [
            "DEBUG:ETL:<function generate_new_columns_from_gps_data at 0x7f0cb001ee60> START\n"
          ],
          "name": "stderr"
        },
        {
          "output_type": "stream",
          "text": [
            "\u001b[37m [Mon, 19 Apr 2021 01:20:34] DEBUG [etl.py.fill_dataframe_by_ut:105] In: 2020-10-15 \u001b[0m\n"
          ],
          "name": "stdout"
        },
        {
          "output_type": "stream",
          "text": [
            "DEBUG:ETL:In: 2020-10-15 \n"
          ],
          "name": "stderr"
        },
        {
          "output_type": "stream",
          "text": [
            "\u001b[37m [Mon, 19 Apr 2021 01:20:35] DEBUG [etl.py.fill_dataframe_by_ut:116] Out: 2020-10-15 \u001b[0m\n"
          ],
          "name": "stdout"
        },
        {
          "output_type": "stream",
          "text": [
            "DEBUG:ETL:Out: 2020-10-15 \n"
          ],
          "name": "stderr"
        },
        {
          "output_type": "stream",
          "text": [
            "\u001b[37m [Mon, 19 Apr 2021 01:22:16] DEBUG [log.py.log_decorator_wrapper:41] <function generate_new_columns_from_gps_data at 0x7f0cb001ee60> END\u001b[0m\n"
          ],
          "name": "stdout"
        },
        {
          "output_type": "stream",
          "text": [
            "DEBUG:ETL:<function generate_new_columns_from_gps_data at 0x7f0cb001ee60> END\n"
          ],
          "name": "stderr"
        },
        {
          "output_type": "stream",
          "text": [
            "\u001b[37m [Mon, 19 Apr 2021 01:22:16] DEBUG [log.py.log_decorator_wrapper:38] <function merge_with_meteo at 0x7f0cb001ef80> START\u001b[0m\n"
          ],
          "name": "stdout"
        },
        {
          "output_type": "stream",
          "text": [
            "DEBUG:ETL:<function merge_with_meteo at 0x7f0cb001ef80> START\n"
          ],
          "name": "stderr"
        },
        {
          "output_type": "stream",
          "text": [
            "\u001b[37m [Mon, 19 Apr 2021 01:22:16] DEBUG [log.py.log_decorator_wrapper:41] <function merge_with_meteo at 0x7f0cb001ef80> END\u001b[0m\n"
          ],
          "name": "stdout"
        },
        {
          "output_type": "stream",
          "text": [
            "DEBUG:ETL:<function merge_with_meteo at 0x7f0cb001ef80> END\n"
          ],
          "name": "stderr"
        },
        {
          "output_type": "stream",
          "text": [
            "\u001b[37m [Mon, 19 Apr 2021 01:22:16] DEBUG [log.py.log_decorator_wrapper:38] <function create_index_ts_date at 0x7f0cb00220e0> START\u001b[0m\n"
          ],
          "name": "stdout"
        },
        {
          "output_type": "stream",
          "text": [
            "DEBUG:ETL:<function create_index_ts_date at 0x7f0cb00220e0> START\n"
          ],
          "name": "stderr"
        },
        {
          "output_type": "stream",
          "text": [
            "\u001b[37m [Mon, 19 Apr 2021 01:22:16] DEBUG [log.py.log_decorator_wrapper:41] <function create_index_ts_date at 0x7f0cb00220e0> END\u001b[0m\n"
          ],
          "name": "stdout"
        },
        {
          "output_type": "stream",
          "text": [
            "DEBUG:ETL:<function create_index_ts_date at 0x7f0cb00220e0> END\n"
          ],
          "name": "stderr"
        },
        {
          "output_type": "stream",
          "text": [
            "\u001b[37m [Mon, 19 Apr 2021 01:22:16] DEBUG [log.py.log_decorator_wrapper:38] <function generate_auxiliar_columns at 0x7f0cb0022200> START\u001b[0m\n"
          ],
          "name": "stdout"
        },
        {
          "output_type": "stream",
          "text": [
            "DEBUG:ETL:<function generate_auxiliar_columns at 0x7f0cb0022200> START\n"
          ],
          "name": "stderr"
        },
        {
          "output_type": "stream",
          "text": [
            "\u001b[37m [Mon, 19 Apr 2021 01:23:34] DEBUG [etl.py.fill_dataframe_by_ut:105] In: 2020-10-15 \u001b[0m\n"
          ],
          "name": "stdout"
        },
        {
          "output_type": "stream",
          "text": [
            "DEBUG:ETL:In: 2020-10-15 \n"
          ],
          "name": "stderr"
        },
        {
          "output_type": "stream",
          "text": [
            "\u001b[37m [Mon, 19 Apr 2021 01:23:36] DEBUG [etl.py.fill_dataframe_by_ut:116] Out: 2020-10-15 \u001b[0m\n"
          ],
          "name": "stdout"
        },
        {
          "output_type": "stream",
          "text": [
            "DEBUG:ETL:Out: 2020-10-15 \n"
          ],
          "name": "stderr"
        },
        {
          "output_type": "stream",
          "text": [
            "\u001b[37m [Mon, 19 Apr 2021 01:25:15] DEBUG [log.py.log_decorator_wrapper:41] <function generate_auxiliar_columns at 0x7f0cb0022200> END\u001b[0m\n"
          ],
          "name": "stdout"
        },
        {
          "output_type": "stream",
          "text": [
            "DEBUG:ETL:<function generate_auxiliar_columns at 0x7f0cb0022200> END\n"
          ],
          "name": "stderr"
        },
        {
          "output_type": "stream",
          "text": [
            "\u001b[37m [Mon, 19 Apr 2021 01:25:22] DEBUG [log.py.log_decorator_wrapper:38] <function create_categorical at 0x7f0cb0022560> START\u001b[0m\n"
          ],
          "name": "stdout"
        },
        {
          "output_type": "stream",
          "text": [
            "DEBUG:ETL:<function create_categorical at 0x7f0cb0022560> START\n"
          ],
          "name": "stderr"
        },
        {
          "output_type": "stream",
          "text": [
            "\u001b[37m [Mon, 19 Apr 2021 01:25:23] DEBUG [log.py.log_decorator_wrapper:41] <function create_categorical at 0x7f0cb0022560> END\u001b[0m\n"
          ],
          "name": "stdout"
        },
        {
          "output_type": "stream",
          "text": [
            "DEBUG:ETL:<function create_categorical at 0x7f0cb0022560> END\n"
          ],
          "name": "stderr"
        },
        {
          "output_type": "stream",
          "text": [
            "\u001b[37m [Mon, 19 Apr 2021 01:25:23] DEBUG [etl.py.fill_dataframe_by_ut:105] In: 2020-10-15 \u001b[0m\n"
          ],
          "name": "stdout"
        },
        {
          "output_type": "stream",
          "text": [
            "DEBUG:ETL:In: 2020-10-15 \n"
          ],
          "name": "stderr"
        },
        {
          "output_type": "stream",
          "text": [
            "\u001b[37m [Mon, 19 Apr 2021 01:25:24] DEBUG [etl.py.fill_dataframe_by_ut:116] Out: 2020-10-15 \u001b[0m\n"
          ],
          "name": "stdout"
        },
        {
          "output_type": "stream",
          "text": [
            "DEBUG:ETL:Out: 2020-10-15 \n"
          ],
          "name": "stderr"
        },
        {
          "output_type": "stream",
          "text": [
            "\u001b[37m [Mon, 19 Apr 2021 01:25:39] DEBUG [log.py.log_decorator_wrapper:41] <function process_etl at 0x7f0cb00dc5f0> END\u001b[0m\n"
          ],
          "name": "stdout"
        },
        {
          "output_type": "stream",
          "text": [
            "DEBUG:ETL:<function process_etl at 0x7f0cb00dc5f0> END\n"
          ],
          "name": "stderr"
        },
        {
          "output_type": "stream",
          "text": [
            "cafcodingdatos/raw/date=2020-10-16/part-00001-tid-4502735041458916000-1def1e63-76d9-4841-bd06-f798a2422800-4115-9.c000.snappy.parquet\n",
            "cafcodingdatos/raw/date=2020-10-16/part-00020-tid-4502735041458916000-1def1e63-76d9-4841-bd06-f798a2422800-4247-3.c000.snappy.parquet\n",
            "cafcodingdatos/raw/date=2020-10-16/part-00037-tid-4502735041458916000-1def1e63-76d9-4841-bd06-f798a2422800-4123-5.c000.snappy.parquet\n",
            "cafcodingdatos/raw/date=2020-10-16/part-00057-tid-4502735041458916000-1def1e63-76d9-4841-bd06-f798a2422800-4182-3.c000.snappy.parquet\n",
            "cafcodingdatos/raw/date=2020-10-16/part-00076-tid-4502735041458916000-1def1e63-76d9-4841-bd06-f798a2422800-4283-2.c000.snappy.parquet\n",
            "cafcodingdatos/raw/date=2020-10-16/part-00093-tid-4502735041458916000-1def1e63-76d9-4841-bd06-f798a2422800-4294-5.c000.snappy.parquet\n",
            "cafcodingdatos/raw/date=2020-10-16/part-00094-tid-4502735041458916000-1def1e63-76d9-4841-bd06-f798a2422800-4141-1.c000.snappy.parquet\n",
            "cafcodingdatos/raw/date=2020-10-16/part-00124-tid-4502735041458916000-1def1e63-76d9-4841-bd06-f798a2422800-4282-2.c000.snappy.parquet\n",
            "cafcodingdatos/raw/date=2020-10-16/part-00145-tid-4502735041458916000-1def1e63-76d9-4841-bd06-f798a2422800-4170-2.c000.snappy.parquet\n",
            "cafcodingdatos/raw/date=2020-10-16/part-00165-tid-4502735041458916000-1def1e63-76d9-4841-bd06-f798a2422800-4138-4.c000.snappy.parquet\n",
            "\u001b[37m [Mon, 19 Apr 2021 01:27:37] DEBUG [log.py.log_decorator_wrapper:38] <function process_etl at 0x7f0cb00dc5f0> START\u001b[0m\n"
          ],
          "name": "stdout"
        },
        {
          "output_type": "stream",
          "text": [
            "DEBUG:ETL:<function process_etl at 0x7f0cb00dc5f0> START\n"
          ],
          "name": "stderr"
        },
        {
          "output_type": "stream",
          "text": [
            "\u001b[37m [Mon, 19 Apr 2021 01:27:37] DEBUG [log.py.log_decorator_wrapper:38] <function prepare_data_time at 0x7f0cb00ff5f0> START\u001b[0m\n"
          ],
          "name": "stdout"
        },
        {
          "output_type": "stream",
          "text": [
            "DEBUG:ETL:<function prepare_data_time at 0x7f0cb00ff5f0> START\n"
          ],
          "name": "stderr"
        },
        {
          "output_type": "stream",
          "text": [
            "\u001b[37m [Mon, 19 Apr 2021 01:27:38] DEBUG [log.py.log_decorator_wrapper:41] <function prepare_data_time at 0x7f0cb00ff5f0> END\u001b[0m\n"
          ],
          "name": "stdout"
        },
        {
          "output_type": "stream",
          "text": [
            "DEBUG:ETL:<function prepare_data_time at 0x7f0cb00ff5f0> END\n"
          ],
          "name": "stderr"
        },
        {
          "output_type": "stream",
          "text": [
            "\u001b[32m [Mon, 19 Apr 2021 01:27:38] INFO [etl_step.py.process_etl:38] Filter dates: 2020-10-16 00:00:00 - 2020-10-16 23:59:59\u001b[0m\n"
          ],
          "name": "stdout"
        },
        {
          "output_type": "stream",
          "text": [
            "INFO:ETL:Filter dates: 2020-10-16 00:00:00 - 2020-10-16 23:59:59\n"
          ],
          "name": "stderr"
        },
        {
          "output_type": "stream",
          "text": [
            "\u001b[37m [Mon, 19 Apr 2021 01:27:38] DEBUG [log.py.log_decorator_wrapper:38] <function process_meteo_dataframe at 0x7f0cb001ed40> START\u001b[0m\n"
          ],
          "name": "stdout"
        },
        {
          "output_type": "stream",
          "text": [
            "DEBUG:ETL:<function process_meteo_dataframe at 0x7f0cb001ed40> START\n"
          ],
          "name": "stderr"
        },
        {
          "output_type": "stream",
          "text": [
            "\u001b[37m [Mon, 19 Apr 2021 01:27:38] DEBUG [log.py.log_decorator_wrapper:41] <function process_meteo_dataframe at 0x7f0cb001ed40> END\u001b[0m\n"
          ],
          "name": "stdout"
        },
        {
          "output_type": "stream",
          "text": [
            "DEBUG:ETL:<function process_meteo_dataframe at 0x7f0cb001ed40> END\n"
          ],
          "name": "stderr"
        },
        {
          "output_type": "stream",
          "text": [
            "\u001b[37m [Mon, 19 Apr 2021 01:27:38] DEBUG [etl.py.fill_dataframe_by_ut:105] In: 2020-10-16 \u001b[0m\n"
          ],
          "name": "stdout"
        },
        {
          "output_type": "stream",
          "text": [
            "DEBUG:ETL:In: 2020-10-16 \n"
          ],
          "name": "stderr"
        },
        {
          "output_type": "stream",
          "text": [
            "\u001b[37m [Mon, 19 Apr 2021 01:27:39] DEBUG [etl.py.fill_dataframe_by_ut:116] Out: 2020-10-16 \u001b[0m\n"
          ],
          "name": "stdout"
        },
        {
          "output_type": "stream",
          "text": [
            "DEBUG:ETL:Out: 2020-10-16 \n"
          ],
          "name": "stderr"
        },
        {
          "output_type": "stream",
          "text": [
            "\u001b[37m [Mon, 19 Apr 2021 01:27:40] DEBUG [log.py.log_decorator_wrapper:38] <function generate_new_columns_from_gps_data at 0x7f0cb001ee60> START\u001b[0m\n"
          ],
          "name": "stdout"
        },
        {
          "output_type": "stream",
          "text": [
            "DEBUG:ETL:<function generate_new_columns_from_gps_data at 0x7f0cb001ee60> START\n"
          ],
          "name": "stderr"
        },
        {
          "output_type": "stream",
          "text": [
            "\u001b[37m [Mon, 19 Apr 2021 01:27:59] DEBUG [etl.py.fill_dataframe_by_ut:105] In: 2020-10-16 \u001b[0m\n"
          ],
          "name": "stdout"
        },
        {
          "output_type": "stream",
          "text": [
            "DEBUG:ETL:In: 2020-10-16 \n"
          ],
          "name": "stderr"
        },
        {
          "output_type": "stream",
          "text": [
            "\u001b[37m [Mon, 19 Apr 2021 01:28:00] DEBUG [etl.py.fill_dataframe_by_ut:116] Out: 2020-10-16 \u001b[0m\n"
          ],
          "name": "stdout"
        },
        {
          "output_type": "stream",
          "text": [
            "DEBUG:ETL:Out: 2020-10-16 \n"
          ],
          "name": "stderr"
        },
        {
          "output_type": "stream",
          "text": [
            "\u001b[37m [Mon, 19 Apr 2021 01:30:00] DEBUG [log.py.log_decorator_wrapper:41] <function generate_new_columns_from_gps_data at 0x7f0cb001ee60> END\u001b[0m\n"
          ],
          "name": "stdout"
        },
        {
          "output_type": "stream",
          "text": [
            "DEBUG:ETL:<function generate_new_columns_from_gps_data at 0x7f0cb001ee60> END\n"
          ],
          "name": "stderr"
        },
        {
          "output_type": "stream",
          "text": [
            "\u001b[37m [Mon, 19 Apr 2021 01:30:00] DEBUG [log.py.log_decorator_wrapper:38] <function merge_with_meteo at 0x7f0cb001ef80> START\u001b[0m\n"
          ],
          "name": "stdout"
        },
        {
          "output_type": "stream",
          "text": [
            "DEBUG:ETL:<function merge_with_meteo at 0x7f0cb001ef80> START\n"
          ],
          "name": "stderr"
        },
        {
          "output_type": "stream",
          "text": [
            "\u001b[37m [Mon, 19 Apr 2021 01:30:01] DEBUG [log.py.log_decorator_wrapper:41] <function merge_with_meteo at 0x7f0cb001ef80> END\u001b[0m\n"
          ],
          "name": "stdout"
        },
        {
          "output_type": "stream",
          "text": [
            "DEBUG:ETL:<function merge_with_meteo at 0x7f0cb001ef80> END\n"
          ],
          "name": "stderr"
        },
        {
          "output_type": "stream",
          "text": [
            "\u001b[37m [Mon, 19 Apr 2021 01:30:01] DEBUG [log.py.log_decorator_wrapper:38] <function create_index_ts_date at 0x7f0cb00220e0> START\u001b[0m\n"
          ],
          "name": "stdout"
        },
        {
          "output_type": "stream",
          "text": [
            "DEBUG:ETL:<function create_index_ts_date at 0x7f0cb00220e0> START\n"
          ],
          "name": "stderr"
        },
        {
          "output_type": "stream",
          "text": [
            "\u001b[37m [Mon, 19 Apr 2021 01:30:01] DEBUG [log.py.log_decorator_wrapper:41] <function create_index_ts_date at 0x7f0cb00220e0> END\u001b[0m\n"
          ],
          "name": "stdout"
        },
        {
          "output_type": "stream",
          "text": [
            "DEBUG:ETL:<function create_index_ts_date at 0x7f0cb00220e0> END\n"
          ],
          "name": "stderr"
        },
        {
          "output_type": "stream",
          "text": [
            "\u001b[37m [Mon, 19 Apr 2021 01:30:01] DEBUG [log.py.log_decorator_wrapper:38] <function generate_auxiliar_columns at 0x7f0cb0022200> START\u001b[0m\n"
          ],
          "name": "stdout"
        },
        {
          "output_type": "stream",
          "text": [
            "DEBUG:ETL:<function generate_auxiliar_columns at 0x7f0cb0022200> START\n"
          ],
          "name": "stderr"
        },
        {
          "output_type": "stream",
          "text": [
            "\u001b[37m [Mon, 19 Apr 2021 01:31:32] DEBUG [etl.py.fill_dataframe_by_ut:105] In: 2020-10-16 \u001b[0m\n"
          ],
          "name": "stdout"
        },
        {
          "output_type": "stream",
          "text": [
            "DEBUG:ETL:In: 2020-10-16 \n"
          ],
          "name": "stderr"
        },
        {
          "output_type": "stream",
          "text": [
            "\u001b[37m [Mon, 19 Apr 2021 01:31:35] DEBUG [etl.py.fill_dataframe_by_ut:116] Out: 2020-10-16 \u001b[0m\n"
          ],
          "name": "stdout"
        },
        {
          "output_type": "stream",
          "text": [
            "DEBUG:ETL:Out: 2020-10-16 \n"
          ],
          "name": "stderr"
        },
        {
          "output_type": "stream",
          "text": [
            "\u001b[37m [Mon, 19 Apr 2021 01:33:25] DEBUG [log.py.log_decorator_wrapper:41] <function generate_auxiliar_columns at 0x7f0cb0022200> END\u001b[0m\n"
          ],
          "name": "stdout"
        },
        {
          "output_type": "stream",
          "text": [
            "DEBUG:ETL:<function generate_auxiliar_columns at 0x7f0cb0022200> END\n"
          ],
          "name": "stderr"
        },
        {
          "output_type": "stream",
          "text": [
            "\u001b[37m [Mon, 19 Apr 2021 01:33:33] DEBUG [log.py.log_decorator_wrapper:38] <function create_categorical at 0x7f0cb0022560> START\u001b[0m\n"
          ],
          "name": "stdout"
        },
        {
          "output_type": "stream",
          "text": [
            "DEBUG:ETL:<function create_categorical at 0x7f0cb0022560> START\n"
          ],
          "name": "stderr"
        },
        {
          "output_type": "stream",
          "text": [
            "\u001b[37m [Mon, 19 Apr 2021 01:33:34] DEBUG [log.py.log_decorator_wrapper:41] <function create_categorical at 0x7f0cb0022560> END\u001b[0m\n"
          ],
          "name": "stdout"
        },
        {
          "output_type": "stream",
          "text": [
            "DEBUG:ETL:<function create_categorical at 0x7f0cb0022560> END\n"
          ],
          "name": "stderr"
        },
        {
          "output_type": "stream",
          "text": [
            "\u001b[37m [Mon, 19 Apr 2021 01:33:34] DEBUG [etl.py.fill_dataframe_by_ut:105] In: 2020-10-16 \u001b[0m\n"
          ],
          "name": "stdout"
        },
        {
          "output_type": "stream",
          "text": [
            "DEBUG:ETL:In: 2020-10-16 \n"
          ],
          "name": "stderr"
        },
        {
          "output_type": "stream",
          "text": [
            "\u001b[37m [Mon, 19 Apr 2021 01:33:36] DEBUG [etl.py.fill_dataframe_by_ut:116] Out: 2020-10-16 \u001b[0m\n"
          ],
          "name": "stdout"
        },
        {
          "output_type": "stream",
          "text": [
            "DEBUG:ETL:Out: 2020-10-16 \n"
          ],
          "name": "stderr"
        },
        {
          "output_type": "stream",
          "text": [
            "\u001b[37m [Mon, 19 Apr 2021 01:33:53] DEBUG [log.py.log_decorator_wrapper:41] <function process_etl at 0x7f0cb00dc5f0> END\u001b[0m\n"
          ],
          "name": "stdout"
        },
        {
          "output_type": "stream",
          "text": [
            "DEBUG:ETL:<function process_etl at 0x7f0cb00dc5f0> END\n"
          ],
          "name": "stderr"
        },
        {
          "output_type": "stream",
          "text": [
            "cafcodingdatos/raw/date=2020-10-17/part-00001-tid-4502735041458916000-1def1e63-76d9-4841-bd06-f798a2422800-4115-10.c000.snappy.parquet\n",
            "cafcodingdatos/raw/date=2020-10-17/part-00002-tid-4502735041458916000-1def1e63-76d9-4841-bd06-f798a2422800-4291-1.c000.snappy.parquet\n",
            "cafcodingdatos/raw/date=2020-10-17/part-00020-tid-4502735041458916000-1def1e63-76d9-4841-bd06-f798a2422800-4247-4.c000.snappy.parquet\n",
            "cafcodingdatos/raw/date=2020-10-17/part-00037-tid-4502735041458916000-1def1e63-76d9-4841-bd06-f798a2422800-4123-6.c000.snappy.parquet\n",
            "cafcodingdatos/raw/date=2020-10-17/part-00057-tid-4502735041458916000-1def1e63-76d9-4841-bd06-f798a2422800-4182-4.c000.snappy.parquet\n",
            "cafcodingdatos/raw/date=2020-10-17/part-00076-tid-4502735041458916000-1def1e63-76d9-4841-bd06-f798a2422800-4283-3.c000.snappy.parquet\n",
            "cafcodingdatos/raw/date=2020-10-17/part-00094-tid-4502735041458916000-1def1e63-76d9-4841-bd06-f798a2422800-4141-2.c000.snappy.parquet\n",
            "cafcodingdatos/raw/date=2020-10-17/part-00124-tid-4502735041458916000-1def1e63-76d9-4841-bd06-f798a2422800-4282-3.c000.snappy.parquet\n",
            "cafcodingdatos/raw/date=2020-10-17/part-00165-tid-4502735041458916000-1def1e63-76d9-4841-bd06-f798a2422800-4138-5.c000.snappy.parquet\n",
            "cafcodingdatos/raw/date=2020-10-17/part-00166-tid-4502735041458916000-1def1e63-76d9-4841-bd06-f798a2422800-4227-1.c000.snappy.parquet\n",
            "\u001b[37m [Mon, 19 Apr 2021 01:35:30] DEBUG [log.py.log_decorator_wrapper:38] <function process_etl at 0x7f0cb00dc5f0> START\u001b[0m\n"
          ],
          "name": "stdout"
        },
        {
          "output_type": "stream",
          "text": [
            "DEBUG:ETL:<function process_etl at 0x7f0cb00dc5f0> START\n"
          ],
          "name": "stderr"
        },
        {
          "output_type": "stream",
          "text": [
            "\u001b[37m [Mon, 19 Apr 2021 01:35:30] DEBUG [log.py.log_decorator_wrapper:38] <function prepare_data_time at 0x7f0cb00ff5f0> START\u001b[0m\n"
          ],
          "name": "stdout"
        },
        {
          "output_type": "stream",
          "text": [
            "DEBUG:ETL:<function prepare_data_time at 0x7f0cb00ff5f0> START\n"
          ],
          "name": "stderr"
        },
        {
          "output_type": "stream",
          "text": [
            "\u001b[37m [Mon, 19 Apr 2021 01:35:31] DEBUG [log.py.log_decorator_wrapper:41] <function prepare_data_time at 0x7f0cb00ff5f0> END\u001b[0m\n"
          ],
          "name": "stdout"
        },
        {
          "output_type": "stream",
          "text": [
            "DEBUG:ETL:<function prepare_data_time at 0x7f0cb00ff5f0> END\n"
          ],
          "name": "stderr"
        },
        {
          "output_type": "stream",
          "text": [
            "\u001b[32m [Mon, 19 Apr 2021 01:35:31] INFO [etl_step.py.process_etl:38] Filter dates: 2020-10-17 00:00:00 - 2020-10-17 23:59:59\u001b[0m\n"
          ],
          "name": "stdout"
        },
        {
          "output_type": "stream",
          "text": [
            "INFO:ETL:Filter dates: 2020-10-17 00:00:00 - 2020-10-17 23:59:59\n"
          ],
          "name": "stderr"
        },
        {
          "output_type": "stream",
          "text": [
            "\u001b[37m [Mon, 19 Apr 2021 01:35:31] DEBUG [log.py.log_decorator_wrapper:38] <function process_meteo_dataframe at 0x7f0cb001ed40> START\u001b[0m\n"
          ],
          "name": "stdout"
        },
        {
          "output_type": "stream",
          "text": [
            "DEBUG:ETL:<function process_meteo_dataframe at 0x7f0cb001ed40> START\n"
          ],
          "name": "stderr"
        },
        {
          "output_type": "stream",
          "text": [
            "\u001b[37m [Mon, 19 Apr 2021 01:35:31] DEBUG [log.py.log_decorator_wrapper:41] <function process_meteo_dataframe at 0x7f0cb001ed40> END\u001b[0m\n"
          ],
          "name": "stdout"
        },
        {
          "output_type": "stream",
          "text": [
            "DEBUG:ETL:<function process_meteo_dataframe at 0x7f0cb001ed40> END\n"
          ],
          "name": "stderr"
        },
        {
          "output_type": "stream",
          "text": [
            "\u001b[37m [Mon, 19 Apr 2021 01:35:31] DEBUG [etl.py.fill_dataframe_by_ut:105] In: 2020-10-17 \u001b[0m\n"
          ],
          "name": "stdout"
        },
        {
          "output_type": "stream",
          "text": [
            "DEBUG:ETL:In: 2020-10-17 \n"
          ],
          "name": "stderr"
        },
        {
          "output_type": "stream",
          "text": [
            "\u001b[37m [Mon, 19 Apr 2021 01:35:32] DEBUG [etl.py.fill_dataframe_by_ut:116] Out: 2020-10-17 \u001b[0m\n"
          ],
          "name": "stdout"
        },
        {
          "output_type": "stream",
          "text": [
            "DEBUG:ETL:Out: 2020-10-17 \n"
          ],
          "name": "stderr"
        },
        {
          "output_type": "stream",
          "text": [
            "\u001b[37m [Mon, 19 Apr 2021 01:35:32] DEBUG [log.py.log_decorator_wrapper:38] <function generate_new_columns_from_gps_data at 0x7f0cb001ee60> START\u001b[0m\n"
          ],
          "name": "stdout"
        },
        {
          "output_type": "stream",
          "text": [
            "DEBUG:ETL:<function generate_new_columns_from_gps_data at 0x7f0cb001ee60> START\n"
          ],
          "name": "stderr"
        },
        {
          "output_type": "stream",
          "text": [
            "\u001b[37m [Mon, 19 Apr 2021 01:35:45] DEBUG [etl.py.fill_dataframe_by_ut:105] In: 2020-10-17 \u001b[0m\n"
          ],
          "name": "stdout"
        },
        {
          "output_type": "stream",
          "text": [
            "DEBUG:ETL:In: 2020-10-17 \n"
          ],
          "name": "stderr"
        },
        {
          "output_type": "stream",
          "text": [
            "\u001b[37m [Mon, 19 Apr 2021 01:35:46] DEBUG [etl.py.fill_dataframe_by_ut:116] Out: 2020-10-17 \u001b[0m\n"
          ],
          "name": "stdout"
        },
        {
          "output_type": "stream",
          "text": [
            "DEBUG:ETL:Out: 2020-10-17 \n"
          ],
          "name": "stderr"
        },
        {
          "output_type": "stream",
          "text": [
            "\u001b[37m [Mon, 19 Apr 2021 01:37:15] DEBUG [log.py.log_decorator_wrapper:41] <function generate_new_columns_from_gps_data at 0x7f0cb001ee60> END\u001b[0m\n"
          ],
          "name": "stdout"
        },
        {
          "output_type": "stream",
          "text": [
            "DEBUG:ETL:<function generate_new_columns_from_gps_data at 0x7f0cb001ee60> END\n"
          ],
          "name": "stderr"
        },
        {
          "output_type": "stream",
          "text": [
            "\u001b[37m [Mon, 19 Apr 2021 01:37:15] DEBUG [log.py.log_decorator_wrapper:38] <function merge_with_meteo at 0x7f0cb001ef80> START\u001b[0m\n"
          ],
          "name": "stdout"
        },
        {
          "output_type": "stream",
          "text": [
            "DEBUG:ETL:<function merge_with_meteo at 0x7f0cb001ef80> START\n"
          ],
          "name": "stderr"
        },
        {
          "output_type": "stream",
          "text": [
            "\u001b[37m [Mon, 19 Apr 2021 01:37:15] DEBUG [log.py.log_decorator_wrapper:41] <function merge_with_meteo at 0x7f0cb001ef80> END\u001b[0m\n"
          ],
          "name": "stdout"
        },
        {
          "output_type": "stream",
          "text": [
            "DEBUG:ETL:<function merge_with_meteo at 0x7f0cb001ef80> END\n"
          ],
          "name": "stderr"
        },
        {
          "output_type": "stream",
          "text": [
            "\u001b[37m [Mon, 19 Apr 2021 01:37:15] DEBUG [log.py.log_decorator_wrapper:38] <function create_index_ts_date at 0x7f0cb00220e0> START\u001b[0m\n"
          ],
          "name": "stdout"
        },
        {
          "output_type": "stream",
          "text": [
            "DEBUG:ETL:<function create_index_ts_date at 0x7f0cb00220e0> START\n"
          ],
          "name": "stderr"
        },
        {
          "output_type": "stream",
          "text": [
            "\u001b[37m [Mon, 19 Apr 2021 01:37:15] DEBUG [log.py.log_decorator_wrapper:41] <function create_index_ts_date at 0x7f0cb00220e0> END\u001b[0m\n"
          ],
          "name": "stdout"
        },
        {
          "output_type": "stream",
          "text": [
            "DEBUG:ETL:<function create_index_ts_date at 0x7f0cb00220e0> END\n"
          ],
          "name": "stderr"
        },
        {
          "output_type": "stream",
          "text": [
            "\u001b[37m [Mon, 19 Apr 2021 01:37:15] DEBUG [log.py.log_decorator_wrapper:38] <function generate_auxiliar_columns at 0x7f0cb0022200> START\u001b[0m\n"
          ],
          "name": "stdout"
        },
        {
          "output_type": "stream",
          "text": [
            "DEBUG:ETL:<function generate_auxiliar_columns at 0x7f0cb0022200> START\n"
          ],
          "name": "stderr"
        },
        {
          "output_type": "stream",
          "text": [
            "\u001b[37m [Mon, 19 Apr 2021 01:38:23] DEBUG [etl.py.fill_dataframe_by_ut:105] In: 2020-10-17 \u001b[0m\n"
          ],
          "name": "stdout"
        },
        {
          "output_type": "stream",
          "text": [
            "DEBUG:ETL:In: 2020-10-17 \n"
          ],
          "name": "stderr"
        },
        {
          "output_type": "stream",
          "text": [
            "\u001b[37m [Mon, 19 Apr 2021 01:38:25] DEBUG [etl.py.fill_dataframe_by_ut:116] Out: 2020-10-17 \u001b[0m\n"
          ],
          "name": "stdout"
        },
        {
          "output_type": "stream",
          "text": [
            "DEBUG:ETL:Out: 2020-10-17 \n"
          ],
          "name": "stderr"
        },
        {
          "output_type": "stream",
          "text": [
            "\u001b[37m [Mon, 19 Apr 2021 01:39:52] DEBUG [log.py.log_decorator_wrapper:41] <function generate_auxiliar_columns at 0x7f0cb0022200> END\u001b[0m\n"
          ],
          "name": "stdout"
        },
        {
          "output_type": "stream",
          "text": [
            "DEBUG:ETL:<function generate_auxiliar_columns at 0x7f0cb0022200> END\n"
          ],
          "name": "stderr"
        },
        {
          "output_type": "stream",
          "text": [
            "\u001b[37m [Mon, 19 Apr 2021 01:39:57] DEBUG [log.py.log_decorator_wrapper:38] <function create_categorical at 0x7f0cb0022560> START\u001b[0m\n"
          ],
          "name": "stdout"
        },
        {
          "output_type": "stream",
          "text": [
            "DEBUG:ETL:<function create_categorical at 0x7f0cb0022560> START\n"
          ],
          "name": "stderr"
        },
        {
          "output_type": "stream",
          "text": [
            "\u001b[37m [Mon, 19 Apr 2021 01:39:58] DEBUG [log.py.log_decorator_wrapper:41] <function create_categorical at 0x7f0cb0022560> END\u001b[0m\n"
          ],
          "name": "stdout"
        },
        {
          "output_type": "stream",
          "text": [
            "DEBUG:ETL:<function create_categorical at 0x7f0cb0022560> END\n"
          ],
          "name": "stderr"
        },
        {
          "output_type": "stream",
          "text": [
            "\u001b[37m [Mon, 19 Apr 2021 01:39:58] DEBUG [etl.py.fill_dataframe_by_ut:105] In: 2020-10-17 \u001b[0m\n"
          ],
          "name": "stdout"
        },
        {
          "output_type": "stream",
          "text": [
            "DEBUG:ETL:In: 2020-10-17 \n"
          ],
          "name": "stderr"
        },
        {
          "output_type": "stream",
          "text": [
            "\u001b[37m [Mon, 19 Apr 2021 01:40:00] DEBUG [etl.py.fill_dataframe_by_ut:116] Out: 2020-10-17 \u001b[0m\n"
          ],
          "name": "stdout"
        },
        {
          "output_type": "stream",
          "text": [
            "DEBUG:ETL:Out: 2020-10-17 \n"
          ],
          "name": "stderr"
        },
        {
          "output_type": "stream",
          "text": [
            "\u001b[37m [Mon, 19 Apr 2021 01:40:13] DEBUG [log.py.log_decorator_wrapper:41] <function process_etl at 0x7f0cb00dc5f0> END\u001b[0m\n"
          ],
          "name": "stdout"
        },
        {
          "output_type": "stream",
          "text": [
            "DEBUG:ETL:<function process_etl at 0x7f0cb00dc5f0> END\n"
          ],
          "name": "stderr"
        },
        {
          "output_type": "stream",
          "text": [
            "cafcodingdatos/raw/date=2020-10-18/part-00002-tid-4502735041458916000-1def1e63-76d9-4841-bd06-f798a2422800-4291-2.c000.snappy.parquet\n",
            "cafcodingdatos/raw/date=2020-10-18/part-00020-tid-4502735041458916000-1def1e63-76d9-4841-bd06-f798a2422800-4247-5.c000.snappy.parquet\n",
            "cafcodingdatos/raw/date=2020-10-18/part-00021-tid-4502735041458916000-1def1e63-76d9-4841-bd06-f798a2422800-4278-1.c000.snappy.parquet\n",
            "cafcodingdatos/raw/date=2020-10-18/part-00037-tid-4502735041458916000-1def1e63-76d9-4841-bd06-f798a2422800-4123-7.c000.snappy.parquet\n",
            "cafcodingdatos/raw/date=2020-10-18/part-00057-tid-4502735041458916000-1def1e63-76d9-4841-bd06-f798a2422800-4182-5.c000.snappy.parquet\n",
            "cafcodingdatos/raw/date=2020-10-18/part-00076-tid-4502735041458916000-1def1e63-76d9-4841-bd06-f798a2422800-4283-4.c000.snappy.parquet\n",
            "cafcodingdatos/raw/date=2020-10-18/part-00077-tid-4502735041458916000-1def1e63-76d9-4841-bd06-f798a2422800-4246-1.c000.snappy.parquet\n",
            "cafcodingdatos/raw/date=2020-10-18/part-00094-tid-4502735041458916000-1def1e63-76d9-4841-bd06-f798a2422800-4141-3.c000.snappy.parquet\n",
            "cafcodingdatos/raw/date=2020-10-18/part-00124-tid-4502735041458916000-1def1e63-76d9-4841-bd06-f798a2422800-4282-4.c000.snappy.parquet\n",
            "cafcodingdatos/raw/date=2020-10-18/part-00166-tid-4502735041458916000-1def1e63-76d9-4841-bd06-f798a2422800-4227-2.c000.snappy.parquet\n",
            "\u001b[37m [Mon, 19 Apr 2021 01:42:02] DEBUG [log.py.log_decorator_wrapper:38] <function process_etl at 0x7f0cb00dc5f0> START\u001b[0m\n"
          ],
          "name": "stdout"
        },
        {
          "output_type": "stream",
          "text": [
            "DEBUG:ETL:<function process_etl at 0x7f0cb00dc5f0> START\n"
          ],
          "name": "stderr"
        },
        {
          "output_type": "stream",
          "text": [
            "\u001b[37m [Mon, 19 Apr 2021 01:42:02] DEBUG [log.py.log_decorator_wrapper:38] <function prepare_data_time at 0x7f0cb00ff5f0> START\u001b[0m\n"
          ],
          "name": "stdout"
        },
        {
          "output_type": "stream",
          "text": [
            "DEBUG:ETL:<function prepare_data_time at 0x7f0cb00ff5f0> START\n"
          ],
          "name": "stderr"
        },
        {
          "output_type": "stream",
          "text": [
            "\u001b[37m [Mon, 19 Apr 2021 01:42:02] DEBUG [log.py.log_decorator_wrapper:41] <function prepare_data_time at 0x7f0cb00ff5f0> END\u001b[0m\n"
          ],
          "name": "stdout"
        },
        {
          "output_type": "stream",
          "text": [
            "DEBUG:ETL:<function prepare_data_time at 0x7f0cb00ff5f0> END\n"
          ],
          "name": "stderr"
        },
        {
          "output_type": "stream",
          "text": [
            "\u001b[32m [Mon, 19 Apr 2021 01:42:02] INFO [etl_step.py.process_etl:38] Filter dates: 2020-10-18 00:00:00 - 2020-10-18 23:59:59\u001b[0m\n"
          ],
          "name": "stdout"
        },
        {
          "output_type": "stream",
          "text": [
            "INFO:ETL:Filter dates: 2020-10-18 00:00:00 - 2020-10-18 23:59:59\n"
          ],
          "name": "stderr"
        },
        {
          "output_type": "stream",
          "text": [
            "\u001b[37m [Mon, 19 Apr 2021 01:42:02] DEBUG [log.py.log_decorator_wrapper:38] <function process_meteo_dataframe at 0x7f0cb001ed40> START\u001b[0m\n"
          ],
          "name": "stdout"
        },
        {
          "output_type": "stream",
          "text": [
            "DEBUG:ETL:<function process_meteo_dataframe at 0x7f0cb001ed40> START\n"
          ],
          "name": "stderr"
        },
        {
          "output_type": "stream",
          "text": [
            "\u001b[37m [Mon, 19 Apr 2021 01:42:02] DEBUG [log.py.log_decorator_wrapper:41] <function process_meteo_dataframe at 0x7f0cb001ed40> END\u001b[0m\n"
          ],
          "name": "stdout"
        },
        {
          "output_type": "stream",
          "text": [
            "DEBUG:ETL:<function process_meteo_dataframe at 0x7f0cb001ed40> END\n"
          ],
          "name": "stderr"
        },
        {
          "output_type": "stream",
          "text": [
            "\u001b[37m [Mon, 19 Apr 2021 01:42:02] DEBUG [etl.py.fill_dataframe_by_ut:105] In: 2020-10-18 \u001b[0m\n"
          ],
          "name": "stdout"
        },
        {
          "output_type": "stream",
          "text": [
            "DEBUG:ETL:In: 2020-10-18 \n"
          ],
          "name": "stderr"
        },
        {
          "output_type": "stream",
          "text": [
            "\u001b[37m [Mon, 19 Apr 2021 01:42:03] DEBUG [etl.py.fill_dataframe_by_ut:116] Out: 2020-10-18 \u001b[0m\n"
          ],
          "name": "stdout"
        },
        {
          "output_type": "stream",
          "text": [
            "DEBUG:ETL:Out: 2020-10-18 \n"
          ],
          "name": "stderr"
        },
        {
          "output_type": "stream",
          "text": [
            "\u001b[37m [Mon, 19 Apr 2021 01:42:04] DEBUG [log.py.log_decorator_wrapper:38] <function generate_new_columns_from_gps_data at 0x7f0cb001ee60> START\u001b[0m\n"
          ],
          "name": "stdout"
        },
        {
          "output_type": "stream",
          "text": [
            "DEBUG:ETL:<function generate_new_columns_from_gps_data at 0x7f0cb001ee60> START\n"
          ],
          "name": "stderr"
        },
        {
          "output_type": "stream",
          "text": [
            "\u001b[37m [Mon, 19 Apr 2021 01:42:19] DEBUG [etl.py.fill_dataframe_by_ut:105] In: 2020-10-18 \u001b[0m\n"
          ],
          "name": "stdout"
        },
        {
          "output_type": "stream",
          "text": [
            "DEBUG:ETL:In: 2020-10-18 \n"
          ],
          "name": "stderr"
        },
        {
          "output_type": "stream",
          "text": [
            "\u001b[37m [Mon, 19 Apr 2021 01:42:20] DEBUG [etl.py.fill_dataframe_by_ut:116] Out: 2020-10-18 \u001b[0m\n"
          ],
          "name": "stdout"
        },
        {
          "output_type": "stream",
          "text": [
            "DEBUG:ETL:Out: 2020-10-18 \n"
          ],
          "name": "stderr"
        },
        {
          "output_type": "stream",
          "text": [
            "\u001b[37m [Mon, 19 Apr 2021 01:43:58] DEBUG [log.py.log_decorator_wrapper:41] <function generate_new_columns_from_gps_data at 0x7f0cb001ee60> END\u001b[0m\n"
          ],
          "name": "stdout"
        },
        {
          "output_type": "stream",
          "text": [
            "DEBUG:ETL:<function generate_new_columns_from_gps_data at 0x7f0cb001ee60> END\n"
          ],
          "name": "stderr"
        },
        {
          "output_type": "stream",
          "text": [
            "\u001b[37m [Mon, 19 Apr 2021 01:43:58] DEBUG [log.py.log_decorator_wrapper:38] <function merge_with_meteo at 0x7f0cb001ef80> START\u001b[0m\n"
          ],
          "name": "stdout"
        },
        {
          "output_type": "stream",
          "text": [
            "DEBUG:ETL:<function merge_with_meteo at 0x7f0cb001ef80> START\n"
          ],
          "name": "stderr"
        },
        {
          "output_type": "stream",
          "text": [
            "\u001b[37m [Mon, 19 Apr 2021 01:43:58] DEBUG [log.py.log_decorator_wrapper:41] <function merge_with_meteo at 0x7f0cb001ef80> END\u001b[0m\n"
          ],
          "name": "stdout"
        },
        {
          "output_type": "stream",
          "text": [
            "DEBUG:ETL:<function merge_with_meteo at 0x7f0cb001ef80> END\n"
          ],
          "name": "stderr"
        },
        {
          "output_type": "stream",
          "text": [
            "\u001b[37m [Mon, 19 Apr 2021 01:43:58] DEBUG [log.py.log_decorator_wrapper:38] <function create_index_ts_date at 0x7f0cb00220e0> START\u001b[0m\n"
          ],
          "name": "stdout"
        },
        {
          "output_type": "stream",
          "text": [
            "DEBUG:ETL:<function create_index_ts_date at 0x7f0cb00220e0> START\n"
          ],
          "name": "stderr"
        },
        {
          "output_type": "stream",
          "text": [
            "\u001b[37m [Mon, 19 Apr 2021 01:43:58] DEBUG [log.py.log_decorator_wrapper:41] <function create_index_ts_date at 0x7f0cb00220e0> END\u001b[0m\n"
          ],
          "name": "stdout"
        },
        {
          "output_type": "stream",
          "text": [
            "DEBUG:ETL:<function create_index_ts_date at 0x7f0cb00220e0> END\n"
          ],
          "name": "stderr"
        },
        {
          "output_type": "stream",
          "text": [
            "\u001b[37m [Mon, 19 Apr 2021 01:43:58] DEBUG [log.py.log_decorator_wrapper:38] <function generate_auxiliar_columns at 0x7f0cb0022200> START\u001b[0m\n"
          ],
          "name": "stdout"
        },
        {
          "output_type": "stream",
          "text": [
            "DEBUG:ETL:<function generate_auxiliar_columns at 0x7f0cb0022200> START\n"
          ],
          "name": "stderr"
        },
        {
          "output_type": "stream",
          "text": [
            "\u001b[37m [Mon, 19 Apr 2021 01:45:12] DEBUG [etl.py.fill_dataframe_by_ut:105] In: 2020-10-18 \u001b[0m\n"
          ],
          "name": "stdout"
        },
        {
          "output_type": "stream",
          "text": [
            "DEBUG:ETL:In: 2020-10-18 \n"
          ],
          "name": "stderr"
        },
        {
          "output_type": "stream",
          "text": [
            "\u001b[37m [Mon, 19 Apr 2021 01:45:14] DEBUG [etl.py.fill_dataframe_by_ut:116] Out: 2020-10-18 \u001b[0m\n"
          ],
          "name": "stdout"
        },
        {
          "output_type": "stream",
          "text": [
            "DEBUG:ETL:Out: 2020-10-18 \n"
          ],
          "name": "stderr"
        },
        {
          "output_type": "stream",
          "text": [
            "\u001b[37m [Mon, 19 Apr 2021 01:46:41] DEBUG [log.py.log_decorator_wrapper:41] <function generate_auxiliar_columns at 0x7f0cb0022200> END\u001b[0m\n"
          ],
          "name": "stdout"
        },
        {
          "output_type": "stream",
          "text": [
            "DEBUG:ETL:<function generate_auxiliar_columns at 0x7f0cb0022200> END\n"
          ],
          "name": "stderr"
        },
        {
          "output_type": "stream",
          "text": [
            "\u001b[37m [Mon, 19 Apr 2021 01:46:47] DEBUG [log.py.log_decorator_wrapper:38] <function create_categorical at 0x7f0cb0022560> START\u001b[0m\n"
          ],
          "name": "stdout"
        },
        {
          "output_type": "stream",
          "text": [
            "DEBUG:ETL:<function create_categorical at 0x7f0cb0022560> START\n"
          ],
          "name": "stderr"
        },
        {
          "output_type": "stream",
          "text": [
            "\u001b[37m [Mon, 19 Apr 2021 01:46:48] DEBUG [log.py.log_decorator_wrapper:41] <function create_categorical at 0x7f0cb0022560> END\u001b[0m\n"
          ],
          "name": "stdout"
        },
        {
          "output_type": "stream",
          "text": [
            "DEBUG:ETL:<function create_categorical at 0x7f0cb0022560> END\n"
          ],
          "name": "stderr"
        },
        {
          "output_type": "stream",
          "text": [
            "\u001b[37m [Mon, 19 Apr 2021 01:46:48] DEBUG [etl.py.fill_dataframe_by_ut:105] In: 2020-10-18 \u001b[0m\n"
          ],
          "name": "stdout"
        },
        {
          "output_type": "stream",
          "text": [
            "DEBUG:ETL:In: 2020-10-18 \n"
          ],
          "name": "stderr"
        },
        {
          "output_type": "stream",
          "text": [
            "\u001b[37m [Mon, 19 Apr 2021 01:46:50] DEBUG [etl.py.fill_dataframe_by_ut:116] Out: 2020-10-18 \u001b[0m\n"
          ],
          "name": "stdout"
        },
        {
          "output_type": "stream",
          "text": [
            "DEBUG:ETL:Out: 2020-10-18 \n"
          ],
          "name": "stderr"
        },
        {
          "output_type": "stream",
          "text": [
            "\u001b[37m [Mon, 19 Apr 2021 01:47:03] DEBUG [log.py.log_decorator_wrapper:41] <function process_etl at 0x7f0cb00dc5f0> END\u001b[0m\n"
          ],
          "name": "stdout"
        },
        {
          "output_type": "stream",
          "text": [
            "DEBUG:ETL:<function process_etl at 0x7f0cb00dc5f0> END\n"
          ],
          "name": "stderr"
        },
        {
          "output_type": "stream",
          "text": [
            "cafcodingdatos/raw/date=2020-10-19/part-00002-tid-4502735041458916000-1def1e63-76d9-4841-bd06-f798a2422800-4291-3.c000.snappy.parquet\n",
            "cafcodingdatos/raw/date=2020-10-19/part-00021-tid-4502735041458916000-1def1e63-76d9-4841-bd06-f798a2422800-4278-2.c000.snappy.parquet\n",
            "cafcodingdatos/raw/date=2020-10-19/part-00037-tid-4502735041458916000-1def1e63-76d9-4841-bd06-f798a2422800-4123-8.c000.snappy.parquet\n",
            "cafcodingdatos/raw/date=2020-10-19/part-00057-tid-4502735041458916000-1def1e63-76d9-4841-bd06-f798a2422800-4182-6.c000.snappy.parquet\n",
            "cafcodingdatos/raw/date=2020-10-19/part-00058-tid-4502735041458916000-1def1e63-76d9-4841-bd06-f798a2422800-4220-1.c000.snappy.parquet\n",
            "cafcodingdatos/raw/date=2020-10-19/part-00077-tid-4502735041458916000-1def1e63-76d9-4841-bd06-f798a2422800-4246-2.c000.snappy.parquet\n",
            "cafcodingdatos/raw/date=2020-10-19/part-00094-tid-4502735041458916000-1def1e63-76d9-4841-bd06-f798a2422800-4141-4.c000.snappy.parquet\n",
            "cafcodingdatos/raw/date=2020-10-19/part-00110-tid-4502735041458916000-1def1e63-76d9-4841-bd06-f798a2422800-4172-4.c000.snappy.parquet\n",
            "cafcodingdatos/raw/date=2020-10-19/part-00124-tid-4502735041458916000-1def1e63-76d9-4841-bd06-f798a2422800-4282-5.c000.snappy.parquet\n",
            "cafcodingdatos/raw/date=2020-10-19/part-00125-tid-4502735041458916000-1def1e63-76d9-4841-bd06-f798a2422800-4203-1.c000.snappy.parquet\n",
            "cafcodingdatos/raw/date=2020-10-19/part-00145-tid-4502735041458916000-1def1e63-76d9-4841-bd06-f798a2422800-4170-3.c000.snappy.parquet\n",
            "cafcodingdatos/raw/date=2020-10-19/part-00166-tid-4502735041458916000-1def1e63-76d9-4841-bd06-f798a2422800-4227-3.c000.snappy.parquet\n",
            "\u001b[37m [Mon, 19 Apr 2021 01:49:03] DEBUG [log.py.log_decorator_wrapper:38] <function process_etl at 0x7f0cb00dc5f0> START\u001b[0m\n"
          ],
          "name": "stdout"
        },
        {
          "output_type": "stream",
          "text": [
            "DEBUG:ETL:<function process_etl at 0x7f0cb00dc5f0> START\n"
          ],
          "name": "stderr"
        },
        {
          "output_type": "stream",
          "text": [
            "\u001b[37m [Mon, 19 Apr 2021 01:49:03] DEBUG [log.py.log_decorator_wrapper:38] <function prepare_data_time at 0x7f0cb00ff5f0> START\u001b[0m\n"
          ],
          "name": "stdout"
        },
        {
          "output_type": "stream",
          "text": [
            "DEBUG:ETL:<function prepare_data_time at 0x7f0cb00ff5f0> START\n"
          ],
          "name": "stderr"
        },
        {
          "output_type": "stream",
          "text": [
            "\u001b[37m [Mon, 19 Apr 2021 01:49:03] DEBUG [log.py.log_decorator_wrapper:41] <function prepare_data_time at 0x7f0cb00ff5f0> END\u001b[0m\n"
          ],
          "name": "stdout"
        },
        {
          "output_type": "stream",
          "text": [
            "DEBUG:ETL:<function prepare_data_time at 0x7f0cb00ff5f0> END\n"
          ],
          "name": "stderr"
        },
        {
          "output_type": "stream",
          "text": [
            "\u001b[32m [Mon, 19 Apr 2021 01:49:03] INFO [etl_step.py.process_etl:38] Filter dates: 2020-10-19 00:00:00 - 2020-10-19 23:59:59\u001b[0m\n"
          ],
          "name": "stdout"
        },
        {
          "output_type": "stream",
          "text": [
            "INFO:ETL:Filter dates: 2020-10-19 00:00:00 - 2020-10-19 23:59:59\n"
          ],
          "name": "stderr"
        },
        {
          "output_type": "stream",
          "text": [
            "\u001b[37m [Mon, 19 Apr 2021 01:49:03] DEBUG [log.py.log_decorator_wrapper:38] <function process_meteo_dataframe at 0x7f0cb001ed40> START\u001b[0m\n"
          ],
          "name": "stdout"
        },
        {
          "output_type": "stream",
          "text": [
            "DEBUG:ETL:<function process_meteo_dataframe at 0x7f0cb001ed40> START\n"
          ],
          "name": "stderr"
        },
        {
          "output_type": "stream",
          "text": [
            "\u001b[37m [Mon, 19 Apr 2021 01:49:03] DEBUG [log.py.log_decorator_wrapper:41] <function process_meteo_dataframe at 0x7f0cb001ed40> END\u001b[0m\n"
          ],
          "name": "stdout"
        },
        {
          "output_type": "stream",
          "text": [
            "DEBUG:ETL:<function process_meteo_dataframe at 0x7f0cb001ed40> END\n"
          ],
          "name": "stderr"
        },
        {
          "output_type": "stream",
          "text": [
            "\u001b[37m [Mon, 19 Apr 2021 01:49:04] DEBUG [etl.py.fill_dataframe_by_ut:105] In: 2020-10-19 \u001b[0m\n"
          ],
          "name": "stdout"
        },
        {
          "output_type": "stream",
          "text": [
            "DEBUG:ETL:In: 2020-10-19 \n"
          ],
          "name": "stderr"
        },
        {
          "output_type": "stream",
          "text": [
            "\u001b[37m [Mon, 19 Apr 2021 01:49:05] DEBUG [etl.py.fill_dataframe_by_ut:116] Out: 2020-10-19 \u001b[0m\n"
          ],
          "name": "stdout"
        },
        {
          "output_type": "stream",
          "text": [
            "DEBUG:ETL:Out: 2020-10-19 \n"
          ],
          "name": "stderr"
        },
        {
          "output_type": "stream",
          "text": [
            "\u001b[37m [Mon, 19 Apr 2021 01:49:05] DEBUG [log.py.log_decorator_wrapper:38] <function generate_new_columns_from_gps_data at 0x7f0cb001ee60> START\u001b[0m\n"
          ],
          "name": "stdout"
        },
        {
          "output_type": "stream",
          "text": [
            "DEBUG:ETL:<function generate_new_columns_from_gps_data at 0x7f0cb001ee60> START\n"
          ],
          "name": "stderr"
        },
        {
          "output_type": "stream",
          "text": [
            "\u001b[37m [Mon, 19 Apr 2021 01:49:26] DEBUG [etl.py.fill_dataframe_by_ut:105] In: 2020-10-19 \u001b[0m\n"
          ],
          "name": "stdout"
        },
        {
          "output_type": "stream",
          "text": [
            "DEBUG:ETL:In: 2020-10-19 \n"
          ],
          "name": "stderr"
        },
        {
          "output_type": "stream",
          "text": [
            "\u001b[37m [Mon, 19 Apr 2021 01:49:28] DEBUG [etl.py.fill_dataframe_by_ut:116] Out: 2020-10-19 \u001b[0m\n"
          ],
          "name": "stdout"
        },
        {
          "output_type": "stream",
          "text": [
            "DEBUG:ETL:Out: 2020-10-19 \n"
          ],
          "name": "stderr"
        },
        {
          "output_type": "stream",
          "text": [
            "\u001b[37m [Mon, 19 Apr 2021 01:51:43] DEBUG [log.py.log_decorator_wrapper:41] <function generate_new_columns_from_gps_data at 0x7f0cb001ee60> END\u001b[0m\n"
          ],
          "name": "stdout"
        },
        {
          "output_type": "stream",
          "text": [
            "DEBUG:ETL:<function generate_new_columns_from_gps_data at 0x7f0cb001ee60> END\n"
          ],
          "name": "stderr"
        },
        {
          "output_type": "stream",
          "text": [
            "\u001b[37m [Mon, 19 Apr 2021 01:51:43] DEBUG [log.py.log_decorator_wrapper:38] <function merge_with_meteo at 0x7f0cb001ef80> START\u001b[0m\n"
          ],
          "name": "stdout"
        },
        {
          "output_type": "stream",
          "text": [
            "DEBUG:ETL:<function merge_with_meteo at 0x7f0cb001ef80> START\n"
          ],
          "name": "stderr"
        },
        {
          "output_type": "stream",
          "text": [
            "\u001b[37m [Mon, 19 Apr 2021 01:51:43] DEBUG [log.py.log_decorator_wrapper:41] <function merge_with_meteo at 0x7f0cb001ef80> END\u001b[0m\n"
          ],
          "name": "stdout"
        },
        {
          "output_type": "stream",
          "text": [
            "DEBUG:ETL:<function merge_with_meteo at 0x7f0cb001ef80> END\n"
          ],
          "name": "stderr"
        },
        {
          "output_type": "stream",
          "text": [
            "\u001b[37m [Mon, 19 Apr 2021 01:51:43] DEBUG [log.py.log_decorator_wrapper:38] <function create_index_ts_date at 0x7f0cb00220e0> START\u001b[0m\n"
          ],
          "name": "stdout"
        },
        {
          "output_type": "stream",
          "text": [
            "DEBUG:ETL:<function create_index_ts_date at 0x7f0cb00220e0> START\n"
          ],
          "name": "stderr"
        },
        {
          "output_type": "stream",
          "text": [
            "\u001b[37m [Mon, 19 Apr 2021 01:51:44] DEBUG [log.py.log_decorator_wrapper:41] <function create_index_ts_date at 0x7f0cb00220e0> END\u001b[0m\n"
          ],
          "name": "stdout"
        },
        {
          "output_type": "stream",
          "text": [
            "DEBUG:ETL:<function create_index_ts_date at 0x7f0cb00220e0> END\n"
          ],
          "name": "stderr"
        },
        {
          "output_type": "stream",
          "text": [
            "\u001b[37m [Mon, 19 Apr 2021 01:51:44] DEBUG [log.py.log_decorator_wrapper:38] <function generate_auxiliar_columns at 0x7f0cb0022200> START\u001b[0m\n"
          ],
          "name": "stdout"
        },
        {
          "output_type": "stream",
          "text": [
            "DEBUG:ETL:<function generate_auxiliar_columns at 0x7f0cb0022200> START\n"
          ],
          "name": "stderr"
        },
        {
          "output_type": "stream",
          "text": [
            "\u001b[37m [Mon, 19 Apr 2021 01:53:29] DEBUG [etl.py.fill_dataframe_by_ut:105] In: 2020-10-19 \u001b[0m\n"
          ],
          "name": "stdout"
        },
        {
          "output_type": "stream",
          "text": [
            "DEBUG:ETL:In: 2020-10-19 \n"
          ],
          "name": "stderr"
        },
        {
          "output_type": "stream",
          "text": [
            "\u001b[37m [Mon, 19 Apr 2021 01:53:32] DEBUG [etl.py.fill_dataframe_by_ut:116] Out: 2020-10-19 \u001b[0m\n"
          ],
          "name": "stdout"
        },
        {
          "output_type": "stream",
          "text": [
            "DEBUG:ETL:Out: 2020-10-19 \n"
          ],
          "name": "stderr"
        },
        {
          "output_type": "stream",
          "text": [
            "\u001b[37m [Mon, 19 Apr 2021 01:55:33] DEBUG [log.py.log_decorator_wrapper:41] <function generate_auxiliar_columns at 0x7f0cb0022200> END\u001b[0m\n"
          ],
          "name": "stdout"
        },
        {
          "output_type": "stream",
          "text": [
            "DEBUG:ETL:<function generate_auxiliar_columns at 0x7f0cb0022200> END\n"
          ],
          "name": "stderr"
        },
        {
          "output_type": "stream",
          "text": [
            "\u001b[37m [Mon, 19 Apr 2021 01:55:40] DEBUG [log.py.log_decorator_wrapper:38] <function create_categorical at 0x7f0cb0022560> START\u001b[0m\n"
          ],
          "name": "stdout"
        },
        {
          "output_type": "stream",
          "text": [
            "DEBUG:ETL:<function create_categorical at 0x7f0cb0022560> START\n"
          ],
          "name": "stderr"
        },
        {
          "output_type": "stream",
          "text": [
            "\u001b[37m [Mon, 19 Apr 2021 01:55:42] DEBUG [log.py.log_decorator_wrapper:41] <function create_categorical at 0x7f0cb0022560> END\u001b[0m\n"
          ],
          "name": "stdout"
        },
        {
          "output_type": "stream",
          "text": [
            "DEBUG:ETL:<function create_categorical at 0x7f0cb0022560> END\n"
          ],
          "name": "stderr"
        },
        {
          "output_type": "stream",
          "text": [
            "\u001b[37m [Mon, 19 Apr 2021 01:55:42] DEBUG [etl.py.fill_dataframe_by_ut:105] In: 2020-10-19 \u001b[0m\n"
          ],
          "name": "stdout"
        },
        {
          "output_type": "stream",
          "text": [
            "DEBUG:ETL:In: 2020-10-19 \n"
          ],
          "name": "stderr"
        },
        {
          "output_type": "stream",
          "text": [
            "\u001b[37m [Mon, 19 Apr 2021 01:55:44] DEBUG [etl.py.fill_dataframe_by_ut:116] Out: 2020-10-19 \u001b[0m\n"
          ],
          "name": "stdout"
        },
        {
          "output_type": "stream",
          "text": [
            "DEBUG:ETL:Out: 2020-10-19 \n"
          ],
          "name": "stderr"
        },
        {
          "output_type": "stream",
          "text": [
            "\u001b[37m [Mon, 19 Apr 2021 01:56:03] DEBUG [log.py.log_decorator_wrapper:41] <function process_etl at 0x7f0cb00dc5f0> END\u001b[0m\n"
          ],
          "name": "stdout"
        },
        {
          "output_type": "stream",
          "text": [
            "DEBUG:ETL:<function process_etl at 0x7f0cb00dc5f0> END\n"
          ],
          "name": "stderr"
        },
        {
          "output_type": "stream",
          "text": [
            "cafcodingdatos/raw/date=2020-10-20/part-00002-tid-4502735041458916000-1def1e63-76d9-4841-bd06-f798a2422800-4291-4.c000.snappy.parquet\n",
            "cafcodingdatos/raw/date=2020-10-20/part-00021-tid-4502735041458916000-1def1e63-76d9-4841-bd06-f798a2422800-4278-3.c000.snappy.parquet\n",
            "cafcodingdatos/raw/date=2020-10-20/part-00037-tid-4502735041458916000-1def1e63-76d9-4841-bd06-f798a2422800-4123-9.c000.snappy.parquet\n",
            "cafcodingdatos/raw/date=2020-10-20/part-00058-tid-4502735041458916000-1def1e63-76d9-4841-bd06-f798a2422800-4220-2.c000.snappy.parquet\n",
            "cafcodingdatos/raw/date=2020-10-20/part-00077-tid-4502735041458916000-1def1e63-76d9-4841-bd06-f798a2422800-4246-3.c000.snappy.parquet\n",
            "cafcodingdatos/raw/date=2020-10-20/part-00094-tid-4502735041458916000-1def1e63-76d9-4841-bd06-f798a2422800-4141-5.c000.snappy.parquet\n",
            "cafcodingdatos/raw/date=2020-10-20/part-00125-tid-4502735041458916000-1def1e63-76d9-4841-bd06-f798a2422800-4203-2.c000.snappy.parquet\n",
            "cafcodingdatos/raw/date=2020-10-20/part-00145-tid-4502735041458916000-1def1e63-76d9-4841-bd06-f798a2422800-4170-4.c000.snappy.parquet\n",
            "cafcodingdatos/raw/date=2020-10-20/part-00166-tid-4502735041458916000-1def1e63-76d9-4841-bd06-f798a2422800-4227-4.c000.snappy.parquet\n",
            "\u001b[37m [Mon, 19 Apr 2021 01:58:28] DEBUG [log.py.log_decorator_wrapper:38] <function process_etl at 0x7f0cb00dc5f0> START\u001b[0m\n"
          ],
          "name": "stdout"
        },
        {
          "output_type": "stream",
          "text": [
            "DEBUG:ETL:<function process_etl at 0x7f0cb00dc5f0> START\n"
          ],
          "name": "stderr"
        },
        {
          "output_type": "stream",
          "text": [
            "\u001b[37m [Mon, 19 Apr 2021 01:58:28] DEBUG [log.py.log_decorator_wrapper:38] <function prepare_data_time at 0x7f0cb00ff5f0> START\u001b[0m\n"
          ],
          "name": "stdout"
        },
        {
          "output_type": "stream",
          "text": [
            "DEBUG:ETL:<function prepare_data_time at 0x7f0cb00ff5f0> START\n"
          ],
          "name": "stderr"
        },
        {
          "output_type": "stream",
          "text": [
            "\u001b[37m [Mon, 19 Apr 2021 01:58:28] DEBUG [log.py.log_decorator_wrapper:41] <function prepare_data_time at 0x7f0cb00ff5f0> END\u001b[0m\n"
          ],
          "name": "stdout"
        },
        {
          "output_type": "stream",
          "text": [
            "DEBUG:ETL:<function prepare_data_time at 0x7f0cb00ff5f0> END\n"
          ],
          "name": "stderr"
        },
        {
          "output_type": "stream",
          "text": [
            "\u001b[32m [Mon, 19 Apr 2021 01:58:28] INFO [etl_step.py.process_etl:38] Filter dates: 2020-10-20 00:00:00 - 2020-10-20 23:59:59\u001b[0m\n"
          ],
          "name": "stdout"
        },
        {
          "output_type": "stream",
          "text": [
            "INFO:ETL:Filter dates: 2020-10-20 00:00:00 - 2020-10-20 23:59:59\n"
          ],
          "name": "stderr"
        },
        {
          "output_type": "stream",
          "text": [
            "\u001b[37m [Mon, 19 Apr 2021 01:58:28] DEBUG [log.py.log_decorator_wrapper:38] <function process_meteo_dataframe at 0x7f0cb001ed40> START\u001b[0m\n"
          ],
          "name": "stdout"
        },
        {
          "output_type": "stream",
          "text": [
            "DEBUG:ETL:<function process_meteo_dataframe at 0x7f0cb001ed40> START\n"
          ],
          "name": "stderr"
        },
        {
          "output_type": "stream",
          "text": [
            "\u001b[37m [Mon, 19 Apr 2021 01:58:28] DEBUG [log.py.log_decorator_wrapper:41] <function process_meteo_dataframe at 0x7f0cb001ed40> END\u001b[0m\n"
          ],
          "name": "stdout"
        },
        {
          "output_type": "stream",
          "text": [
            "DEBUG:ETL:<function process_meteo_dataframe at 0x7f0cb001ed40> END\n"
          ],
          "name": "stderr"
        },
        {
          "output_type": "stream",
          "text": [
            "\u001b[37m [Mon, 19 Apr 2021 01:58:29] DEBUG [etl.py.fill_dataframe_by_ut:105] In: 2020-10-20 \u001b[0m\n"
          ],
          "name": "stdout"
        },
        {
          "output_type": "stream",
          "text": [
            "DEBUG:ETL:In: 2020-10-20 \n"
          ],
          "name": "stderr"
        },
        {
          "output_type": "stream",
          "text": [
            "\u001b[37m [Mon, 19 Apr 2021 01:58:30] DEBUG [etl.py.fill_dataframe_by_ut:116] Out: 2020-10-20 \u001b[0m\n"
          ],
          "name": "stdout"
        },
        {
          "output_type": "stream",
          "text": [
            "DEBUG:ETL:Out: 2020-10-20 \n"
          ],
          "name": "stderr"
        },
        {
          "output_type": "stream",
          "text": [
            "\u001b[37m [Mon, 19 Apr 2021 01:58:30] DEBUG [log.py.log_decorator_wrapper:38] <function generate_new_columns_from_gps_data at 0x7f0cb001ee60> START\u001b[0m\n"
          ],
          "name": "stdout"
        },
        {
          "output_type": "stream",
          "text": [
            "DEBUG:ETL:<function generate_new_columns_from_gps_data at 0x7f0cb001ee60> START\n"
          ],
          "name": "stderr"
        },
        {
          "output_type": "stream",
          "text": [
            "\u001b[37m [Mon, 19 Apr 2021 01:58:49] DEBUG [etl.py.fill_dataframe_by_ut:105] In: 2020-10-20 \u001b[0m\n"
          ],
          "name": "stdout"
        },
        {
          "output_type": "stream",
          "text": [
            "DEBUG:ETL:In: 2020-10-20 \n"
          ],
          "name": "stderr"
        },
        {
          "output_type": "stream",
          "text": [
            "\u001b[37m [Mon, 19 Apr 2021 01:58:50] DEBUG [etl.py.fill_dataframe_by_ut:116] Out: 2020-10-20 \u001b[0m\n"
          ],
          "name": "stdout"
        },
        {
          "output_type": "stream",
          "text": [
            "DEBUG:ETL:Out: 2020-10-20 \n"
          ],
          "name": "stderr"
        },
        {
          "output_type": "stream",
          "text": [
            "\u001b[37m [Mon, 19 Apr 2021 02:00:50] DEBUG [log.py.log_decorator_wrapper:41] <function generate_new_columns_from_gps_data at 0x7f0cb001ee60> END\u001b[0m\n"
          ],
          "name": "stdout"
        },
        {
          "output_type": "stream",
          "text": [
            "DEBUG:ETL:<function generate_new_columns_from_gps_data at 0x7f0cb001ee60> END\n"
          ],
          "name": "stderr"
        },
        {
          "output_type": "stream",
          "text": [
            "\u001b[37m [Mon, 19 Apr 2021 02:00:50] DEBUG [log.py.log_decorator_wrapper:38] <function merge_with_meteo at 0x7f0cb001ef80> START\u001b[0m\n"
          ],
          "name": "stdout"
        },
        {
          "output_type": "stream",
          "text": [
            "DEBUG:ETL:<function merge_with_meteo at 0x7f0cb001ef80> START\n"
          ],
          "name": "stderr"
        },
        {
          "output_type": "stream",
          "text": [
            "\u001b[37m [Mon, 19 Apr 2021 02:00:50] DEBUG [log.py.log_decorator_wrapper:41] <function merge_with_meteo at 0x7f0cb001ef80> END\u001b[0m\n"
          ],
          "name": "stdout"
        },
        {
          "output_type": "stream",
          "text": [
            "DEBUG:ETL:<function merge_with_meteo at 0x7f0cb001ef80> END\n"
          ],
          "name": "stderr"
        },
        {
          "output_type": "stream",
          "text": [
            "\u001b[37m [Mon, 19 Apr 2021 02:00:50] DEBUG [log.py.log_decorator_wrapper:38] <function create_index_ts_date at 0x7f0cb00220e0> START\u001b[0m\n"
          ],
          "name": "stdout"
        },
        {
          "output_type": "stream",
          "text": [
            "DEBUG:ETL:<function create_index_ts_date at 0x7f0cb00220e0> START\n"
          ],
          "name": "stderr"
        },
        {
          "output_type": "stream",
          "text": [
            "\u001b[37m [Mon, 19 Apr 2021 02:00:51] DEBUG [log.py.log_decorator_wrapper:41] <function create_index_ts_date at 0x7f0cb00220e0> END\u001b[0m\n"
          ],
          "name": "stdout"
        },
        {
          "output_type": "stream",
          "text": [
            "DEBUG:ETL:<function create_index_ts_date at 0x7f0cb00220e0> END\n"
          ],
          "name": "stderr"
        },
        {
          "output_type": "stream",
          "text": [
            "\u001b[37m [Mon, 19 Apr 2021 02:00:51] DEBUG [log.py.log_decorator_wrapper:38] <function generate_auxiliar_columns at 0x7f0cb0022200> START\u001b[0m\n"
          ],
          "name": "stdout"
        },
        {
          "output_type": "stream",
          "text": [
            "DEBUG:ETL:<function generate_auxiliar_columns at 0x7f0cb0022200> START\n"
          ],
          "name": "stderr"
        },
        {
          "output_type": "stream",
          "text": [
            "\u001b[37m [Mon, 19 Apr 2021 02:02:24] DEBUG [etl.py.fill_dataframe_by_ut:105] In: 2020-10-20 \u001b[0m\n"
          ],
          "name": "stdout"
        },
        {
          "output_type": "stream",
          "text": [
            "DEBUG:ETL:In: 2020-10-20 \n"
          ],
          "name": "stderr"
        },
        {
          "output_type": "stream",
          "text": [
            "\u001b[37m [Mon, 19 Apr 2021 02:02:26] DEBUG [etl.py.fill_dataframe_by_ut:116] Out: 2020-10-20 \u001b[0m\n"
          ],
          "name": "stdout"
        },
        {
          "output_type": "stream",
          "text": [
            "DEBUG:ETL:Out: 2020-10-20 \n"
          ],
          "name": "stderr"
        },
        {
          "output_type": "stream",
          "text": [
            "\u001b[37m [Mon, 19 Apr 2021 02:04:14] DEBUG [log.py.log_decorator_wrapper:41] <function generate_auxiliar_columns at 0x7f0cb0022200> END\u001b[0m\n"
          ],
          "name": "stdout"
        },
        {
          "output_type": "stream",
          "text": [
            "DEBUG:ETL:<function generate_auxiliar_columns at 0x7f0cb0022200> END\n"
          ],
          "name": "stderr"
        },
        {
          "output_type": "stream",
          "text": [
            "\u001b[37m [Mon, 19 Apr 2021 02:04:21] DEBUG [log.py.log_decorator_wrapper:38] <function create_categorical at 0x7f0cb0022560> START\u001b[0m\n"
          ],
          "name": "stdout"
        },
        {
          "output_type": "stream",
          "text": [
            "DEBUG:ETL:<function create_categorical at 0x7f0cb0022560> START\n"
          ],
          "name": "stderr"
        },
        {
          "output_type": "stream",
          "text": [
            "\u001b[37m [Mon, 19 Apr 2021 02:04:23] DEBUG [log.py.log_decorator_wrapper:41] <function create_categorical at 0x7f0cb0022560> END\u001b[0m\n"
          ],
          "name": "stdout"
        },
        {
          "output_type": "stream",
          "text": [
            "DEBUG:ETL:<function create_categorical at 0x7f0cb0022560> END\n"
          ],
          "name": "stderr"
        },
        {
          "output_type": "stream",
          "text": [
            "\u001b[37m [Mon, 19 Apr 2021 02:04:23] DEBUG [etl.py.fill_dataframe_by_ut:105] In: 2020-10-20 \u001b[0m\n"
          ],
          "name": "stdout"
        },
        {
          "output_type": "stream",
          "text": [
            "DEBUG:ETL:In: 2020-10-20 \n"
          ],
          "name": "stderr"
        },
        {
          "output_type": "stream",
          "text": [
            "\u001b[37m [Mon, 19 Apr 2021 02:04:25] DEBUG [etl.py.fill_dataframe_by_ut:116] Out: 2020-10-20 \u001b[0m\n"
          ],
          "name": "stdout"
        },
        {
          "output_type": "stream",
          "text": [
            "DEBUG:ETL:Out: 2020-10-20 \n"
          ],
          "name": "stderr"
        },
        {
          "output_type": "stream",
          "text": [
            "\u001b[37m [Mon, 19 Apr 2021 02:04:41] DEBUG [log.py.log_decorator_wrapper:41] <function process_etl at 0x7f0cb00dc5f0> END\u001b[0m\n"
          ],
          "name": "stdout"
        },
        {
          "output_type": "stream",
          "text": [
            "DEBUG:ETL:<function process_etl at 0x7f0cb00dc5f0> END\n"
          ],
          "name": "stderr"
        },
        {
          "output_type": "stream",
          "text": [
            "cafcodingdatos/raw/date=2020-10-21/part-00002-tid-4502735041458916000-1def1e63-76d9-4841-bd06-f798a2422800-4291-5.c000.snappy.parquet\n",
            "cafcodingdatos/raw/date=2020-10-21/part-00003-tid-4502735041458916000-1def1e63-76d9-4841-bd06-f798a2422800-4144-1.c000.snappy.parquet\n",
            "cafcodingdatos/raw/date=2020-10-21/part-00021-tid-4502735041458916000-1def1e63-76d9-4841-bd06-f798a2422800-4278-4.c000.snappy.parquet\n",
            "cafcodingdatos/raw/date=2020-10-21/part-00022-tid-4502735041458916000-1def1e63-76d9-4841-bd06-f798a2422800-4196-1.c000.snappy.parquet\n",
            "cafcodingdatos/raw/date=2020-10-21/part-00037-tid-4502735041458916000-1def1e63-76d9-4841-bd06-f798a2422800-4123-10.c000.snappy.parquet\n",
            "cafcodingdatos/raw/date=2020-10-21/part-00058-tid-4502735041458916000-1def1e63-76d9-4841-bd06-f798a2422800-4220-3.c000.snappy.parquet\n",
            "cafcodingdatos/raw/date=2020-10-21/part-00077-tid-4502735041458916000-1def1e63-76d9-4841-bd06-f798a2422800-4246-4.c000.snappy.parquet\n",
            "cafcodingdatos/raw/date=2020-10-21/part-00078-tid-4502735041458916000-1def1e63-76d9-4841-bd06-f798a2422800-4140-1.c000.snappy.parquet\n",
            "cafcodingdatos/raw/date=2020-10-21/part-00094-tid-4502735041458916000-1def1e63-76d9-4841-bd06-f798a2422800-4141-6.c000.snappy.parquet\n",
            "cafcodingdatos/raw/date=2020-10-21/part-00110-tid-4502735041458916000-1def1e63-76d9-4841-bd06-f798a2422800-4172-5.c000.snappy.parquet\n",
            "cafcodingdatos/raw/date=2020-10-21/part-00125-tid-4502735041458916000-1def1e63-76d9-4841-bd06-f798a2422800-4203-3.c000.snappy.parquet\n",
            "cafcodingdatos/raw/date=2020-10-21/part-00145-tid-4502735041458916000-1def1e63-76d9-4841-bd06-f798a2422800-4170-5.c000.snappy.parquet\n",
            "cafcodingdatos/raw/date=2020-10-21/part-00146-tid-4502735041458916000-1def1e63-76d9-4841-bd06-f798a2422800-4223-1.c000.snappy.parquet\n",
            "cafcodingdatos/raw/date=2020-10-21/part-00166-tid-4502735041458916000-1def1e63-76d9-4841-bd06-f798a2422800-4227-5.c000.snappy.parquet\n",
            "cafcodingdatos/raw/date=2020-10-21/part-00167-tid-4502735041458916000-1def1e63-76d9-4841-bd06-f798a2422800-4128-1.c000.snappy.parquet\n",
            "\u001b[37m [Mon, 19 Apr 2021 02:06:15] DEBUG [log.py.log_decorator_wrapper:38] <function process_etl at 0x7f0cb00dc5f0> START\u001b[0m\n"
          ],
          "name": "stdout"
        },
        {
          "output_type": "stream",
          "text": [
            "DEBUG:ETL:<function process_etl at 0x7f0cb00dc5f0> START\n"
          ],
          "name": "stderr"
        },
        {
          "output_type": "stream",
          "text": [
            "\u001b[37m [Mon, 19 Apr 2021 02:06:15] DEBUG [log.py.log_decorator_wrapper:38] <function prepare_data_time at 0x7f0cb00ff5f0> START\u001b[0m\n"
          ],
          "name": "stdout"
        },
        {
          "output_type": "stream",
          "text": [
            "DEBUG:ETL:<function prepare_data_time at 0x7f0cb00ff5f0> START\n"
          ],
          "name": "stderr"
        },
        {
          "output_type": "stream",
          "text": [
            "\u001b[37m [Mon, 19 Apr 2021 02:06:16] DEBUG [log.py.log_decorator_wrapper:41] <function prepare_data_time at 0x7f0cb00ff5f0> END\u001b[0m\n"
          ],
          "name": "stdout"
        },
        {
          "output_type": "stream",
          "text": [
            "DEBUG:ETL:<function prepare_data_time at 0x7f0cb00ff5f0> END\n"
          ],
          "name": "stderr"
        },
        {
          "output_type": "stream",
          "text": [
            "\u001b[32m [Mon, 19 Apr 2021 02:06:16] INFO [etl_step.py.process_etl:38] Filter dates: 2020-10-21 00:00:00 - 2020-10-21 23:59:59\u001b[0m\n"
          ],
          "name": "stdout"
        },
        {
          "output_type": "stream",
          "text": [
            "INFO:ETL:Filter dates: 2020-10-21 00:00:00 - 2020-10-21 23:59:59\n"
          ],
          "name": "stderr"
        },
        {
          "output_type": "stream",
          "text": [
            "\u001b[37m [Mon, 19 Apr 2021 02:06:16] DEBUG [log.py.log_decorator_wrapper:38] <function process_meteo_dataframe at 0x7f0cb001ed40> START\u001b[0m\n"
          ],
          "name": "stdout"
        },
        {
          "output_type": "stream",
          "text": [
            "DEBUG:ETL:<function process_meteo_dataframe at 0x7f0cb001ed40> START\n"
          ],
          "name": "stderr"
        },
        {
          "output_type": "stream",
          "text": [
            "\u001b[37m [Mon, 19 Apr 2021 02:06:16] DEBUG [log.py.log_decorator_wrapper:41] <function process_meteo_dataframe at 0x7f0cb001ed40> END\u001b[0m\n"
          ],
          "name": "stdout"
        },
        {
          "output_type": "stream",
          "text": [
            "DEBUG:ETL:<function process_meteo_dataframe at 0x7f0cb001ed40> END\n"
          ],
          "name": "stderr"
        },
        {
          "output_type": "stream",
          "text": [
            "\u001b[37m [Mon, 19 Apr 2021 02:06:16] DEBUG [etl.py.fill_dataframe_by_ut:105] In: 2020-10-21 \u001b[0m\n"
          ],
          "name": "stdout"
        },
        {
          "output_type": "stream",
          "text": [
            "DEBUG:ETL:In: 2020-10-21 \n"
          ],
          "name": "stderr"
        },
        {
          "output_type": "stream",
          "text": [
            "\u001b[37m [Mon, 19 Apr 2021 02:06:17] DEBUG [etl.py.fill_dataframe_by_ut:116] Out: 2020-10-21 \u001b[0m\n"
          ],
          "name": "stdout"
        },
        {
          "output_type": "stream",
          "text": [
            "DEBUG:ETL:Out: 2020-10-21 \n"
          ],
          "name": "stderr"
        },
        {
          "output_type": "stream",
          "text": [
            "\u001b[37m [Mon, 19 Apr 2021 02:06:18] DEBUG [log.py.log_decorator_wrapper:38] <function generate_new_columns_from_gps_data at 0x7f0cb001ee60> START\u001b[0m\n"
          ],
          "name": "stdout"
        },
        {
          "output_type": "stream",
          "text": [
            "DEBUG:ETL:<function generate_new_columns_from_gps_data at 0x7f0cb001ee60> START\n"
          ],
          "name": "stderr"
        },
        {
          "output_type": "stream",
          "text": [
            "\u001b[37m [Mon, 19 Apr 2021 02:06:37] DEBUG [etl.py.fill_dataframe_by_ut:105] In: 2020-10-21 \u001b[0m\n"
          ],
          "name": "stdout"
        },
        {
          "output_type": "stream",
          "text": [
            "DEBUG:ETL:In: 2020-10-21 \n"
          ],
          "name": "stderr"
        },
        {
          "output_type": "stream",
          "text": [
            "\u001b[37m [Mon, 19 Apr 2021 02:06:38] DEBUG [etl.py.fill_dataframe_by_ut:116] Out: 2020-10-21 \u001b[0m\n"
          ],
          "name": "stdout"
        },
        {
          "output_type": "stream",
          "text": [
            "DEBUG:ETL:Out: 2020-10-21 \n"
          ],
          "name": "stderr"
        },
        {
          "output_type": "stream",
          "text": [
            "\u001b[37m [Mon, 19 Apr 2021 02:08:43] DEBUG [log.py.log_decorator_wrapper:41] <function generate_new_columns_from_gps_data at 0x7f0cb001ee60> END\u001b[0m\n"
          ],
          "name": "stdout"
        },
        {
          "output_type": "stream",
          "text": [
            "DEBUG:ETL:<function generate_new_columns_from_gps_data at 0x7f0cb001ee60> END\n"
          ],
          "name": "stderr"
        },
        {
          "output_type": "stream",
          "text": [
            "\u001b[37m [Mon, 19 Apr 2021 02:08:43] DEBUG [log.py.log_decorator_wrapper:38] <function merge_with_meteo at 0x7f0cb001ef80> START\u001b[0m\n"
          ],
          "name": "stdout"
        },
        {
          "output_type": "stream",
          "text": [
            "DEBUG:ETL:<function merge_with_meteo at 0x7f0cb001ef80> START\n"
          ],
          "name": "stderr"
        },
        {
          "output_type": "stream",
          "text": [
            "\u001b[37m [Mon, 19 Apr 2021 02:08:44] DEBUG [log.py.log_decorator_wrapper:41] <function merge_with_meteo at 0x7f0cb001ef80> END\u001b[0m\n"
          ],
          "name": "stdout"
        },
        {
          "output_type": "stream",
          "text": [
            "DEBUG:ETL:<function merge_with_meteo at 0x7f0cb001ef80> END\n"
          ],
          "name": "stderr"
        },
        {
          "output_type": "stream",
          "text": [
            "\u001b[37m [Mon, 19 Apr 2021 02:08:44] DEBUG [log.py.log_decorator_wrapper:38] <function create_index_ts_date at 0x7f0cb00220e0> START\u001b[0m\n"
          ],
          "name": "stdout"
        },
        {
          "output_type": "stream",
          "text": [
            "DEBUG:ETL:<function create_index_ts_date at 0x7f0cb00220e0> START\n"
          ],
          "name": "stderr"
        },
        {
          "output_type": "stream",
          "text": [
            "\u001b[37m [Mon, 19 Apr 2021 02:08:44] DEBUG [log.py.log_decorator_wrapper:41] <function create_index_ts_date at 0x7f0cb00220e0> END\u001b[0m\n"
          ],
          "name": "stdout"
        },
        {
          "output_type": "stream",
          "text": [
            "DEBUG:ETL:<function create_index_ts_date at 0x7f0cb00220e0> END\n"
          ],
          "name": "stderr"
        },
        {
          "output_type": "stream",
          "text": [
            "\u001b[37m [Mon, 19 Apr 2021 02:08:44] DEBUG [log.py.log_decorator_wrapper:38] <function generate_auxiliar_columns at 0x7f0cb0022200> START\u001b[0m\n"
          ],
          "name": "stdout"
        },
        {
          "output_type": "stream",
          "text": [
            "DEBUG:ETL:<function generate_auxiliar_columns at 0x7f0cb0022200> START\n"
          ],
          "name": "stderr"
        },
        {
          "output_type": "stream",
          "text": [
            "\u001b[37m [Mon, 19 Apr 2021 02:10:20] DEBUG [etl.py.fill_dataframe_by_ut:105] In: 2020-10-21 \u001b[0m\n"
          ],
          "name": "stdout"
        },
        {
          "output_type": "stream",
          "text": [
            "DEBUG:ETL:In: 2020-10-21 \n"
          ],
          "name": "stderr"
        },
        {
          "output_type": "stream",
          "text": [
            "\u001b[37m [Mon, 19 Apr 2021 02:10:22] DEBUG [etl.py.fill_dataframe_by_ut:116] Out: 2020-10-21 \u001b[0m\n"
          ],
          "name": "stdout"
        },
        {
          "output_type": "stream",
          "text": [
            "DEBUG:ETL:Out: 2020-10-21 \n"
          ],
          "name": "stderr"
        },
        {
          "output_type": "stream",
          "text": [
            "4 2884802\n",
            "\u001b[37m [Mon, 19 Apr 2021 02:12:45] DEBUG [log.py.log_decorator_wrapper:41] <function generate_auxiliar_columns at 0x7f0cb0022200> END\u001b[0m\n"
          ],
          "name": "stdout"
        },
        {
          "output_type": "stream",
          "text": [
            "DEBUG:ETL:<function generate_auxiliar_columns at 0x7f0cb0022200> END\n"
          ],
          "name": "stderr"
        },
        {
          "output_type": "stream",
          "text": [
            "\u001b[37m [Mon, 19 Apr 2021 02:12:52] DEBUG [log.py.log_decorator_wrapper:38] <function create_categorical at 0x7f0cb0022560> START\u001b[0m\n"
          ],
          "name": "stdout"
        },
        {
          "output_type": "stream",
          "text": [
            "DEBUG:ETL:<function create_categorical at 0x7f0cb0022560> START\n"
          ],
          "name": "stderr"
        },
        {
          "output_type": "stream",
          "text": [
            "\u001b[37m [Mon, 19 Apr 2021 02:12:54] DEBUG [log.py.log_decorator_wrapper:41] <function create_categorical at 0x7f0cb0022560> END\u001b[0m\n"
          ],
          "name": "stdout"
        },
        {
          "output_type": "stream",
          "text": [
            "DEBUG:ETL:<function create_categorical at 0x7f0cb0022560> END\n"
          ],
          "name": "stderr"
        },
        {
          "output_type": "stream",
          "text": [
            "\u001b[37m [Mon, 19 Apr 2021 02:12:54] DEBUG [etl.py.fill_dataframe_by_ut:105] In: 2020-10-21 \u001b[0m\n"
          ],
          "name": "stdout"
        },
        {
          "output_type": "stream",
          "text": [
            "DEBUG:ETL:In: 2020-10-21 \n"
          ],
          "name": "stderr"
        },
        {
          "output_type": "stream",
          "text": [
            "\u001b[37m [Mon, 19 Apr 2021 02:12:56] DEBUG [etl.py.fill_dataframe_by_ut:116] Out: 2020-10-21 \u001b[0m\n"
          ],
          "name": "stdout"
        },
        {
          "output_type": "stream",
          "text": [
            "DEBUG:ETL:Out: 2020-10-21 \n"
          ],
          "name": "stderr"
        },
        {
          "output_type": "stream",
          "text": [
            "\u001b[37m [Mon, 19 Apr 2021 02:13:13] DEBUG [log.py.log_decorator_wrapper:41] <function process_etl at 0x7f0cb00dc5f0> END\u001b[0m\n"
          ],
          "name": "stdout"
        },
        {
          "output_type": "stream",
          "text": [
            "DEBUG:ETL:<function process_etl at 0x7f0cb00dc5f0> END\n"
          ],
          "name": "stderr"
        },
        {
          "output_type": "stream",
          "text": [
            "cafcodingdatos/raw/date=2020-10-22/part-00003-tid-4502735041458916000-1def1e63-76d9-4841-bd06-f798a2422800-4144-2.c000.snappy.parquet\n",
            "cafcodingdatos/raw/date=2020-10-22/part-00022-tid-4502735041458916000-1def1e63-76d9-4841-bd06-f798a2422800-4196-2.c000.snappy.parquet\n",
            "cafcodingdatos/raw/date=2020-10-22/part-00037-tid-4502735041458916000-1def1e63-76d9-4841-bd06-f798a2422800-4123-11.c000.snappy.parquet\n",
            "cafcodingdatos/raw/date=2020-10-22/part-00038-tid-4502735041458916000-1def1e63-76d9-4841-bd06-f798a2422800-4197-1.c000.snappy.parquet\n",
            "cafcodingdatos/raw/date=2020-10-22/part-00058-tid-4502735041458916000-1def1e63-76d9-4841-bd06-f798a2422800-4220-4.c000.snappy.parquet\n",
            "cafcodingdatos/raw/date=2020-10-22/part-00059-tid-4502735041458916000-1def1e63-76d9-4841-bd06-f798a2422800-4287-1.c000.snappy.parquet\n",
            "cafcodingdatos/raw/date=2020-10-22/part-00078-tid-4502735041458916000-1def1e63-76d9-4841-bd06-f798a2422800-4140-2.c000.snappy.parquet\n",
            "cafcodingdatos/raw/date=2020-10-22/part-00094-tid-4502735041458916000-1def1e63-76d9-4841-bd06-f798a2422800-4141-7.c000.snappy.parquet\n",
            "cafcodingdatos/raw/date=2020-10-22/part-00110-tid-4502735041458916000-1def1e63-76d9-4841-bd06-f798a2422800-4172-6.c000.snappy.parquet\n",
            "cafcodingdatos/raw/date=2020-10-22/part-00111-tid-4502735041458916000-1def1e63-76d9-4841-bd06-f798a2422800-4272-1.c000.snappy.parquet\n",
            "cafcodingdatos/raw/date=2020-10-22/part-00125-tid-4502735041458916000-1def1e63-76d9-4841-bd06-f798a2422800-4203-4.c000.snappy.parquet\n",
            "cafcodingdatos/raw/date=2020-10-22/part-00126-tid-4502735041458916000-1def1e63-76d9-4841-bd06-f798a2422800-4290-1.c000.snappy.parquet\n",
            "cafcodingdatos/raw/date=2020-10-22/part-00146-tid-4502735041458916000-1def1e63-76d9-4841-bd06-f798a2422800-4223-2.c000.snappy.parquet\n",
            "cafcodingdatos/raw/date=2020-10-22/part-00167-tid-4502735041458916000-1def1e63-76d9-4841-bd06-f798a2422800-4128-2.c000.snappy.parquet\n",
            "\u001b[37m [Mon, 19 Apr 2021 02:15:41] DEBUG [log.py.log_decorator_wrapper:38] <function process_etl at 0x7f0cb00dc5f0> START\u001b[0m\n"
          ],
          "name": "stdout"
        },
        {
          "output_type": "stream",
          "text": [
            "DEBUG:ETL:<function process_etl at 0x7f0cb00dc5f0> START\n"
          ],
          "name": "stderr"
        },
        {
          "output_type": "stream",
          "text": [
            "\u001b[37m [Mon, 19 Apr 2021 02:15:41] DEBUG [log.py.log_decorator_wrapper:38] <function prepare_data_time at 0x7f0cb00ff5f0> START\u001b[0m\n"
          ],
          "name": "stdout"
        },
        {
          "output_type": "stream",
          "text": [
            "DEBUG:ETL:<function prepare_data_time at 0x7f0cb00ff5f0> START\n"
          ],
          "name": "stderr"
        },
        {
          "output_type": "stream",
          "text": [
            "\u001b[37m [Mon, 19 Apr 2021 02:15:42] DEBUG [log.py.log_decorator_wrapper:41] <function prepare_data_time at 0x7f0cb00ff5f0> END\u001b[0m\n"
          ],
          "name": "stdout"
        },
        {
          "output_type": "stream",
          "text": [
            "DEBUG:ETL:<function prepare_data_time at 0x7f0cb00ff5f0> END\n"
          ],
          "name": "stderr"
        },
        {
          "output_type": "stream",
          "text": [
            "\u001b[32m [Mon, 19 Apr 2021 02:15:42] INFO [etl_step.py.process_etl:38] Filter dates: 2020-10-22 00:00:00 - 2020-10-22 23:59:59\u001b[0m\n"
          ],
          "name": "stdout"
        },
        {
          "output_type": "stream",
          "text": [
            "INFO:ETL:Filter dates: 2020-10-22 00:00:00 - 2020-10-22 23:59:59\n"
          ],
          "name": "stderr"
        },
        {
          "output_type": "stream",
          "text": [
            "\u001b[37m [Mon, 19 Apr 2021 02:15:42] DEBUG [log.py.log_decorator_wrapper:38] <function process_meteo_dataframe at 0x7f0cb001ed40> START\u001b[0m\n"
          ],
          "name": "stdout"
        },
        {
          "output_type": "stream",
          "text": [
            "DEBUG:ETL:<function process_meteo_dataframe at 0x7f0cb001ed40> START\n"
          ],
          "name": "stderr"
        },
        {
          "output_type": "stream",
          "text": [
            "\u001b[37m [Mon, 19 Apr 2021 02:15:42] DEBUG [log.py.log_decorator_wrapper:41] <function process_meteo_dataframe at 0x7f0cb001ed40> END\u001b[0m\n"
          ],
          "name": "stdout"
        },
        {
          "output_type": "stream",
          "text": [
            "DEBUG:ETL:<function process_meteo_dataframe at 0x7f0cb001ed40> END\n"
          ],
          "name": "stderr"
        },
        {
          "output_type": "stream",
          "text": [
            "\u001b[37m [Mon, 19 Apr 2021 02:15:42] DEBUG [etl.py.fill_dataframe_by_ut:105] In: 2020-10-22 \u001b[0m\n"
          ],
          "name": "stdout"
        },
        {
          "output_type": "stream",
          "text": [
            "DEBUG:ETL:In: 2020-10-22 \n"
          ],
          "name": "stderr"
        },
        {
          "output_type": "stream",
          "text": [
            "\u001b[37m [Mon, 19 Apr 2021 02:15:44] DEBUG [etl.py.fill_dataframe_by_ut:116] Out: 2020-10-22 \u001b[0m\n"
          ],
          "name": "stdout"
        },
        {
          "output_type": "stream",
          "text": [
            "DEBUG:ETL:Out: 2020-10-22 \n"
          ],
          "name": "stderr"
        },
        {
          "output_type": "stream",
          "text": [
            "\u001b[37m [Mon, 19 Apr 2021 02:15:44] DEBUG [log.py.log_decorator_wrapper:38] <function generate_new_columns_from_gps_data at 0x7f0cb001ee60> START\u001b[0m\n"
          ],
          "name": "stdout"
        },
        {
          "output_type": "stream",
          "text": [
            "DEBUG:ETL:<function generate_new_columns_from_gps_data at 0x7f0cb001ee60> START\n"
          ],
          "name": "stderr"
        },
        {
          "output_type": "stream",
          "text": [
            "\u001b[37m [Mon, 19 Apr 2021 02:16:07] DEBUG [etl.py.fill_dataframe_by_ut:105] In: 2020-10-22 \u001b[0m\n"
          ],
          "name": "stdout"
        },
        {
          "output_type": "stream",
          "text": [
            "DEBUG:ETL:In: 2020-10-22 \n"
          ],
          "name": "stderr"
        },
        {
          "output_type": "stream",
          "text": [
            "\u001b[37m [Mon, 19 Apr 2021 02:16:08] DEBUG [etl.py.fill_dataframe_by_ut:116] Out: 2020-10-22 \u001b[0m\n"
          ],
          "name": "stdout"
        },
        {
          "output_type": "stream",
          "text": [
            "DEBUG:ETL:Out: 2020-10-22 \n"
          ],
          "name": "stderr"
        },
        {
          "output_type": "stream",
          "text": [
            "\u001b[37m [Mon, 19 Apr 2021 02:18:35] DEBUG [log.py.log_decorator_wrapper:41] <function generate_new_columns_from_gps_data at 0x7f0cb001ee60> END\u001b[0m\n"
          ],
          "name": "stdout"
        },
        {
          "output_type": "stream",
          "text": [
            "DEBUG:ETL:<function generate_new_columns_from_gps_data at 0x7f0cb001ee60> END\n"
          ],
          "name": "stderr"
        },
        {
          "output_type": "stream",
          "text": [
            "\u001b[37m [Mon, 19 Apr 2021 02:18:35] DEBUG [log.py.log_decorator_wrapper:38] <function merge_with_meteo at 0x7f0cb001ef80> START\u001b[0m\n"
          ],
          "name": "stdout"
        },
        {
          "output_type": "stream",
          "text": [
            "DEBUG:ETL:<function merge_with_meteo at 0x7f0cb001ef80> START\n"
          ],
          "name": "stderr"
        },
        {
          "output_type": "stream",
          "text": [
            "\u001b[37m [Mon, 19 Apr 2021 02:18:36] DEBUG [log.py.log_decorator_wrapper:41] <function merge_with_meteo at 0x7f0cb001ef80> END\u001b[0m\n"
          ],
          "name": "stdout"
        },
        {
          "output_type": "stream",
          "text": [
            "DEBUG:ETL:<function merge_with_meteo at 0x7f0cb001ef80> END\n"
          ],
          "name": "stderr"
        },
        {
          "output_type": "stream",
          "text": [
            "\u001b[37m [Mon, 19 Apr 2021 02:18:36] DEBUG [log.py.log_decorator_wrapper:38] <function create_index_ts_date at 0x7f0cb00220e0> START\u001b[0m\n"
          ],
          "name": "stdout"
        },
        {
          "output_type": "stream",
          "text": [
            "DEBUG:ETL:<function create_index_ts_date at 0x7f0cb00220e0> START\n"
          ],
          "name": "stderr"
        },
        {
          "output_type": "stream",
          "text": [
            "\u001b[37m [Mon, 19 Apr 2021 02:18:36] DEBUG [log.py.log_decorator_wrapper:41] <function create_index_ts_date at 0x7f0cb00220e0> END\u001b[0m\n"
          ],
          "name": "stdout"
        },
        {
          "output_type": "stream",
          "text": [
            "DEBUG:ETL:<function create_index_ts_date at 0x7f0cb00220e0> END\n"
          ],
          "name": "stderr"
        },
        {
          "output_type": "stream",
          "text": [
            "\u001b[37m [Mon, 19 Apr 2021 02:18:36] DEBUG [log.py.log_decorator_wrapper:38] <function generate_auxiliar_columns at 0x7f0cb0022200> START\u001b[0m\n"
          ],
          "name": "stdout"
        },
        {
          "output_type": "stream",
          "text": [
            "DEBUG:ETL:<function generate_auxiliar_columns at 0x7f0cb0022200> START\n"
          ],
          "name": "stderr"
        },
        {
          "output_type": "stream",
          "text": [
            "\u001b[37m [Mon, 19 Apr 2021 02:20:29] DEBUG [etl.py.fill_dataframe_by_ut:105] In: 2020-10-22 \u001b[0m\n"
          ],
          "name": "stdout"
        },
        {
          "output_type": "stream",
          "text": [
            "DEBUG:ETL:In: 2020-10-22 \n"
          ],
          "name": "stderr"
        },
        {
          "output_type": "stream",
          "text": [
            "\u001b[37m [Mon, 19 Apr 2021 02:20:32] DEBUG [etl.py.fill_dataframe_by_ut:116] Out: 2020-10-22 \u001b[0m\n"
          ],
          "name": "stdout"
        },
        {
          "output_type": "stream",
          "text": [
            "DEBUG:ETL:Out: 2020-10-22 \n"
          ],
          "name": "stderr"
        },
        {
          "output_type": "stream",
          "text": [
            "\u001b[37m [Mon, 19 Apr 2021 02:22:43] DEBUG [log.py.log_decorator_wrapper:41] <function generate_auxiliar_columns at 0x7f0cb0022200> END\u001b[0m\n"
          ],
          "name": "stdout"
        },
        {
          "output_type": "stream",
          "text": [
            "DEBUG:ETL:<function generate_auxiliar_columns at 0x7f0cb0022200> END\n"
          ],
          "name": "stderr"
        },
        {
          "output_type": "stream",
          "text": [
            "\u001b[37m [Mon, 19 Apr 2021 02:22:51] DEBUG [log.py.log_decorator_wrapper:38] <function create_categorical at 0x7f0cb0022560> START\u001b[0m\n"
          ],
          "name": "stdout"
        },
        {
          "output_type": "stream",
          "text": [
            "DEBUG:ETL:<function create_categorical at 0x7f0cb0022560> START\n"
          ],
          "name": "stderr"
        },
        {
          "output_type": "stream",
          "text": [
            "\u001b[37m [Mon, 19 Apr 2021 02:22:53] DEBUG [log.py.log_decorator_wrapper:41] <function create_categorical at 0x7f0cb0022560> END\u001b[0m\n"
          ],
          "name": "stdout"
        },
        {
          "output_type": "stream",
          "text": [
            "DEBUG:ETL:<function create_categorical at 0x7f0cb0022560> END\n"
          ],
          "name": "stderr"
        },
        {
          "output_type": "stream",
          "text": [
            "\u001b[37m [Mon, 19 Apr 2021 02:22:53] DEBUG [etl.py.fill_dataframe_by_ut:105] In: 2020-10-22 \u001b[0m\n"
          ],
          "name": "stdout"
        },
        {
          "output_type": "stream",
          "text": [
            "DEBUG:ETL:In: 2020-10-22 \n"
          ],
          "name": "stderr"
        },
        {
          "output_type": "stream",
          "text": [
            "\u001b[37m [Mon, 19 Apr 2021 02:22:55] DEBUG [etl.py.fill_dataframe_by_ut:116] Out: 2020-10-22 \u001b[0m\n"
          ],
          "name": "stdout"
        },
        {
          "output_type": "stream",
          "text": [
            "DEBUG:ETL:Out: 2020-10-22 \n"
          ],
          "name": "stderr"
        },
        {
          "output_type": "stream",
          "text": [
            "\u001b[37m [Mon, 19 Apr 2021 02:23:16] DEBUG [log.py.log_decorator_wrapper:41] <function process_etl at 0x7f0cb00dc5f0> END\u001b[0m\n"
          ],
          "name": "stdout"
        },
        {
          "output_type": "stream",
          "text": [
            "DEBUG:ETL:<function process_etl at 0x7f0cb00dc5f0> END\n"
          ],
          "name": "stderr"
        },
        {
          "output_type": "stream",
          "text": [
            "cafcodingdatos/raw/date=2020-10-23/part-00003-tid-4502735041458916000-1def1e63-76d9-4841-bd06-f798a2422800-4144-3.c000.snappy.parquet\n",
            "cafcodingdatos/raw/date=2020-10-23/part-00022-tid-4502735041458916000-1def1e63-76d9-4841-bd06-f798a2422800-4196-3.c000.snappy.parquet\n",
            "cafcodingdatos/raw/date=2020-10-23/part-00038-tid-4502735041458916000-1def1e63-76d9-4841-bd06-f798a2422800-4197-2.c000.snappy.parquet\n",
            "cafcodingdatos/raw/date=2020-10-23/part-00059-tid-4502735041458916000-1def1e63-76d9-4841-bd06-f798a2422800-4287-2.c000.snappy.parquet\n",
            "cafcodingdatos/raw/date=2020-10-23/part-00078-tid-4502735041458916000-1def1e63-76d9-4841-bd06-f798a2422800-4140-3.c000.snappy.parquet\n",
            "cafcodingdatos/raw/date=2020-10-23/part-00094-tid-4502735041458916000-1def1e63-76d9-4841-bd06-f798a2422800-4141-8.c000.snappy.parquet\n",
            "cafcodingdatos/raw/date=2020-10-23/part-00111-tid-4502735041458916000-1def1e63-76d9-4841-bd06-f798a2422800-4272-2.c000.snappy.parquet\n",
            "cafcodingdatos/raw/date=2020-10-23/part-00126-tid-4502735041458916000-1def1e63-76d9-4841-bd06-f798a2422800-4290-2.c000.snappy.parquet\n",
            "cafcodingdatos/raw/date=2020-10-23/part-00146-tid-4502735041458916000-1def1e63-76d9-4841-bd06-f798a2422800-4223-3.c000.snappy.parquet\n",
            "cafcodingdatos/raw/date=2020-10-23/part-00167-tid-4502735041458916000-1def1e63-76d9-4841-bd06-f798a2422800-4128-3.c000.snappy.parquet\n",
            "\u001b[37m [Mon, 19 Apr 2021 02:25:41] DEBUG [log.py.log_decorator_wrapper:38] <function process_etl at 0x7f0cb00dc5f0> START\u001b[0m\n"
          ],
          "name": "stdout"
        },
        {
          "output_type": "stream",
          "text": [
            "DEBUG:ETL:<function process_etl at 0x7f0cb00dc5f0> START\n"
          ],
          "name": "stderr"
        },
        {
          "output_type": "stream",
          "text": [
            "\u001b[37m [Mon, 19 Apr 2021 02:25:41] DEBUG [log.py.log_decorator_wrapper:38] <function prepare_data_time at 0x7f0cb00ff5f0> START\u001b[0m\n"
          ],
          "name": "stdout"
        },
        {
          "output_type": "stream",
          "text": [
            "DEBUG:ETL:<function prepare_data_time at 0x7f0cb00ff5f0> START\n"
          ],
          "name": "stderr"
        },
        {
          "output_type": "stream",
          "text": [
            "\u001b[37m [Mon, 19 Apr 2021 02:25:41] DEBUG [log.py.log_decorator_wrapper:41] <function prepare_data_time at 0x7f0cb00ff5f0> END\u001b[0m\n"
          ],
          "name": "stdout"
        },
        {
          "output_type": "stream",
          "text": [
            "DEBUG:ETL:<function prepare_data_time at 0x7f0cb00ff5f0> END\n"
          ],
          "name": "stderr"
        },
        {
          "output_type": "stream",
          "text": [
            "\u001b[32m [Mon, 19 Apr 2021 02:25:41] INFO [etl_step.py.process_etl:38] Filter dates: 2020-10-23 00:00:00 - 2020-10-23 23:59:59\u001b[0m\n"
          ],
          "name": "stdout"
        },
        {
          "output_type": "stream",
          "text": [
            "INFO:ETL:Filter dates: 2020-10-23 00:00:00 - 2020-10-23 23:59:59\n"
          ],
          "name": "stderr"
        },
        {
          "output_type": "stream",
          "text": [
            "\u001b[37m [Mon, 19 Apr 2021 02:25:41] DEBUG [log.py.log_decorator_wrapper:38] <function process_meteo_dataframe at 0x7f0cb001ed40> START\u001b[0m\n"
          ],
          "name": "stdout"
        },
        {
          "output_type": "stream",
          "text": [
            "DEBUG:ETL:<function process_meteo_dataframe at 0x7f0cb001ed40> START\n"
          ],
          "name": "stderr"
        },
        {
          "output_type": "stream",
          "text": [
            "\u001b[37m [Mon, 19 Apr 2021 02:25:42] DEBUG [log.py.log_decorator_wrapper:41] <function process_meteo_dataframe at 0x7f0cb001ed40> END\u001b[0m\n"
          ],
          "name": "stdout"
        },
        {
          "output_type": "stream",
          "text": [
            "DEBUG:ETL:<function process_meteo_dataframe at 0x7f0cb001ed40> END\n"
          ],
          "name": "stderr"
        },
        {
          "output_type": "stream",
          "text": [
            "\u001b[37m [Mon, 19 Apr 2021 02:25:42] DEBUG [etl.py.fill_dataframe_by_ut:105] In: 2020-10-23 \u001b[0m\n"
          ],
          "name": "stdout"
        },
        {
          "output_type": "stream",
          "text": [
            "DEBUG:ETL:In: 2020-10-23 \n"
          ],
          "name": "stderr"
        },
        {
          "output_type": "stream",
          "text": [
            "\u001b[37m [Mon, 19 Apr 2021 02:25:43] DEBUG [etl.py.fill_dataframe_by_ut:116] Out: 2020-10-23 \u001b[0m\n"
          ],
          "name": "stdout"
        },
        {
          "output_type": "stream",
          "text": [
            "DEBUG:ETL:Out: 2020-10-23 \n"
          ],
          "name": "stderr"
        },
        {
          "output_type": "stream",
          "text": [
            "\u001b[37m [Mon, 19 Apr 2021 02:25:44] DEBUG [log.py.log_decorator_wrapper:38] <function generate_new_columns_from_gps_data at 0x7f0cb001ee60> START\u001b[0m\n"
          ],
          "name": "stdout"
        },
        {
          "output_type": "stream",
          "text": [
            "DEBUG:ETL:<function generate_new_columns_from_gps_data at 0x7f0cb001ee60> START\n"
          ],
          "name": "stderr"
        },
        {
          "output_type": "stream",
          "text": [
            "\u001b[37m [Mon, 19 Apr 2021 02:26:04] DEBUG [etl.py.fill_dataframe_by_ut:105] In: 2020-10-23 \u001b[0m\n"
          ],
          "name": "stdout"
        },
        {
          "output_type": "stream",
          "text": [
            "DEBUG:ETL:In: 2020-10-23 \n"
          ],
          "name": "stderr"
        },
        {
          "output_type": "stream",
          "text": [
            "\u001b[37m [Mon, 19 Apr 2021 02:26:05] DEBUG [etl.py.fill_dataframe_by_ut:116] Out: 2020-10-23 \u001b[0m\n"
          ],
          "name": "stdout"
        },
        {
          "output_type": "stream",
          "text": [
            "DEBUG:ETL:Out: 2020-10-23 \n"
          ],
          "name": "stderr"
        },
        {
          "output_type": "stream",
          "text": [
            "\u001b[37m [Mon, 19 Apr 2021 02:28:13] DEBUG [log.py.log_decorator_wrapper:41] <function generate_new_columns_from_gps_data at 0x7f0cb001ee60> END\u001b[0m\n"
          ],
          "name": "stdout"
        },
        {
          "output_type": "stream",
          "text": [
            "DEBUG:ETL:<function generate_new_columns_from_gps_data at 0x7f0cb001ee60> END\n"
          ],
          "name": "stderr"
        },
        {
          "output_type": "stream",
          "text": [
            "\u001b[37m [Mon, 19 Apr 2021 02:28:13] DEBUG [log.py.log_decorator_wrapper:38] <function merge_with_meteo at 0x7f0cb001ef80> START\u001b[0m\n"
          ],
          "name": "stdout"
        },
        {
          "output_type": "stream",
          "text": [
            "DEBUG:ETL:<function merge_with_meteo at 0x7f0cb001ef80> START\n"
          ],
          "name": "stderr"
        },
        {
          "output_type": "stream",
          "text": [
            "\u001b[37m [Mon, 19 Apr 2021 02:28:14] DEBUG [log.py.log_decorator_wrapper:41] <function merge_with_meteo at 0x7f0cb001ef80> END\u001b[0m\n"
          ],
          "name": "stdout"
        },
        {
          "output_type": "stream",
          "text": [
            "DEBUG:ETL:<function merge_with_meteo at 0x7f0cb001ef80> END\n"
          ],
          "name": "stderr"
        },
        {
          "output_type": "stream",
          "text": [
            "\u001b[37m [Mon, 19 Apr 2021 02:28:14] DEBUG [log.py.log_decorator_wrapper:38] <function create_index_ts_date at 0x7f0cb00220e0> START\u001b[0m\n"
          ],
          "name": "stdout"
        },
        {
          "output_type": "stream",
          "text": [
            "DEBUG:ETL:<function create_index_ts_date at 0x7f0cb00220e0> START\n"
          ],
          "name": "stderr"
        },
        {
          "output_type": "stream",
          "text": [
            "\u001b[37m [Mon, 19 Apr 2021 02:28:14] DEBUG [log.py.log_decorator_wrapper:41] <function create_index_ts_date at 0x7f0cb00220e0> END\u001b[0m\n"
          ],
          "name": "stdout"
        },
        {
          "output_type": "stream",
          "text": [
            "DEBUG:ETL:<function create_index_ts_date at 0x7f0cb00220e0> END\n"
          ],
          "name": "stderr"
        },
        {
          "output_type": "stream",
          "text": [
            "\u001b[37m [Mon, 19 Apr 2021 02:28:14] DEBUG [log.py.log_decorator_wrapper:38] <function generate_auxiliar_columns at 0x7f0cb0022200> START\u001b[0m\n"
          ],
          "name": "stdout"
        },
        {
          "output_type": "stream",
          "text": [
            "DEBUG:ETL:<function generate_auxiliar_columns at 0x7f0cb0022200> START\n"
          ],
          "name": "stderr"
        },
        {
          "output_type": "stream",
          "text": [
            "\u001b[37m [Mon, 19 Apr 2021 02:29:53] DEBUG [etl.py.fill_dataframe_by_ut:105] In: 2020-10-23 \u001b[0m\n"
          ],
          "name": "stdout"
        },
        {
          "output_type": "stream",
          "text": [
            "DEBUG:ETL:In: 2020-10-23 \n"
          ],
          "name": "stderr"
        },
        {
          "output_type": "stream",
          "text": [
            "\u001b[37m [Mon, 19 Apr 2021 02:29:56] DEBUG [etl.py.fill_dataframe_by_ut:116] Out: 2020-10-23 \u001b[0m\n"
          ],
          "name": "stdout"
        },
        {
          "output_type": "stream",
          "text": [
            "DEBUG:ETL:Out: 2020-10-23 \n"
          ],
          "name": "stderr"
        },
        {
          "output_type": "stream",
          "text": [
            "4 2884802\n",
            "4 2884802\n",
            "\u001b[37m [Mon, 19 Apr 2021 02:31:52] DEBUG [log.py.log_decorator_wrapper:41] <function generate_auxiliar_columns at 0x7f0cb0022200> END\u001b[0m\n"
          ],
          "name": "stdout"
        },
        {
          "output_type": "stream",
          "text": [
            "DEBUG:ETL:<function generate_auxiliar_columns at 0x7f0cb0022200> END\n"
          ],
          "name": "stderr"
        },
        {
          "output_type": "stream",
          "text": [
            "\u001b[37m [Mon, 19 Apr 2021 02:32:00] DEBUG [log.py.log_decorator_wrapper:38] <function create_categorical at 0x7f0cb0022560> START\u001b[0m\n"
          ],
          "name": "stdout"
        },
        {
          "output_type": "stream",
          "text": [
            "DEBUG:ETL:<function create_categorical at 0x7f0cb0022560> START\n"
          ],
          "name": "stderr"
        },
        {
          "output_type": "stream",
          "text": [
            "\u001b[37m [Mon, 19 Apr 2021 02:32:01] DEBUG [log.py.log_decorator_wrapper:41] <function create_categorical at 0x7f0cb0022560> END\u001b[0m\n"
          ],
          "name": "stdout"
        },
        {
          "output_type": "stream",
          "text": [
            "DEBUG:ETL:<function create_categorical at 0x7f0cb0022560> END\n"
          ],
          "name": "stderr"
        },
        {
          "output_type": "stream",
          "text": [
            "\u001b[37m [Mon, 19 Apr 2021 02:32:01] DEBUG [etl.py.fill_dataframe_by_ut:105] In: 2020-10-23 \u001b[0m\n"
          ],
          "name": "stdout"
        },
        {
          "output_type": "stream",
          "text": [
            "DEBUG:ETL:In: 2020-10-23 \n"
          ],
          "name": "stderr"
        },
        {
          "output_type": "stream",
          "text": [
            "\u001b[37m [Mon, 19 Apr 2021 02:32:03] DEBUG [etl.py.fill_dataframe_by_ut:116] Out: 2020-10-23 \u001b[0m\n"
          ],
          "name": "stdout"
        },
        {
          "output_type": "stream",
          "text": [
            "DEBUG:ETL:Out: 2020-10-23 \n"
          ],
          "name": "stderr"
        },
        {
          "output_type": "stream",
          "text": [
            "\u001b[37m [Mon, 19 Apr 2021 02:32:21] DEBUG [log.py.log_decorator_wrapper:41] <function process_etl at 0x7f0cb00dc5f0> END\u001b[0m\n"
          ],
          "name": "stdout"
        },
        {
          "output_type": "stream",
          "text": [
            "DEBUG:ETL:<function process_etl at 0x7f0cb00dc5f0> END\n"
          ],
          "name": "stderr"
        },
        {
          "output_type": "stream",
          "text": [
            "cafcodingdatos/raw/date=2020-10-24/part-00003-tid-4502735041458916000-1def1e63-76d9-4841-bd06-f798a2422800-4144-4.c000.snappy.parquet\n",
            "cafcodingdatos/raw/date=2020-10-24/part-00022-tid-4502735041458916000-1def1e63-76d9-4841-bd06-f798a2422800-4196-4.c000.snappy.parquet\n",
            "cafcodingdatos/raw/date=2020-10-24/part-00023-tid-4502735041458916000-1def1e63-76d9-4841-bd06-f798a2422800-4120-1.c000.snappy.parquet\n",
            "cafcodingdatos/raw/date=2020-10-24/part-00038-tid-4502735041458916000-1def1e63-76d9-4841-bd06-f798a2422800-4197-3.c000.snappy.parquet\n",
            "cafcodingdatos/raw/date=2020-10-24/part-00059-tid-4502735041458916000-1def1e63-76d9-4841-bd06-f798a2422800-4287-3.c000.snappy.parquet\n",
            "cafcodingdatos/raw/date=2020-10-24/part-00078-tid-4502735041458916000-1def1e63-76d9-4841-bd06-f798a2422800-4140-4.c000.snappy.parquet\n",
            "cafcodingdatos/raw/date=2020-10-24/part-00111-tid-4502735041458916000-1def1e63-76d9-4841-bd06-f798a2422800-4272-3.c000.snappy.parquet\n",
            "cafcodingdatos/raw/date=2020-10-24/part-00126-tid-4502735041458916000-1def1e63-76d9-4841-bd06-f798a2422800-4290-3.c000.snappy.parquet\n",
            "cafcodingdatos/raw/date=2020-10-24/part-00146-tid-4502735041458916000-1def1e63-76d9-4841-bd06-f798a2422800-4223-4.c000.snappy.parquet\n",
            "cafcodingdatos/raw/date=2020-10-24/part-00147-tid-4502735041458916000-1def1e63-76d9-4841-bd06-f798a2422800-4135-1.c000.snappy.parquet\n",
            "cafcodingdatos/raw/date=2020-10-24/part-00167-tid-4502735041458916000-1def1e63-76d9-4841-bd06-f798a2422800-4128-4.c000.snappy.parquet\n",
            "\u001b[37m [Mon, 19 Apr 2021 02:34:12] DEBUG [log.py.log_decorator_wrapper:38] <function process_etl at 0x7f0cb00dc5f0> START\u001b[0m\n"
          ],
          "name": "stdout"
        },
        {
          "output_type": "stream",
          "text": [
            "DEBUG:ETL:<function process_etl at 0x7f0cb00dc5f0> START\n"
          ],
          "name": "stderr"
        },
        {
          "output_type": "stream",
          "text": [
            "\u001b[37m [Mon, 19 Apr 2021 02:34:12] DEBUG [log.py.log_decorator_wrapper:38] <function prepare_data_time at 0x7f0cb00ff5f0> START\u001b[0m\n"
          ],
          "name": "stdout"
        },
        {
          "output_type": "stream",
          "text": [
            "DEBUG:ETL:<function prepare_data_time at 0x7f0cb00ff5f0> START\n"
          ],
          "name": "stderr"
        },
        {
          "output_type": "stream",
          "text": [
            "\u001b[37m [Mon, 19 Apr 2021 02:34:13] DEBUG [log.py.log_decorator_wrapper:41] <function prepare_data_time at 0x7f0cb00ff5f0> END\u001b[0m\n"
          ],
          "name": "stdout"
        },
        {
          "output_type": "stream",
          "text": [
            "DEBUG:ETL:<function prepare_data_time at 0x7f0cb00ff5f0> END\n"
          ],
          "name": "stderr"
        },
        {
          "output_type": "stream",
          "text": [
            "\u001b[32m [Mon, 19 Apr 2021 02:34:13] INFO [etl_step.py.process_etl:38] Filter dates: 2020-10-24 00:00:00 - 2020-10-24 23:59:59\u001b[0m\n"
          ],
          "name": "stdout"
        },
        {
          "output_type": "stream",
          "text": [
            "INFO:ETL:Filter dates: 2020-10-24 00:00:00 - 2020-10-24 23:59:59\n"
          ],
          "name": "stderr"
        },
        {
          "output_type": "stream",
          "text": [
            "\u001b[37m [Mon, 19 Apr 2021 02:34:13] DEBUG [log.py.log_decorator_wrapper:38] <function process_meteo_dataframe at 0x7f0cb001ed40> START\u001b[0m\n"
          ],
          "name": "stdout"
        },
        {
          "output_type": "stream",
          "text": [
            "DEBUG:ETL:<function process_meteo_dataframe at 0x7f0cb001ed40> START\n"
          ],
          "name": "stderr"
        },
        {
          "output_type": "stream",
          "text": [
            "\u001b[37m [Mon, 19 Apr 2021 02:34:13] DEBUG [log.py.log_decorator_wrapper:41] <function process_meteo_dataframe at 0x7f0cb001ed40> END\u001b[0m\n"
          ],
          "name": "stdout"
        },
        {
          "output_type": "stream",
          "text": [
            "DEBUG:ETL:<function process_meteo_dataframe at 0x7f0cb001ed40> END\n"
          ],
          "name": "stderr"
        },
        {
          "output_type": "stream",
          "text": [
            "\u001b[37m [Mon, 19 Apr 2021 02:34:13] DEBUG [etl.py.fill_dataframe_by_ut:105] In: 2020-10-24 \u001b[0m\n"
          ],
          "name": "stdout"
        },
        {
          "output_type": "stream",
          "text": [
            "DEBUG:ETL:In: 2020-10-24 \n"
          ],
          "name": "stderr"
        },
        {
          "output_type": "stream",
          "text": [
            "\u001b[37m [Mon, 19 Apr 2021 02:34:14] DEBUG [etl.py.fill_dataframe_by_ut:116] Out: 2020-10-24 \u001b[0m\n"
          ],
          "name": "stdout"
        },
        {
          "output_type": "stream",
          "text": [
            "DEBUG:ETL:Out: 2020-10-24 \n"
          ],
          "name": "stderr"
        },
        {
          "output_type": "stream",
          "text": [
            "\u001b[37m [Mon, 19 Apr 2021 02:34:14] DEBUG [log.py.log_decorator_wrapper:38] <function generate_new_columns_from_gps_data at 0x7f0cb001ee60> START\u001b[0m\n"
          ],
          "name": "stdout"
        },
        {
          "output_type": "stream",
          "text": [
            "DEBUG:ETL:<function generate_new_columns_from_gps_data at 0x7f0cb001ee60> START\n"
          ],
          "name": "stderr"
        },
        {
          "output_type": "stream",
          "text": [
            "\u001b[37m [Mon, 19 Apr 2021 02:34:32] DEBUG [etl.py.fill_dataframe_by_ut:105] In: 2020-10-24 \u001b[0m\n"
          ],
          "name": "stdout"
        },
        {
          "output_type": "stream",
          "text": [
            "DEBUG:ETL:In: 2020-10-24 \n"
          ],
          "name": "stderr"
        },
        {
          "output_type": "stream",
          "text": [
            "\u001b[37m [Mon, 19 Apr 2021 02:34:33] DEBUG [etl.py.fill_dataframe_by_ut:116] Out: 2020-10-24 \u001b[0m\n"
          ],
          "name": "stdout"
        },
        {
          "output_type": "stream",
          "text": [
            "DEBUG:ETL:Out: 2020-10-24 \n"
          ],
          "name": "stderr"
        },
        {
          "output_type": "stream",
          "text": [
            "\u001b[37m [Mon, 19 Apr 2021 02:36:29] DEBUG [log.py.log_decorator_wrapper:41] <function generate_new_columns_from_gps_data at 0x7f0cb001ee60> END\u001b[0m\n"
          ],
          "name": "stdout"
        },
        {
          "output_type": "stream",
          "text": [
            "DEBUG:ETL:<function generate_new_columns_from_gps_data at 0x7f0cb001ee60> END\n"
          ],
          "name": "stderr"
        },
        {
          "output_type": "stream",
          "text": [
            "\u001b[37m [Mon, 19 Apr 2021 02:36:29] DEBUG [log.py.log_decorator_wrapper:38] <function merge_with_meteo at 0x7f0cb001ef80> START\u001b[0m\n"
          ],
          "name": "stdout"
        },
        {
          "output_type": "stream",
          "text": [
            "DEBUG:ETL:<function merge_with_meteo at 0x7f0cb001ef80> START\n"
          ],
          "name": "stderr"
        },
        {
          "output_type": "stream",
          "text": [
            "\u001b[37m [Mon, 19 Apr 2021 02:36:29] DEBUG [log.py.log_decorator_wrapper:41] <function merge_with_meteo at 0x7f0cb001ef80> END\u001b[0m\n"
          ],
          "name": "stdout"
        },
        {
          "output_type": "stream",
          "text": [
            "DEBUG:ETL:<function merge_with_meteo at 0x7f0cb001ef80> END\n"
          ],
          "name": "stderr"
        },
        {
          "output_type": "stream",
          "text": [
            "\u001b[37m [Mon, 19 Apr 2021 02:36:29] DEBUG [log.py.log_decorator_wrapper:38] <function create_index_ts_date at 0x7f0cb00220e0> START\u001b[0m\n"
          ],
          "name": "stdout"
        },
        {
          "output_type": "stream",
          "text": [
            "DEBUG:ETL:<function create_index_ts_date at 0x7f0cb00220e0> START\n"
          ],
          "name": "stderr"
        },
        {
          "output_type": "stream",
          "text": [
            "\u001b[37m [Mon, 19 Apr 2021 02:36:29] DEBUG [log.py.log_decorator_wrapper:41] <function create_index_ts_date at 0x7f0cb00220e0> END\u001b[0m\n"
          ],
          "name": "stdout"
        },
        {
          "output_type": "stream",
          "text": [
            "DEBUG:ETL:<function create_index_ts_date at 0x7f0cb00220e0> END\n"
          ],
          "name": "stderr"
        },
        {
          "output_type": "stream",
          "text": [
            "\u001b[37m [Mon, 19 Apr 2021 02:36:29] DEBUG [log.py.log_decorator_wrapper:38] <function generate_auxiliar_columns at 0x7f0cb0022200> START\u001b[0m\n"
          ],
          "name": "stdout"
        },
        {
          "output_type": "stream",
          "text": [
            "DEBUG:ETL:<function generate_auxiliar_columns at 0x7f0cb0022200> START\n"
          ],
          "name": "stderr"
        },
        {
          "output_type": "stream",
          "text": [
            "\u001b[37m [Mon, 19 Apr 2021 02:37:57] DEBUG [etl.py.fill_dataframe_by_ut:105] In: 2020-10-24 \u001b[0m\n"
          ],
          "name": "stdout"
        },
        {
          "output_type": "stream",
          "text": [
            "DEBUG:ETL:In: 2020-10-24 \n"
          ],
          "name": "stderr"
        },
        {
          "output_type": "stream",
          "text": [
            "\u001b[37m [Mon, 19 Apr 2021 02:38:00] DEBUG [etl.py.fill_dataframe_by_ut:116] Out: 2020-10-24 \u001b[0m\n"
          ],
          "name": "stdout"
        },
        {
          "output_type": "stream",
          "text": [
            "DEBUG:ETL:Out: 2020-10-24 \n"
          ],
          "name": "stderr"
        },
        {
          "output_type": "stream",
          "text": [
            "\u001b[37m [Mon, 19 Apr 2021 02:39:45] DEBUG [log.py.log_decorator_wrapper:41] <function generate_auxiliar_columns at 0x7f0cb0022200> END\u001b[0m\n"
          ],
          "name": "stdout"
        },
        {
          "output_type": "stream",
          "text": [
            "DEBUG:ETL:<function generate_auxiliar_columns at 0x7f0cb0022200> END\n"
          ],
          "name": "stderr"
        },
        {
          "output_type": "stream",
          "text": [
            "\u001b[37m [Mon, 19 Apr 2021 02:39:52] DEBUG [log.py.log_decorator_wrapper:38] <function create_categorical at 0x7f0cb0022560> START\u001b[0m\n"
          ],
          "name": "stdout"
        },
        {
          "output_type": "stream",
          "text": [
            "DEBUG:ETL:<function create_categorical at 0x7f0cb0022560> START\n"
          ],
          "name": "stderr"
        },
        {
          "output_type": "stream",
          "text": [
            "\u001b[37m [Mon, 19 Apr 2021 02:39:53] DEBUG [log.py.log_decorator_wrapper:41] <function create_categorical at 0x7f0cb0022560> END\u001b[0m\n"
          ],
          "name": "stdout"
        },
        {
          "output_type": "stream",
          "text": [
            "DEBUG:ETL:<function create_categorical at 0x7f0cb0022560> END\n"
          ],
          "name": "stderr"
        },
        {
          "output_type": "stream",
          "text": [
            "\u001b[37m [Mon, 19 Apr 2021 02:39:53] DEBUG [etl.py.fill_dataframe_by_ut:105] In: 2020-10-24 \u001b[0m\n"
          ],
          "name": "stdout"
        },
        {
          "output_type": "stream",
          "text": [
            "DEBUG:ETL:In: 2020-10-24 \n"
          ],
          "name": "stderr"
        },
        {
          "output_type": "stream",
          "text": [
            "\u001b[37m [Mon, 19 Apr 2021 02:39:55] DEBUG [etl.py.fill_dataframe_by_ut:116] Out: 2020-10-24 \u001b[0m\n"
          ],
          "name": "stdout"
        },
        {
          "output_type": "stream",
          "text": [
            "DEBUG:ETL:Out: 2020-10-24 \n"
          ],
          "name": "stderr"
        },
        {
          "output_type": "stream",
          "text": [
            "\u001b[37m [Mon, 19 Apr 2021 02:40:11] DEBUG [log.py.log_decorator_wrapper:41] <function process_etl at 0x7f0cb00dc5f0> END\u001b[0m\n"
          ],
          "name": "stdout"
        },
        {
          "output_type": "stream",
          "text": [
            "DEBUG:ETL:<function process_etl at 0x7f0cb00dc5f0> END\n"
          ],
          "name": "stderr"
        },
        {
          "output_type": "stream",
          "text": [
            "cafcodingdatos/raw/date=2020-10-25/part-00023-tid-4502735041458916000-1def1e63-76d9-4841-bd06-f798a2422800-4120-2.c000.snappy.parquet\n",
            "cafcodingdatos/raw/date=2020-10-25/part-00038-tid-4502735041458916000-1def1e63-76d9-4841-bd06-f798a2422800-4197-4.c000.snappy.parquet\n",
            "cafcodingdatos/raw/date=2020-10-25/part-00059-tid-4502735041458916000-1def1e63-76d9-4841-bd06-f798a2422800-4287-4.c000.snappy.parquet\n",
            "cafcodingdatos/raw/date=2020-10-25/part-00078-tid-4502735041458916000-1def1e63-76d9-4841-bd06-f798a2422800-4140-5.c000.snappy.parquet\n",
            "cafcodingdatos/raw/date=2020-10-25/part-00094-tid-4502735041458916000-1def1e63-76d9-4841-bd06-f798a2422800-4141-9.c000.snappy.parquet\n",
            "cafcodingdatos/raw/date=2020-10-25/part-00095-tid-4502735041458916000-1def1e63-76d9-4841-bd06-f798a2422800-4179-1.c000.snappy.parquet\n",
            "cafcodingdatos/raw/date=2020-10-25/part-00126-tid-4502735041458916000-1def1e63-76d9-4841-bd06-f798a2422800-4290-4.c000.snappy.parquet\n",
            "cafcodingdatos/raw/date=2020-10-25/part-00147-tid-4502735041458916000-1def1e63-76d9-4841-bd06-f798a2422800-4135-2.c000.snappy.parquet\n",
            "cafcodingdatos/raw/date=2020-10-25/part-00167-tid-4502735041458916000-1def1e63-76d9-4841-bd06-f798a2422800-4128-5.c000.snappy.parquet\n",
            "\u001b[37m [Mon, 19 Apr 2021 02:41:32] DEBUG [log.py.log_decorator_wrapper:38] <function process_etl at 0x7f0cb00dc5f0> START\u001b[0m\n"
          ],
          "name": "stdout"
        },
        {
          "output_type": "stream",
          "text": [
            "DEBUG:ETL:<function process_etl at 0x7f0cb00dc5f0> START\n"
          ],
          "name": "stderr"
        },
        {
          "output_type": "stream",
          "text": [
            "\u001b[37m [Mon, 19 Apr 2021 02:41:32] DEBUG [log.py.log_decorator_wrapper:38] <function prepare_data_time at 0x7f0cb00ff5f0> START\u001b[0m\n"
          ],
          "name": "stdout"
        },
        {
          "output_type": "stream",
          "text": [
            "DEBUG:ETL:<function prepare_data_time at 0x7f0cb00ff5f0> START\n"
          ],
          "name": "stderr"
        },
        {
          "output_type": "stream",
          "text": [
            "\u001b[37m [Mon, 19 Apr 2021 02:41:33] DEBUG [log.py.log_decorator_wrapper:41] <function prepare_data_time at 0x7f0cb00ff5f0> END\u001b[0m\n"
          ],
          "name": "stdout"
        },
        {
          "output_type": "stream",
          "text": [
            "DEBUG:ETL:<function prepare_data_time at 0x7f0cb00ff5f0> END\n"
          ],
          "name": "stderr"
        },
        {
          "output_type": "stream",
          "text": [
            "\u001b[32m [Mon, 19 Apr 2021 02:41:33] INFO [etl_step.py.process_etl:38] Filter dates: 2020-10-25 00:00:00 - 2020-10-25 23:59:59\u001b[0m\n"
          ],
          "name": "stdout"
        },
        {
          "output_type": "stream",
          "text": [
            "INFO:ETL:Filter dates: 2020-10-25 00:00:00 - 2020-10-25 23:59:59\n"
          ],
          "name": "stderr"
        },
        {
          "output_type": "stream",
          "text": [
            "\u001b[37m [Mon, 19 Apr 2021 02:41:33] DEBUG [log.py.log_decorator_wrapper:38] <function process_meteo_dataframe at 0x7f0cb001ed40> START\u001b[0m\n"
          ],
          "name": "stdout"
        },
        {
          "output_type": "stream",
          "text": [
            "DEBUG:ETL:<function process_meteo_dataframe at 0x7f0cb001ed40> START\n"
          ],
          "name": "stderr"
        },
        {
          "output_type": "stream",
          "text": [
            "\u001b[37m [Mon, 19 Apr 2021 02:41:33] DEBUG [log.py.log_decorator_wrapper:41] <function process_meteo_dataframe at 0x7f0cb001ed40> END\u001b[0m\n"
          ],
          "name": "stdout"
        },
        {
          "output_type": "stream",
          "text": [
            "DEBUG:ETL:<function process_meteo_dataframe at 0x7f0cb001ed40> END\n"
          ],
          "name": "stderr"
        },
        {
          "output_type": "stream",
          "text": [
            "\u001b[37m [Mon, 19 Apr 2021 02:41:33] DEBUG [etl.py.fill_dataframe_by_ut:105] In: 2020-10-25 \u001b[0m\n"
          ],
          "name": "stdout"
        },
        {
          "output_type": "stream",
          "text": [
            "DEBUG:ETL:In: 2020-10-25 \n"
          ],
          "name": "stderr"
        },
        {
          "output_type": "stream",
          "text": [
            "\u001b[37m [Mon, 19 Apr 2021 02:41:34] DEBUG [etl.py.fill_dataframe_by_ut:116] Out: 2020-10-25 \u001b[0m\n"
          ],
          "name": "stdout"
        },
        {
          "output_type": "stream",
          "text": [
            "DEBUG:ETL:Out: 2020-10-25 \n"
          ],
          "name": "stderr"
        },
        {
          "output_type": "stream",
          "text": [
            "\u001b[37m [Mon, 19 Apr 2021 02:41:34] DEBUG [log.py.log_decorator_wrapper:38] <function generate_new_columns_from_gps_data at 0x7f0cb001ee60> START\u001b[0m\n"
          ],
          "name": "stdout"
        },
        {
          "output_type": "stream",
          "text": [
            "DEBUG:ETL:<function generate_new_columns_from_gps_data at 0x7f0cb001ee60> START\n"
          ],
          "name": "stderr"
        },
        {
          "output_type": "stream",
          "text": [
            "\u001b[37m [Mon, 19 Apr 2021 02:41:46] DEBUG [etl.py.fill_dataframe_by_ut:105] In: 2020-10-25 \u001b[0m\n"
          ],
          "name": "stdout"
        },
        {
          "output_type": "stream",
          "text": [
            "DEBUG:ETL:In: 2020-10-25 \n"
          ],
          "name": "stderr"
        },
        {
          "output_type": "stream",
          "text": [
            "\u001b[37m [Mon, 19 Apr 2021 02:41:47] DEBUG [etl.py.fill_dataframe_by_ut:116] Out: 2020-10-25 \u001b[0m\n"
          ],
          "name": "stdout"
        },
        {
          "output_type": "stream",
          "text": [
            "DEBUG:ETL:Out: 2020-10-25 \n"
          ],
          "name": "stderr"
        }
      ]
    },
    {
      "cell_type": "code",
      "metadata": {
        "id": "56UuRrcZjHQF"
      },
      "source": [
        "df.head()"
      ],
      "execution_count": null,
      "outputs": []
    }
  ]
}