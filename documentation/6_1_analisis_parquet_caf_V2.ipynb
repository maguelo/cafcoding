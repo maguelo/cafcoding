{
  "nbformat": 4,
  "nbformat_minor": 0,
  "metadata": {
    "colab": {
      "name": "6.1_analisis_parquet_caf V2.ipynb",
      "provenance": [],
      "collapsed_sections": []
    },
    "kernelspec": {
      "display_name": "Python 3",
      "name": "python3"
    }
  },
  "cells": [
    {
      "cell_type": "markdown",
      "metadata": {
        "id": "-ve4auK2LD_B"
      },
      "source": [
        "\n",
        "# 1. Analisis inicial de parquet\n"
      ]
    },
    {
      "cell_type": "code",
      "metadata": {
        "id": "ETtTW_gLurzm"
      },
      "source": [
        "import pyarrow.parquet as pq\n",
        "import os"
      ],
      "execution_count": 1,
      "outputs": []
    },
    {
      "cell_type": "markdown",
      "metadata": {
        "id": "Q4WhvOsP0uIm"
      },
      "source": [
        "# Cargamos el dataset\n",
        "\n"
      ]
    },
    {
      "cell_type": "code",
      "metadata": {
        "colab": {
          "base_uri": "https://localhost:8080/"
        },
        "id": "3VNCJ1imK5Ip",
        "outputId": "502e6d13-093e-4c68-c695-b4ca9dac9735"
      },
      "source": [
        "from google.colab import drive\n",
        "drive.mount('/content/drive')"
      ],
      "execution_count": 2,
      "outputs": [
        {
          "output_type": "stream",
          "text": [
            "Mounted at /content/drive\n"
          ],
          "name": "stdout"
        }
      ]
    },
    {
      "cell_type": "code",
      "metadata": {
        "id": "Xl2Y7qR_PE2X"
      },
      "source": [
        "# Miercoles no festivo\n",
        "parquet_path = \"/content/drive/MyDrive/CAFcoding/dataset/example_parquet/date=2020-11-18/\""
      ],
      "execution_count": 3,
      "outputs": []
    },
    {
      "cell_type": "markdown",
      "metadata": {
        "id": "hbwHegKMO3k8"
      },
      "source": [
        "# Analizamos Parquet\n"
      ]
    },
    {
      "cell_type": "code",
      "metadata": {
        "id": "F27EjJ0dO2eg"
      },
      "source": [
        "parquet_file = pq.ParquetFile(os.path.join(parquet_path,\"part-00008-tid-4502735041458916000-1def1e63-76d9-4841-bd06-f798a2422800-4252-2.c000.snappy.parquet\"))\n"
      ],
      "execution_count": 4,
      "outputs": []
    },
    {
      "cell_type": "code",
      "metadata": {
        "colab": {
          "base_uri": "https://localhost:8080/"
        },
        "id": "AMjxMLoLPids",
        "outputId": "b59bab2b-ded5-4282-9cda-f01d4b9c9343"
      },
      "source": [
        "parquet_file.metadata"
      ],
      "execution_count": 5,
      "outputs": [
        {
          "output_type": "execute_result",
          "data": {
            "text/plain": [
              "<pyarrow._parquet.FileMetaData object at 0x7f5f2d562e30>\n",
              "  created_by: parquet-mr version 1.10.1-databricks6 (build bd2ebc87e42b3936ac673e1556fa10fb8358307a)\n",
              "  num_columns: 74\n",
              "  num_rows: 86400\n",
              "  num_row_groups: 1\n",
              "  format_version: 1.0\n",
              "  serialized_size: 14987"
            ]
          },
          "metadata": {
            "tags": []
          },
          "execution_count": 5
        }
      ]
    },
    {
      "cell_type": "markdown",
      "metadata": {
        "id": "eIzSuYMzQL4H"
      },
      "source": [
        "**Como es version 1.0 tenemos que hacer un par de modificaciones en el fichero para ser capaces de tener resoluciones de milisegundos o microsegundos**"
      ]
    },
    {
      "cell_type": "code",
      "metadata": {
        "colab": {
          "base_uri": "https://localhost:8080/"
        },
        "id": "bNnsXutnSqNa",
        "outputId": "71095211-0d8c-45ba-8851-e69c73bd1863"
      },
      "source": [
        "dataset = pq.ParquetDataset(parquet_path)\n",
        "print (dataset.schema)\n"
      ],
      "execution_count": 6,
      "outputs": [
        {
          "output_type": "stream",
          "text": [
            "<pyarrow._parquet.ParquetSchema object at 0x7f5f2d45c230>\n",
            "required group field_id=0 spark_schema {\n",
            "  optional int32 field_id=1 ut;\n",
            "  optional int96 field_id=2 ts_date;\n",
            "  optional double field_id=3 TCU1_LinePowerConsumed;\n",
            "  optional double field_id=4 TCU1_LinePowerDissipated;\n",
            "  optional double field_id=5 TCU1_LinePowerReturned;\n",
            "  optional double field_id=6 TCU2_LinePowerConsumed;\n",
            "  optional double field_id=7 TCU2_LinePowerDissipated;\n",
            "  optional double field_id=8 TCU2_LinePowerReturned;\n",
            "  optional double field_id=9 TCU3_LinePowerConsumed;\n",
            "  optional double field_id=10 TCU3_LinePowerDissipated;\n",
            "  optional double field_id=11 TCU3_LinePowerReturned;\n",
            "  optional double field_id=12 TCU4_LinePowerConsumed;\n",
            "  optional double field_id=13 TCU4_LinePowerDissipated;\n",
            "  optional double field_id=14 TCU4_LinePowerReturned;\n",
            "  optional double field_id=15 TCU1_DCBusVoltage;\n",
            "  optional double field_id=16 TCU2_DCBusVoltage;\n",
            "  optional double field_id=17 TCU3_DCBusVoltage;\n",
            "  optional double field_id=18 TCU4_DCBusVoltage;\n",
            "  optional double field_id=19 TCU1_CatenaryVoltage;\n",
            "  optional double field_id=20 TCU2_CatenaryVoltage;\n",
            "  optional double field_id=21 TCU3_CatenaryVoltage;\n",
            "  optional double field_id=22 TCU4_CatenaryVoltage;\n",
            "  optional double field_id=23 TCU1_Axle1Speed;\n",
            "  optional double field_id=24 TCU2_Axle1Speed;\n",
            "  optional double field_id=25 TCU3_Axle1Speed;\n",
            "  optional double field_id=26 TCU4_Axle1Speed;\n",
            "  optional double field_id=27 TCU1_Axle2Speed;\n",
            "  optional double field_id=28 TCU2_Axle2Speed;\n",
            "  optional double field_id=29 TCU3_Axle2Speed;\n",
            "  optional double field_id=30 TCU4_Axle2Speed;\n",
            "  optional double field_id=31 ER_TotKm;\n",
            "  optional boolean field_id=32 Manual;\n",
            "  optional boolean field_id=33 ImpSpeedMode;\n",
            "  optional boolean field_id=34 ManEficient;\n",
            "  optional boolean field_id=35 ManeuverMode;\n",
            "  optional boolean field_id=36 AutoEficient;\n",
            "  optional boolean field_id=37 Coupled;\n",
            "  optional double field_id=38 TCU1_ElecEffApp;\n",
            "  optional double field_id=39 TCU2_ElecEffApp;\n",
            "  optional double field_id=40 TCU3_ElecEffApp;\n",
            "  optional double field_id=41 TCU4_ElecEffApp;\n",
            "  optional double field_id=42 PLC_TRACTION_BRAKE_COMMAND;\n",
            "  optional double field_id=43 PLC_Speed;\n",
            "  optional double field_id=44 PLC_TempExt;\n",
            "  optional int32 field_id=45 PLC_DS_CAB1 (Int(bitWidth=8, isSigned=true));\n",
            "  optional int32 field_id=46 PLC_DS_CAB2 (Int(bitWidth=8, isSigned=true));\n",
            "  optional int32 field_id=47 EPAC1_WSP_Acting (Int(bitWidth=16, isSigned=true));\n",
            "  optional int32 field_id=48 EPAC2_WSP_Acting (Int(bitWidth=16, isSigned=true));\n",
            "  optional double field_id=49 PLC_MassM1;\n",
            "  optional double field_id=50 PLC_MassM2;\n",
            "  optional double field_id=51 PLC_MassR1;\n",
            "  optional double field_id=52 PLC_MassR2;\n",
            "  optional double field_id=53 PLC_VLinea_M1;\n",
            "  optional double field_id=54 PLC_VLinea_M2;\n",
            "  optional binary field_id=55 ER_EUIdSenal1 (String);\n",
            "  optional binary field_id=56 ER_EUIdSenal2 (String);\n",
            "  optional binary field_id=57 ER_EUIdSenal3 (String);\n",
            "  optional binary field_id=58 ER_EUIdSenal4 (String);\n",
            "  optional binary field_id=59 ER_EUIdSenal5 (String);\n",
            "  optional binary field_id=60 ER_EUIdSenal6 (String);\n",
            "  optional binary field_id=61 ER_EUIdSenal7 (String);\n",
            "  optional binary field_id=62 ER_EUIdSenal8 (String);\n",
            "  optional int32 field_id=63 PLC_MASTER_CONTROLLER_POS (Int(bitWidth=8, isSigned=true));\n",
            "  optional double field_id=64 SI_GPS_LatS;\n",
            "  optional double field_id=65 SI_GPS_LatM;\n",
            "  optional double field_id=66 SI_GPS_LatG;\n",
            "  optional double field_id=67 SI_GPS_LatFracS;\n",
            "  optional double field_id=68 SI_GPS_LonG;\n",
            "  optional double field_id=69 SI_GPS_LonM;\n",
            "  optional double field_id=70 SI_GPS_LonS;\n",
            "  optional double field_id=71 SI_GPS_LonFracS;\n",
            "  optional double field_id=72 SI_GPS_Speed;\n",
            "  optional boolean field_id=73 Norte;\n",
            "  optional boolean field_id=74 Este;\n",
            "}\n",
            "\n"
          ],
          "name": "stdout"
        }
      ]
    },
    {
      "cell_type": "code",
      "metadata": {
        "id": "F09aQ7sgSuM7"
      },
      "source": [
        "table = dataset.read()"
      ],
      "execution_count": 7,
      "outputs": []
    },
    {
      "cell_type": "code",
      "metadata": {
        "colab": {
          "base_uri": "https://localhost:8080/"
        },
        "id": "UslWreA7UcFG",
        "outputId": "a0fc2f55-eab4-47fb-ea0e-77bb3666698c"
      },
      "source": [
        "table.schema"
      ],
      "execution_count": 8,
      "outputs": [
        {
          "output_type": "execute_result",
          "data": {
            "text/plain": [
              "ut: int32\n",
              "  -- field metadata --\n",
              "  PARQUET:field_id: '1'\n",
              "ts_date: timestamp[ns]\n",
              "  -- field metadata --\n",
              "  PARQUET:field_id: '2'\n",
              "TCU1_LinePowerConsumed: double\n",
              "  -- field metadata --\n",
              "  PARQUET:field_id: '3'\n",
              "TCU1_LinePowerDissipated: double\n",
              "  -- field metadata --\n",
              "  PARQUET:field_id: '4'\n",
              "TCU1_LinePowerReturned: double\n",
              "  -- field metadata --\n",
              "  PARQUET:field_id: '5'\n",
              "TCU2_LinePowerConsumed: double\n",
              "  -- field metadata --\n",
              "  PARQUET:field_id: '6'\n",
              "TCU2_LinePowerDissipated: double\n",
              "  -- field metadata --\n",
              "  PARQUET:field_id: '7'\n",
              "TCU2_LinePowerReturned: double\n",
              "  -- field metadata --\n",
              "  PARQUET:field_id: '8'\n",
              "TCU3_LinePowerConsumed: double\n",
              "  -- field metadata --\n",
              "  PARQUET:field_id: '9'\n",
              "TCU3_LinePowerDissipated: double\n",
              "  -- field metadata --\n",
              "  PARQUET:field_id: '10'\n",
              "TCU3_LinePowerReturned: double\n",
              "  -- field metadata --\n",
              "  PARQUET:field_id: '11'\n",
              "TCU4_LinePowerConsumed: double\n",
              "  -- field metadata --\n",
              "  PARQUET:field_id: '12'\n",
              "TCU4_LinePowerDissipated: double\n",
              "  -- field metadata --\n",
              "  PARQUET:field_id: '13'\n",
              "TCU4_LinePowerReturned: double\n",
              "  -- field metadata --\n",
              "  PARQUET:field_id: '14'\n",
              "TCU1_DCBusVoltage: double\n",
              "  -- field metadata --\n",
              "  PARQUET:field_id: '15'\n",
              "TCU2_DCBusVoltage: double\n",
              "  -- field metadata --\n",
              "  PARQUET:field_id: '16'\n",
              "TCU3_DCBusVoltage: double\n",
              "  -- field metadata --\n",
              "  PARQUET:field_id: '17'\n",
              "TCU4_DCBusVoltage: double\n",
              "  -- field metadata --\n",
              "  PARQUET:field_id: '18'\n",
              "TCU1_CatenaryVoltage: double\n",
              "  -- field metadata --\n",
              "  PARQUET:field_id: '19'\n",
              "TCU2_CatenaryVoltage: double\n",
              "  -- field metadata --\n",
              "  PARQUET:field_id: '20'\n",
              "TCU3_CatenaryVoltage: double\n",
              "  -- field metadata --\n",
              "  PARQUET:field_id: '21'\n",
              "TCU4_CatenaryVoltage: double\n",
              "  -- field metadata --\n",
              "  PARQUET:field_id: '22'\n",
              "TCU1_Axle1Speed: double\n",
              "  -- field metadata --\n",
              "  PARQUET:field_id: '23'\n",
              "TCU2_Axle1Speed: double\n",
              "  -- field metadata --\n",
              "  PARQUET:field_id: '24'\n",
              "TCU3_Axle1Speed: double\n",
              "  -- field metadata --\n",
              "  PARQUET:field_id: '25'\n",
              "TCU4_Axle1Speed: double\n",
              "  -- field metadata --\n",
              "  PARQUET:field_id: '26'\n",
              "TCU1_Axle2Speed: double\n",
              "  -- field metadata --\n",
              "  PARQUET:field_id: '27'\n",
              "TCU2_Axle2Speed: double\n",
              "  -- field metadata --\n",
              "  PARQUET:field_id: '28'\n",
              "TCU3_Axle2Speed: double\n",
              "  -- field metadata --\n",
              "  PARQUET:field_id: '29'\n",
              "TCU4_Axle2Speed: double\n",
              "  -- field metadata --\n",
              "  PARQUET:field_id: '30'\n",
              "ER_TotKm: double\n",
              "  -- field metadata --\n",
              "  PARQUET:field_id: '31'\n",
              "Manual: bool\n",
              "  -- field metadata --\n",
              "  PARQUET:field_id: '32'\n",
              "ImpSpeedMode: bool\n",
              "  -- field metadata --\n",
              "  PARQUET:field_id: '33'\n",
              "ManEficient: bool\n",
              "  -- field metadata --\n",
              "  PARQUET:field_id: '34'\n",
              "ManeuverMode: bool\n",
              "  -- field metadata --\n",
              "  PARQUET:field_id: '35'\n",
              "AutoEficient: bool\n",
              "  -- field metadata --\n",
              "  PARQUET:field_id: '36'\n",
              "Coupled: bool\n",
              "  -- field metadata --\n",
              "  PARQUET:field_id: '37'\n",
              "TCU1_ElecEffApp: double\n",
              "  -- field metadata --\n",
              "  PARQUET:field_id: '38'\n",
              "TCU2_ElecEffApp: double\n",
              "  -- field metadata --\n",
              "  PARQUET:field_id: '39'\n",
              "TCU3_ElecEffApp: double\n",
              "  -- field metadata --\n",
              "  PARQUET:field_id: '40'\n",
              "TCU4_ElecEffApp: double\n",
              "  -- field metadata --\n",
              "  PARQUET:field_id: '41'\n",
              "PLC_TRACTION_BRAKE_COMMAND: double\n",
              "  -- field metadata --\n",
              "  PARQUET:field_id: '42'\n",
              "PLC_Speed: double\n",
              "  -- field metadata --\n",
              "  PARQUET:field_id: '43'\n",
              "PLC_TempExt: double\n",
              "  -- field metadata --\n",
              "  PARQUET:field_id: '44'\n",
              "PLC_DS_CAB1: int8\n",
              "  -- field metadata --\n",
              "  PARQUET:field_id: '45'\n",
              "PLC_DS_CAB2: int8\n",
              "  -- field metadata --\n",
              "  PARQUET:field_id: '46'\n",
              "EPAC1_WSP_Acting: int16\n",
              "  -- field metadata --\n",
              "  PARQUET:field_id: '47'\n",
              "EPAC2_WSP_Acting: int16\n",
              "  -- field metadata --\n",
              "  PARQUET:field_id: '48'\n",
              "PLC_MassM1: double\n",
              "  -- field metadata --\n",
              "  PARQUET:field_id: '49'\n",
              "PLC_MassM2: double\n",
              "  -- field metadata --\n",
              "  PARQUET:field_id: '50'\n",
              "PLC_MassR1: double\n",
              "  -- field metadata --\n",
              "  PARQUET:field_id: '51'\n",
              "PLC_MassR2: double\n",
              "  -- field metadata --\n",
              "  PARQUET:field_id: '52'\n",
              "PLC_VLinea_M1: double\n",
              "  -- field metadata --\n",
              "  PARQUET:field_id: '53'\n",
              "PLC_VLinea_M2: double\n",
              "  -- field metadata --\n",
              "  PARQUET:field_id: '54'\n",
              "ER_EUIdSenal1: string\n",
              "  -- field metadata --\n",
              "  PARQUET:field_id: '55'\n",
              "ER_EUIdSenal2: string\n",
              "  -- field metadata --\n",
              "  PARQUET:field_id: '56'\n",
              "ER_EUIdSenal3: string\n",
              "  -- field metadata --\n",
              "  PARQUET:field_id: '57'\n",
              "ER_EUIdSenal4: string\n",
              "  -- field metadata --\n",
              "  PARQUET:field_id: '58'\n",
              "ER_EUIdSenal5: string\n",
              "  -- field metadata --\n",
              "  PARQUET:field_id: '59'\n",
              "ER_EUIdSenal6: string\n",
              "  -- field metadata --\n",
              "  PARQUET:field_id: '60'\n",
              "ER_EUIdSenal7: string\n",
              "  -- field metadata --\n",
              "  PARQUET:field_id: '61'\n",
              "ER_EUIdSenal8: string\n",
              "  -- field metadata --\n",
              "  PARQUET:field_id: '62'\n",
              "PLC_MASTER_CONTROLLER_POS: int8\n",
              "  -- field metadata --\n",
              "  PARQUET:field_id: '63'\n",
              "SI_GPS_LatS: double\n",
              "  -- field metadata --\n",
              "  PARQUET:field_id: '64'\n",
              "SI_GPS_LatM: double\n",
              "  -- field metadata --\n",
              "  PARQUET:field_id: '65'\n",
              "SI_GPS_LatG: double\n",
              "  -- field metadata --\n",
              "  PARQUET:field_id: '66'\n",
              "SI_GPS_LatFracS: double\n",
              "  -- field metadata --\n",
              "  PARQUET:field_id: '67'\n",
              "SI_GPS_LonG: double\n",
              "  -- field metadata --\n",
              "  PARQUET:field_id: '68'\n",
              "SI_GPS_LonM: double\n",
              "  -- field metadata --\n",
              "  PARQUET:field_id: '69'\n",
              "SI_GPS_LonS: double\n",
              "  -- field metadata --\n",
              "  PARQUET:field_id: '70'\n",
              "SI_GPS_LonFracS: double\n",
              "  -- field metadata --\n",
              "  PARQUET:field_id: '71'\n",
              "SI_GPS_Speed: double\n",
              "  -- field metadata --\n",
              "  PARQUET:field_id: '72'\n",
              "Norte: bool\n",
              "  -- field metadata --\n",
              "  PARQUET:field_id: '73'\n",
              "Este: bool\n",
              "  -- field metadata --\n",
              "  PARQUET:field_id: '74'\n",
              "-- schema metadata --\n",
              "org.apache.spark.version: '3.0.1'\n",
              "org.apache.spark.sql.parquet.row.metadata: '{\"type\":\"struct\",\"fields\":[{\"' + 5384"
            ]
          },
          "metadata": {
            "tags": []
          },
          "execution_count": 8
        }
      ]
    },
    {
      "cell_type": "code",
      "metadata": {
        "colab": {
          "base_uri": "https://localhost:8080/"
        },
        "id": "JM3DD6g0wr7t",
        "outputId": "45c9530b-d871-43a9-d756-1446fcbcc593"
      },
      "source": [
        "type(table)"
      ],
      "execution_count": 9,
      "outputs": [
        {
          "output_type": "execute_result",
          "data": {
            "text/plain": [
              "pyarrow.lib.Table"
            ]
          },
          "metadata": {
            "tags": []
          },
          "execution_count": 9
        }
      ]
    }
  ]
}